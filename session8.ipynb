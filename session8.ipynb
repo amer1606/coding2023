{
  "nbformat": 4,
  "nbformat_minor": 0,
  "metadata": {
    "colab": {
      "provenance": [],
      "authorship_tag": "ABX9TyOdUzvi/4n5OV5sdA9BMGOd",
      "include_colab_link": true
    },
    "kernelspec": {
      "name": "python3",
      "display_name": "Python 3"
    },
    "language_info": {
      "name": "python"
    }
  },
  "cells": [
    {
      "cell_type": "markdown",
      "metadata": {
        "id": "view-in-github",
        "colab_type": "text"
      },
      "source": [
        "<a href=\"https://colab.research.google.com/github/misrori/coding2023/blob/main/session8.ipynb\" target=\"_parent\"><img src=\"https://colab.research.google.com/assets/colab-badge.svg\" alt=\"Open In Colab\"/></a>"
      ]
    },
    {
      "cell_type": "markdown",
      "source": [
        "#OOP\n"
      ],
      "metadata": {
        "id": "1Xr6hjj5YSd0"
      }
    },
    {
      "cell_type": "code",
      "source": [
        "class BankAccount:\n",
        "    def __init__(self, account_holder, initial_balance=0):\n",
        "        self.account_holder = account_holder\n",
        "        self.balance = initial_balance\n",
        "\n",
        "    def deposit(self, amount):\n",
        "        if amount > 0:\n",
        "            self.balance += amount\n",
        "            return f\"${amount} deposited. New balance: ${self.balance}\"\n",
        "        else:\n",
        "            return \"Invalid deposit amount.\"\n",
        "\n",
        "    def withdraw(self, amount):\n",
        "        if amount > 0 and amount <= self.balance:\n",
        "            self.balance -= amount\n",
        "            return f\"${amount} withdrawn. New balance: ${self.balance}\"\n",
        "        elif amount > self.balance:\n",
        "            return f\"Insufficient funds. Your balance is ${self.balance} you can not withdraw ${amount}!\"\n",
        "        else:\n",
        "            return \"Invalid withdrawal amount.\"\n",
        "\n",
        "    def display_balance(self):\n",
        "        return f\"Account balance for {self.account_holder}: ${self.balance}\"\n",
        "\n",
        "# Example usage:\n",
        "account1 = BankAccount(\"Alice\", 1000)\n",
        "print(account1.display_balance())\n",
        "print(account1.deposit(500))\n",
        "print(account1.withdraw(2500))\n",
        "print(account1.withdraw(200))\n"
      ],
      "metadata": {
        "colab": {
          "base_uri": "https://localhost:8080/"
        },
        "id": "o00HWx2yYRza",
        "outputId": "f93f5c86-7dc1-4943-f986-b41aa09ac12d"
      },
      "execution_count": null,
      "outputs": [
        {
          "output_type": "stream",
          "name": "stdout",
          "text": [
            "Account balance for Alice: $1000\n",
            "$500 deposited. New balance: $1500\n",
            "Insufficient funds. Your balance is $1500 you can not withdraw 2500\n",
            "$200 withdrawn. New balance: $1300\n"
          ]
        }
      ]
    },
    {
      "cell_type": "markdown",
      "source": [
        "# Task\n",
        "Create ten random Bankaccount into a list name(5 random character) and random amount between 1000, and 10000\n",
        "\n",
        "Than find the name of the person who has the most money\n"
      ],
      "metadata": {
        "id": "XO5fV1XOizba"
      }
    },
    {
      "cell_type": "code",
      "source": [
        "import random\n",
        "import string\n",
        "\n",
        "# Generate random bank accounts\n",
        "def generate_random_name():\n",
        "    return ''.join(random.choice(string.ascii_uppercase) for _ in range(5))\n",
        "\n",
        "\n",
        "bank_accounts = []\n",
        "\n",
        "for _ in range(10):\n",
        "    name = generate_random_name()\n",
        "    balance = random.randint(1000, 10000)\n",
        "    account = BankAccount(name, balance)\n",
        "    bank_accounts.append(account)\n",
        "\n",
        "# Find the name of the person with the most money\n",
        "max_balance = 0\n",
        "richest_person = None\n",
        "\n",
        "for account in bank_accounts:\n",
        "    if account.balance > max_balance:\n",
        "        max_balance = account.balance\n",
        "        richest_person = account.name\n",
        "\n",
        "print(\"Bank Accounts:\")\n",
        "for account in bank_accounts:\n",
        "    print(f\"Name: {account.name}, Balance: {account.balance}\")\n",
        "\n",
        "print(f\"The person with the most money is: {richest_person} with a balance of {max_balance}.\")\n"
      ],
      "metadata": {
        "id": "cjYxlHlejwL8"
      },
      "execution_count": null,
      "outputs": []
    },
    {
      "cell_type": "code",
      "source": [
        "class ToDoItem:\n",
        "    def __init__(self, description):\n",
        "        self.description = description\n",
        "        self.status = \"in progress\"\n",
        "        self.working_hours = 0\n",
        "\n",
        "    def mark_as_complete(self):\n",
        "        self.status = \"completed\"\n",
        "\n",
        "    def mark_as_in_progress(self):\n",
        "        self.status = \"in progress\"\n",
        "\n",
        "    def get_status(self):\n",
        "        return self.status\n",
        "\n",
        "    def add_working_hours(self, hours):\n",
        "        if hours > 0:\n",
        "            self.working_hours += hours\n",
        "            return f\"Added {hours} hours to '{self.description}'.\"\n",
        "        else:\n",
        "            return \"Invalid hours entry.\"\n",
        "\n",
        "    def report_working_hours(self):\n",
        "        return f\"Total working hours on '{self.description}': {self.working_hours} hours.\"\n",
        "\n",
        "# Example usage:\n",
        "todo1 = ToDoItem(\"Finish homework\")\n",
        "print(f\"Task: {todo1.description}, Status: {todo1.get_status()}\")\n",
        "print(todo1.add_working_hours(2))\n",
        "print(todo1.report_working_hours())\n",
        "todo1.mark_as_complete()\n",
        "print(f\"Task: {todo1.description}, Status: {todo1.get_status()}\")\n"
      ],
      "metadata": {
        "id": "Zj_Jivx-bH9y"
      },
      "execution_count": null,
      "outputs": []
    },
    {
      "cell_type": "code",
      "source": [
        "class Car:\n",
        "    def __init__(self, make, model, year):\n",
        "        self.make = make\n",
        "        self.model = model\n",
        "        self.year = year\n",
        "        self.engine_started = False\n",
        "        self.mileage = 0\n",
        "\n",
        "    def start_engine(self):\n",
        "        if not self.engine_started:\n",
        "            self.engine_started = True\n",
        "            return \"Engine started.\"\n",
        "        else:\n",
        "            return \"Engine is already running.\"\n",
        "\n",
        "    def stop_engine(self):\n",
        "        if self.engine_started:\n",
        "            self.engine_started = False\n",
        "            return \"Engine stopped.\"\n",
        "        else:\n",
        "            return \"Engine is already off.\"\n",
        "\n",
        "    def drive(self, distance):\n",
        "        if self.engine_started:\n",
        "            if distance > 0:\n",
        "                self.mileage += distance\n",
        "                return f\"Car driven for {distance} miles.\"\n",
        "            else:\n",
        "                return \"Invalid distance for driving.\"\n",
        "        else:\n",
        "            return \"Engine is not running. Start the engine first.\"\n",
        "\n",
        "    def display_info(self):\n",
        "        return f\"Car: {self.year} {self.make} {self.model}, Engine: {'Running' if self.engine_started else 'Off'}, Mileage: {self.mileage} miles\"\n",
        "\n",
        "# Example usage:\n",
        "my_car = Car(\"Toyota\", \"Camry\", 2022)\n",
        "print(my_car.display_info())\n",
        "print(my_car.start_engine())\n",
        "print(my_car.drive(50))\n",
        "print(my_car.display_info())\n",
        "print(my_car.stop_engine())\n",
        "print(my_car.drive(30))\n",
        "print(my_car.start_engine())\n",
        "print(my_car.drive(30))\n",
        "print(my_car.display_info())\n"
      ],
      "metadata": {
        "colab": {
          "base_uri": "https://localhost:8080/"
        },
        "id": "dZ2dEHlKbHt_",
        "outputId": "cb455dee-a0bc-4f1f-d38a-0d6a294775ff"
      },
      "execution_count": null,
      "outputs": [
        {
          "output_type": "stream",
          "name": "stdout",
          "text": [
            "Car: 2022 Toyota Camry, Engine: Off, Mileage: 0 miles\n",
            "Engine started.\n",
            "Car driven for 50 miles.\n",
            "Car: 2022 Toyota Camry, Engine: Running, Mileage: 50 miles\n",
            "Engine stopped.\n",
            "Engine is not running. Start the engine first.\n",
            "Car: 2022 Toyota Camry, Engine: Off, Mileage: 50 miles\n"
          ]
        }
      ]
    },
    {
      "cell_type": "code",
      "source": [
        "class CoffeeMachine:\n",
        "    def __init__(self, coffee_beans, water):\n",
        "        self.coffee_beans = coffee_beans\n",
        "        self.water = water\n",
        "        self.coffee_types = {\n",
        "            \"espresso\": {\"coffee_beans_needed\": 20, \"water_needed\": 50},\n",
        "            \"latte\": {\"coffee_beans_needed\": 30, \"water_needed\": 100},\n",
        "            \"cappuccino\": {\"coffee_beans_needed\": 25, \"water_needed\": 75},\n",
        "        }\n",
        "\n",
        "    def add_coffee_beans(self, amount):\n",
        "        if amount > 0:\n",
        "            self.coffee_beans += amount\n",
        "            return f\"Added {amount} grams of coffee beans.\"\n",
        "        else:\n",
        "            return \"Invalid amount for coffee beans.\"\n",
        "\n",
        "    def add_water(self, amount):\n",
        "        if amount > 0:\n",
        "            self.water += amount\n",
        "            return f\"Added {amount} milliliters of water.\"\n",
        "        else:\n",
        "            return \"Invalid amount for water.\"\n",
        "\n",
        "    def make_coffee(self, coffee_type):\n",
        "        if coffee_type in self.coffee_types:\n",
        "            requirements = self.coffee_types[coffee_type]\n",
        "            coffee_beans_needed = requirements[\"coffee_beans_needed\"]\n",
        "            water_needed = requirements[\"water_needed\"]\n",
        "\n",
        "            if self.coffee_beans >= coffee_beans_needed and self.water >= water_needed:\n",
        "                self.coffee_beans -= coffee_beans_needed\n",
        "                self.water -= water_needed\n",
        "                return f\"Your {coffee_type} is ready! Enjoy your drink.\"\n",
        "            elif self.coffee_beans < coffee_beans_needed:\n",
        "                return \"Not enough coffee beans. Please add more.\"\n",
        "            else:\n",
        "                return \"Not enough water. Please add more.\"\n",
        "        else:\n",
        "            return f\"Invalid coffee type: {coffee_type}\"\n",
        "\n",
        "    def display_status(self):\n",
        "        return f\"Coffee beans: {self.coffee_beans} grams, Water: {self.water} milliliters\"\n",
        "\n",
        "# Example usage with user interaction:\n",
        "coffee_machine = CoffeeMachine(200, 500)\n",
        "print(coffee_machine.display_status())\n",
        "\n",
        "while True:\n",
        "    user_choice = input(\"Choose a coffee type (espresso, latte, cappuccino), 'q' to quit: \")\n",
        "\n",
        "    if user_choice == 'q':\n",
        "        break\n",
        "\n",
        "    result = coffee_machine.make_coffee(user_choice)\n",
        "    print(result)\n",
        "    print(coffee_machine.display_status())\n",
        "    print('\\n-------------\\n')\n"
      ],
      "metadata": {
        "colab": {
          "base_uri": "https://localhost:8080/",
          "height": 1000
        },
        "id": "TMQpNnJUd4oJ",
        "outputId": "9903b801-7564-491d-fa87-e09a09cf1682"
      },
      "execution_count": null,
      "outputs": [
        {
          "output_type": "stream",
          "name": "stdout",
          "text": [
            "Coffee beans: 200 grams, Water: 500 milliliters\n",
            "Choose a coffee type (espresso, latte, cappuccino), 'q' to quit: latte\n",
            "Your latte is ready! Enjoy your drink.\n",
            "Coffee beans: 170 grams, Water: 400 milliliters\n",
            "\n",
            "-------------\n",
            "\n",
            "Choose a coffee type (espresso, latte, cappuccino), 'q' to quit: latte\n",
            "Your latte is ready! Enjoy your drink.\n",
            "Coffee beans: 140 grams, Water: 300 milliliters\n",
            "\n",
            "-------------\n",
            "\n",
            "Choose a coffee type (espresso, latte, cappuccino), 'q' to quit: cappuccino\n",
            "Your cappuccino is ready! Enjoy your drink.\n",
            "Coffee beans: 115 grams, Water: 225 milliliters\n",
            "\n",
            "-------------\n",
            "\n",
            "Choose a coffee type (espresso, latte, cappuccino), 'q' to quit: latte\n",
            "Your latte is ready! Enjoy your drink.\n",
            "Coffee beans: 85 grams, Water: 125 milliliters\n",
            "\n",
            "-------------\n",
            "\n",
            "Choose a coffee type (espresso, latte, cappuccino), 'q' to quit: latte\n",
            "Your latte is ready! Enjoy your drink.\n",
            "Coffee beans: 55 grams, Water: 25 milliliters\n",
            "\n",
            "-------------\n",
            "\n",
            "Choose a coffee type (espresso, latte, cappuccino), 'q' to quit: latte\n",
            "Not enough water. Please add more.\n",
            "Coffee beans: 55 grams, Water: 25 milliliters\n",
            "\n",
            "-------------\n",
            "\n"
          ]
        },
        {
          "output_type": "error",
          "ename": "KeyboardInterrupt",
          "evalue": "ignored",
          "traceback": [
            "\u001b[0;31m---------------------------------------------------------------------------\u001b[0m",
            "\u001b[0;31mKeyboardInterrupt\u001b[0m                         Traceback (most recent call last)",
            "\u001b[0;32m<ipython-input-11-8efbb5d2b777>\u001b[0m in \u001b[0;36m<cell line: 49>\u001b[0;34m()\u001b[0m\n\u001b[1;32m     48\u001b[0m \u001b[0;34m\u001b[0m\u001b[0m\n\u001b[1;32m     49\u001b[0m \u001b[0;32mwhile\u001b[0m \u001b[0;32mTrue\u001b[0m\u001b[0;34m:\u001b[0m\u001b[0;34m\u001b[0m\u001b[0;34m\u001b[0m\u001b[0m\n\u001b[0;32m---> 50\u001b[0;31m     \u001b[0muser_choice\u001b[0m \u001b[0;34m=\u001b[0m \u001b[0minput\u001b[0m\u001b[0;34m(\u001b[0m\u001b[0;34m\"Choose a coffee type (espresso, latte, cappuccino), 'q' to quit: \"\u001b[0m\u001b[0;34m)\u001b[0m\u001b[0;34m\u001b[0m\u001b[0;34m\u001b[0m\u001b[0m\n\u001b[0m\u001b[1;32m     51\u001b[0m \u001b[0;34m\u001b[0m\u001b[0m\n\u001b[1;32m     52\u001b[0m     \u001b[0;32mif\u001b[0m \u001b[0muser_choice\u001b[0m \u001b[0;34m==\u001b[0m \u001b[0;34m'q'\u001b[0m\u001b[0;34m:\u001b[0m\u001b[0;34m\u001b[0m\u001b[0;34m\u001b[0m\u001b[0m\n",
            "\u001b[0;32m/usr/local/lib/python3.10/dist-packages/ipykernel/kernelbase.py\u001b[0m in \u001b[0;36mraw_input\u001b[0;34m(self, prompt)\u001b[0m\n\u001b[1;32m    849\u001b[0m                 \u001b[0;34m\"raw_input was called, but this frontend does not support input requests.\"\u001b[0m\u001b[0;34m\u001b[0m\u001b[0;34m\u001b[0m\u001b[0m\n\u001b[1;32m    850\u001b[0m             )\n\u001b[0;32m--> 851\u001b[0;31m         return self._input_request(str(prompt),\n\u001b[0m\u001b[1;32m    852\u001b[0m             \u001b[0mself\u001b[0m\u001b[0;34m.\u001b[0m\u001b[0m_parent_ident\u001b[0m\u001b[0;34m,\u001b[0m\u001b[0;34m\u001b[0m\u001b[0;34m\u001b[0m\u001b[0m\n\u001b[1;32m    853\u001b[0m             \u001b[0mself\u001b[0m\u001b[0;34m.\u001b[0m\u001b[0m_parent_header\u001b[0m\u001b[0;34m,\u001b[0m\u001b[0;34m\u001b[0m\u001b[0;34m\u001b[0m\u001b[0m\n",
            "\u001b[0;32m/usr/local/lib/python3.10/dist-packages/ipykernel/kernelbase.py\u001b[0m in \u001b[0;36m_input_request\u001b[0;34m(self, prompt, ident, parent, password)\u001b[0m\n\u001b[1;32m    893\u001b[0m             \u001b[0;32mexcept\u001b[0m \u001b[0mKeyboardInterrupt\u001b[0m\u001b[0;34m:\u001b[0m\u001b[0;34m\u001b[0m\u001b[0;34m\u001b[0m\u001b[0m\n\u001b[1;32m    894\u001b[0m                 \u001b[0;31m# re-raise KeyboardInterrupt, to truncate traceback\u001b[0m\u001b[0;34m\u001b[0m\u001b[0;34m\u001b[0m\u001b[0m\n\u001b[0;32m--> 895\u001b[0;31m                 \u001b[0;32mraise\u001b[0m \u001b[0mKeyboardInterrupt\u001b[0m\u001b[0;34m(\u001b[0m\u001b[0;34m\"Interrupted by user\"\u001b[0m\u001b[0;34m)\u001b[0m \u001b[0;32mfrom\u001b[0m \u001b[0;32mNone\u001b[0m\u001b[0;34m\u001b[0m\u001b[0;34m\u001b[0m\u001b[0m\n\u001b[0m\u001b[1;32m    896\u001b[0m             \u001b[0;32mexcept\u001b[0m \u001b[0mException\u001b[0m \u001b[0;32mas\u001b[0m \u001b[0me\u001b[0m\u001b[0;34m:\u001b[0m\u001b[0;34m\u001b[0m\u001b[0;34m\u001b[0m\u001b[0m\n\u001b[1;32m    897\u001b[0m                 \u001b[0mself\u001b[0m\u001b[0;34m.\u001b[0m\u001b[0mlog\u001b[0m\u001b[0;34m.\u001b[0m\u001b[0mwarning\u001b[0m\u001b[0;34m(\u001b[0m\u001b[0;34m\"Invalid Message:\"\u001b[0m\u001b[0;34m,\u001b[0m \u001b[0mexc_info\u001b[0m\u001b[0;34m=\u001b[0m\u001b[0;32mTrue\u001b[0m\u001b[0;34m)\u001b[0m\u001b[0;34m\u001b[0m\u001b[0;34m\u001b[0m\u001b[0m\n",
            "\u001b[0;31mKeyboardInterrupt\u001b[0m: Interrupted by user"
          ]
        }
      ]
    },
    {
      "cell_type": "code",
      "source": [
        "class LibraryCatalog:\n",
        "    def __init__(self):\n",
        "        self.books = []\n",
        "\n",
        "    def add_book(self, title, author, isbn):\n",
        "        book = {'title': title, 'author': author, 'isbn': isbn, 'borrowed': False}\n",
        "        self.books.append(book)\n",
        "        return f\"Added '{title}' by {author} to the catalog.\"\n",
        "\n",
        "    def remove_book(self, title, author):\n",
        "        for book in self.books:\n",
        "            if book['title'] == title and book['author'] == author:\n",
        "                self.books.remove(book)\n",
        "                return f\"Removed '{title}' by {author} from the catalog.\"\n",
        "        return f\"Book '{title}' by {author}' not found in the catalog.\"\n",
        "\n",
        "    def search_by_title(self, title):\n",
        "        found_books = [book for book in self.books if book['title'] == title]\n",
        "        if found_books:\n",
        "            return [f\"{book['title']} by {book['author']}\" for book in found_books]\n",
        "        else:\n",
        "            return f\"No books found with the title '{title}'.\"\n",
        "\n",
        "    def search_by_author(self, author):\n",
        "        found_books = [book for book in self.books if book['author'] == author]\n",
        "        if found_books:\n",
        "            return [f\"{book['title']} by {book['author']}\" for book in found_books]\n",
        "        else:\n",
        "            return f\"No books found by the author {author}.\"\n",
        "\n",
        "    def search_by_isbn(self, isbn):\n",
        "        found_books = [book for book in self.books if book['isbn'] == isbn]\n",
        "        if found_books:\n",
        "            return [f\"{book['title']} by {book['author']} (ISBN: {book['isbn']})\" for book in found_books]\n",
        "        else:\n",
        "            return f\"No books found with ISBN: {isbn}.\"\n",
        "\n",
        "    def borrow_book(self, title, author):\n",
        "        for book in self.books:\n",
        "            if book['title'] == title and book['author'] == author and not book['borrowed']:\n",
        "                book['borrowed'] = True\n",
        "                return f\"Borrowed '{title}' by {author}.\"\n",
        "        return f\"Book '{title}' by {author}' not available for borrowing.\"\n",
        "\n",
        "    def return_book(self, title, author):\n",
        "        for book in self.books:\n",
        "            if book['title'] == title and book['author'] == author and book['borrowed']:\n",
        "                book['borrowed'] = False\n",
        "                return f\"Returned '{title}' by {author}.\"\n",
        "        return f\"Book '{title}' by {author}' not found in the borrowed list.\"\n",
        "\n",
        "# Example usage:\n",
        "catalog = LibraryCatalog()\n",
        "print(catalog.add_book(\"The Catcher in the Rye\", \"J.D. Salinger\", \"978-0-316-76948-7\"))\n",
        "print(catalog.add_book(\"To Kill a Mockingbird\", \"Harper Lee\", \"978-0-06-112008-4\"))\n",
        "print(catalog.add_book(\"1984\", \"George Orwell\", \"978-0-452-28423-4\"))\n",
        "\n",
        "print(catalog.borrow_book(\"To Kill a Mockingbird\", \"Harper Lee\"))\n",
        "print(catalog.return_book(\"To Kill a Mockingbird\", \"Harper Lee\"))\n",
        "print(catalog.return_book(\"To Kill a Mockingbird\", \"Harper Lee\"))\n"
      ],
      "metadata": {
        "colab": {
          "base_uri": "https://localhost:8080/"
        },
        "id": "BUSLterTYRv6",
        "outputId": "469dfa2e-fe8e-4f33-f0bf-b4f938ed83a9"
      },
      "execution_count": null,
      "outputs": [
        {
          "output_type": "stream",
          "name": "stdout",
          "text": [
            "Added 'The Catcher in the Rye' by J.D. Salinger to the catalog.\n",
            "Added 'To Kill a Mockingbird' by Harper Lee to the catalog.\n",
            "Added '1984' by George Orwell to the catalog.\n",
            "Borrowed 'To Kill a Mockingbird' by Harper Lee.\n",
            "Returned 'To Kill a Mockingbird' by Harper Lee.\n",
            "Book 'To Kill a Mockingbird' by Harper Lee' not found in the borrowed list.\n"
          ]
        }
      ]
    },
    {
      "cell_type": "code",
      "source": [],
      "metadata": {
        "id": "v5zGyYrbYRtD"
      },
      "execution_count": null,
      "outputs": []
    },
    {
      "cell_type": "code",
      "source": [],
      "metadata": {
        "id": "y_GrHKDeFTAR"
      },
      "execution_count": null,
      "outputs": []
    }
  ]
}