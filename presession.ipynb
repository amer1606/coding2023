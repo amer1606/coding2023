{
 "cells": [
  {
   "cell_type": "code",
   "execution_count": 1,
   "id": "d9cc623d-9718-4c8d-bb56-f3ce02e2e949",
   "metadata": {
    "tags": []
   },
   "outputs": [],
   "source": [
    "# This is a comment"
   ]
  },
  {
   "cell_type": "markdown",
   "id": "23d36200-2724-49c5-a336-5ab85479ffc0",
   "metadata": {},
   "source": [
    "# Variable types"
   ]
  },
  {
   "cell_type": "code",
   "execution_count": 2,
   "id": "343c039c-7de5-4cac-ae50-8728b307ef2d",
   "metadata": {
    "tags": []
   },
   "outputs": [],
   "source": [
    "# assign a value to a variable\n",
    "a=5"
   ]
  },
  {
   "cell_type": "code",
   "execution_count": 3,
   "id": "dd6669bf-188e-48be-872f-1f6a380a119b",
   "metadata": {
    "tags": []
   },
   "outputs": [
    {
     "name": "stdout",
     "output_type": "stream",
     "text": [
      "5\n"
     ]
    }
   ],
   "source": [
    "print(a)"
   ]
  },
  {
   "cell_type": "code",
   "execution_count": 4,
   "id": "514d8e3a-a762-439c-9044-faf503ba94f8",
   "metadata": {
    "tags": []
   },
   "outputs": [
    {
     "name": "stdout",
     "output_type": "stream",
     "text": [
      "<class 'int'>\n"
     ]
    }
   ],
   "source": [
    "print(type(a))"
   ]
  },
  {
   "cell_type": "code",
   "execution_count": 5,
   "id": "a85275ed-a172-457b-aac9-d60d592f5092",
   "metadata": {
    "tags": []
   },
   "outputs": [
    {
     "data": {
      "text/plain": [
       "5"
      ]
     },
     "execution_count": 5,
     "metadata": {},
     "output_type": "execute_result"
    }
   ],
   "source": [
    "a"
   ]
  },
  {
   "cell_type": "code",
   "execution_count": 6,
   "id": "22bb52e6-bfb5-4325-839b-0aea287efa32",
   "metadata": {
    "tags": []
   },
   "outputs": [],
   "source": [
    "b=3.4"
   ]
  },
  {
   "cell_type": "code",
   "execution_count": 7,
   "id": "a41f1b97-2415-45a2-8eeb-a0703be48175",
   "metadata": {
    "tags": []
   },
   "outputs": [
    {
     "data": {
      "text/plain": [
       "float"
      ]
     },
     "execution_count": 7,
     "metadata": {},
     "output_type": "execute_result"
    }
   ],
   "source": [
    "type(b)"
   ]
  },
  {
   "cell_type": "code",
   "execution_count": 8,
   "id": "75a52466-451b-4d36-b080-bf538540a657",
   "metadata": {
    "tags": []
   },
   "outputs": [],
   "source": [
    "c=True"
   ]
  },
  {
   "cell_type": "code",
   "execution_count": 9,
   "id": "743f980d-b06d-44c4-a2b7-26a9b8045e7f",
   "metadata": {
    "tags": []
   },
   "outputs": [
    {
     "data": {
      "text/plain": [
       "bool"
      ]
     },
     "execution_count": 9,
     "metadata": {},
     "output_type": "execute_result"
    }
   ],
   "source": [
    "type(c)"
   ]
  },
  {
   "cell_type": "code",
   "execution_count": 10,
   "id": "4b9c5173-7a1e-4e61-a771-31d57d8e2d7b",
   "metadata": {
    "tags": []
   },
   "outputs": [],
   "source": [
    "e=\"penguin\""
   ]
  },
  {
   "cell_type": "code",
   "execution_count": 11,
   "id": "dfc0f7f1-eec6-432a-93e6-03c80be597dc",
   "metadata": {
    "tags": []
   },
   "outputs": [
    {
     "data": {
      "text/plain": [
       "str"
      ]
     },
     "execution_count": 11,
     "metadata": {},
     "output_type": "execute_result"
    }
   ],
   "source": [
    "type(e)"
   ]
  },
  {
   "cell_type": "code",
   "execution_count": 12,
   "id": "5605391c-9136-4d15-bdbe-536db25e1a78",
   "metadata": {
    "tags": []
   },
   "outputs": [],
   "source": [
    "a,b=\"penguin\",5"
   ]
  },
  {
   "cell_type": "code",
   "execution_count": 13,
   "id": "508bae0f-622c-4243-b371-dbaff7856182",
   "metadata": {
    "tags": []
   },
   "outputs": [
    {
     "data": {
      "text/plain": [
       "'penguin'"
      ]
     },
     "execution_count": 13,
     "metadata": {},
     "output_type": "execute_result"
    }
   ],
   "source": [
    "a"
   ]
  },
  {
   "cell_type": "code",
   "execution_count": 14,
   "id": "217a18a9-bd13-421e-8021-8c5ef2442188",
   "metadata": {
    "tags": []
   },
   "outputs": [
    {
     "data": {
      "text/plain": [
       "5"
      ]
     },
     "execution_count": 14,
     "metadata": {},
     "output_type": "execute_result"
    }
   ],
   "source": [
    "b"
   ]
  },
  {
   "cell_type": "code",
   "execution_count": 15,
   "id": "9d941ac9-d306-4481-9c5e-aa4d3c9fd9e3",
   "metadata": {
    "tags": []
   },
   "outputs": [
    {
     "ename": "NameError",
     "evalue": "name 'y' is not defined",
     "output_type": "error",
     "traceback": [
      "\u001b[1;31m---------------------------------------------------------------------------\u001b[0m",
      "\u001b[1;31mNameError\u001b[0m                                 Traceback (most recent call last)",
      "Cell \u001b[1;32mIn[15], line 1\u001b[0m\n\u001b[1;32m----> 1\u001b[0m y\u001b[38;5;241m=\u001b[39my\u001b[38;5;241m+\u001b[39m\u001b[38;5;241m10\u001b[39m\n",
      "\u001b[1;31mNameError\u001b[0m: name 'y' is not defined"
     ]
    }
   ],
   "source": [
    "y=y+10"
   ]
  },
  {
   "cell_type": "code",
   "execution_count": 16,
   "id": "a7064328-7113-4ca7-86a8-16fc0235bb38",
   "metadata": {
    "tags": []
   },
   "outputs": [],
   "source": [
    "y=5"
   ]
  },
  {
   "cell_type": "code",
   "execution_count": 17,
   "id": "e13458c5-6c18-441a-9d07-29fdb2168aa3",
   "metadata": {
    "tags": []
   },
   "outputs": [],
   "source": [
    "y=y+10"
   ]
  },
  {
   "cell_type": "code",
   "execution_count": 18,
   "id": "832eee14-f482-473f-9eec-5dddae36496f",
   "metadata": {
    "tags": []
   },
   "outputs": [
    {
     "data": {
      "text/plain": [
       "15"
      ]
     },
     "execution_count": 18,
     "metadata": {},
     "output_type": "execute_result"
    }
   ],
   "source": [
    "y"
   ]
  },
  {
   "cell_type": "code",
   "execution_count": 19,
   "id": "ba031131-2a66-4e08-ace0-a849caf3150e",
   "metadata": {
    "tags": []
   },
   "outputs": [],
   "source": [
    "s=\"\"\"This is \n",
    "a multiple line\n",
    "entry\"\"\"\n"
   ]
  },
  {
   "cell_type": "code",
   "execution_count": 20,
   "id": "363ab2da-3848-4052-b2cd-56d12b7811ac",
   "metadata": {
    "tags": []
   },
   "outputs": [
    {
     "name": "stdout",
     "output_type": "stream",
     "text": [
      "This is \n",
      "a multiple line\n",
      "entry\n"
     ]
    }
   ],
   "source": [
    "print (s)"
   ]
  },
  {
   "cell_type": "markdown",
   "id": "f84a8600-f14c-40f5-af24-d52f6a554b07",
   "metadata": {},
   "source": [
    "Basic operators"
   ]
  },
  {
   "cell_type": "code",
   "execution_count": 21,
   "id": "5ecf056c-4529-49cc-ac15-51f44fdb7156",
   "metadata": {
    "tags": []
   },
   "outputs": [],
   "source": [
    "i1=5\n",
    "i2=-3\n",
    "f1=3.4\n",
    "f2=-7.8\n",
    "b1=True\n",
    "b2=False\n",
    "s1=\"penguin\"\n",
    "s2=\"sea lion\"\n",
    "s3=\"5\"\n",
    "s4=\"5.6\"\n",
    "s5=\"True\"\n",
    "s6=\"False\""
   ]
  },
  {
   "cell_type": "markdown",
   "id": "e44572f8-eb28-40e7-9707-6478acd1d6d0",
   "metadata": {},
   "source": [
    "Add variables"
   ]
  },
  {
   "cell_type": "code",
   "execution_count": 22,
   "id": "4f156110-5009-433e-9c39-b1a31552341c",
   "metadata": {
    "tags": []
   },
   "outputs": [],
   "source": [
    "a=i1+i2"
   ]
  },
  {
   "cell_type": "code",
   "execution_count": 23,
   "id": "887e58dd-124b-4833-92ec-7dd9069633d7",
   "metadata": {
    "tags": []
   },
   "outputs": [
    {
     "data": {
      "text/plain": [
       "2"
      ]
     },
     "execution_count": 23,
     "metadata": {},
     "output_type": "execute_result"
    }
   ],
   "source": [
    "a"
   ]
  },
  {
   "cell_type": "code",
   "execution_count": 24,
   "id": "5d3b2e09-0f62-4e6d-b6ec-a779123053ab",
   "metadata": {
    "tags": []
   },
   "outputs": [
    {
     "data": {
      "text/plain": [
       "int"
      ]
     },
     "execution_count": 24,
     "metadata": {},
     "output_type": "execute_result"
    }
   ],
   "source": [
    "type(a)"
   ]
  },
  {
   "cell_type": "code",
   "execution_count": 25,
   "id": "13115234-d618-460b-9467-cffcc1c830f1",
   "metadata": {
    "tags": []
   },
   "outputs": [],
   "source": [
    "a=i1+b1"
   ]
  },
  {
   "cell_type": "code",
   "execution_count": 26,
   "id": "4d16d639-d788-4cf6-a696-778d45cc020f",
   "metadata": {
    "tags": []
   },
   "outputs": [
    {
     "data": {
      "text/plain": [
       "6"
      ]
     },
     "execution_count": 26,
     "metadata": {},
     "output_type": "execute_result"
    }
   ],
   "source": [
    "a"
   ]
  },
  {
   "cell_type": "code",
   "execution_count": 27,
   "id": "3a0e37b4-05c3-49f6-9dfc-d880b7b177c8",
   "metadata": {
    "tags": []
   },
   "outputs": [
    {
     "ename": "TypeError",
     "evalue": "unsupported operand type(s) for +: 'int' and 'str'",
     "output_type": "error",
     "traceback": [
      "\u001b[1;31m---------------------------------------------------------------------------\u001b[0m",
      "\u001b[1;31mTypeError\u001b[0m                                 Traceback (most recent call last)",
      "Cell \u001b[1;32mIn[27], line 1\u001b[0m\n\u001b[1;32m----> 1\u001b[0m a\u001b[38;5;241m=\u001b[39mi1\u001b[38;5;241m+\u001b[39ms1\n",
      "\u001b[1;31mTypeError\u001b[0m: unsupported operand type(s) for +: 'int' and 'str'"
     ]
    }
   ],
   "source": [
    "a=i1+s1"
   ]
  },
  {
   "cell_type": "code",
   "execution_count": 29,
   "id": "203d352d-487b-431d-9ef6-6dfb67bab840",
   "metadata": {
    "tags": []
   },
   "outputs": [],
   "source": [
    "a=f\"the answer to the question is {i1}\""
   ]
  },
  {
   "cell_type": "code",
   "execution_count": 31,
   "id": "60fbd4c8-6004-42d7-a411-15af600ca239",
   "metadata": {
    "tags": []
   },
   "outputs": [
    {
     "data": {
      "text/plain": [
       "'the answer to the question is 5'"
      ]
     },
     "execution_count": 31,
     "metadata": {},
     "output_type": "execute_result"
    }
   ],
   "source": [
    "a"
   ]
  },
  {
   "cell_type": "markdown",
   "id": "1a53d916-1cae-4e17-9451-d97adab1bac4",
   "metadata": {},
   "source": [
    "Substract"
   ]
  },
  {
   "cell_type": "code",
   "execution_count": 32,
   "id": "239d2588-fd89-49e7-900c-63e2b1cf448b",
   "metadata": {
    "tags": []
   },
   "outputs": [],
   "source": [
    "a=i1-i2"
   ]
  },
  {
   "cell_type": "code",
   "execution_count": 33,
   "id": "dab2456f-147d-4033-aa94-1279f337a812",
   "metadata": {
    "tags": []
   },
   "outputs": [
    {
     "data": {
      "text/plain": [
       "8"
      ]
     },
     "execution_count": 33,
     "metadata": {},
     "output_type": "execute_result"
    }
   ],
   "source": [
    "a"
   ]
  },
  {
   "cell_type": "code",
   "execution_count": 34,
   "id": "bf42189d-63e6-4b7d-8646-b05639cf4da0",
   "metadata": {
    "tags": []
   },
   "outputs": [
    {
     "ename": "TypeError",
     "evalue": "unsupported operand type(s) for -: 'str' and 'str'",
     "output_type": "error",
     "traceback": [
      "\u001b[1;31m---------------------------------------------------------------------------\u001b[0m",
      "\u001b[1;31mTypeError\u001b[0m                                 Traceback (most recent call last)",
      "Cell \u001b[1;32mIn[34], line 1\u001b[0m\n\u001b[1;32m----> 1\u001b[0m a\u001b[38;5;241m=\u001b[39ms1\u001b[38;5;241m-\u001b[39ms2\n",
      "\u001b[1;31mTypeError\u001b[0m: unsupported operand type(s) for -: 'str' and 'str'"
     ]
    }
   ],
   "source": [
    "a=s1-s2"
   ]
  },
  {
   "cell_type": "markdown",
   "id": "8fed865e-f3fb-446d-a9de-50b14dfaa755",
   "metadata": {},
   "source": [
    "## Transforming to other types (casting)"
   ]
  },
  {
   "cell_type": "code",
   "execution_count": 35,
   "id": "ce24d7aa-0307-4b99-90d0-9fd8e65341ff",
   "metadata": {
    "tags": []
   },
   "outputs": [],
   "source": [
    "a=float(s4)"
   ]
  },
  {
   "cell_type": "code",
   "execution_count": 36,
   "id": "18429dea-255b-4dbb-9982-13ef2a83bcf1",
   "metadata": {
    "tags": []
   },
   "outputs": [
    {
     "data": {
      "text/plain": [
       "5.6"
      ]
     },
     "execution_count": 36,
     "metadata": {},
     "output_type": "execute_result"
    }
   ],
   "source": [
    "a"
   ]
  },
  {
   "cell_type": "code",
   "execution_count": 37,
   "id": "0e31d5ec-7ba1-4282-b2c7-0158bb06924c",
   "metadata": {
    "tags": []
   },
   "outputs": [
    {
     "data": {
      "text/plain": [
       "float"
      ]
     },
     "execution_count": 37,
     "metadata": {},
     "output_type": "execute_result"
    }
   ],
   "source": [
    "type(a)"
   ]
  },
  {
   "cell_type": "code",
   "execution_count": 38,
   "id": "e88bbe18-8080-4fd5-9a30-89af077e75b4",
   "metadata": {
    "tags": []
   },
   "outputs": [
    {
     "ename": "ValueError",
     "evalue": "invalid literal for int() with base 10: '5.6'",
     "output_type": "error",
     "traceback": [
      "\u001b[1;31m---------------------------------------------------------------------------\u001b[0m",
      "\u001b[1;31mValueError\u001b[0m                                Traceback (most recent call last)",
      "Cell \u001b[1;32mIn[38], line 1\u001b[0m\n\u001b[1;32m----> 1\u001b[0m a\u001b[38;5;241m=\u001b[39m\u001b[38;5;28mint\u001b[39m(s4)\n",
      "\u001b[1;31mValueError\u001b[0m: invalid literal for int() with base 10: '5.6'"
     ]
    }
   ],
   "source": [
    "a=int(s4)"
   ]
  },
  {
   "cell_type": "code",
   "execution_count": 39,
   "id": "71a818b1-dbbc-49bf-a063-4672cc480f2e",
   "metadata": {
    "tags": []
   },
   "outputs": [],
   "source": [
    "a=float(s3)"
   ]
  },
  {
   "cell_type": "code",
   "execution_count": 40,
   "id": "51b1b3c1-45b2-4eef-853c-a9320f31bc3d",
   "metadata": {
    "tags": []
   },
   "outputs": [
    {
     "data": {
      "text/plain": [
       "5.0"
      ]
     },
     "execution_count": 40,
     "metadata": {},
     "output_type": "execute_result"
    }
   ],
   "source": [
    "a"
   ]
  },
  {
   "cell_type": "code",
   "execution_count": 41,
   "id": "70b3999b-8591-4b1c-8874-6673215fdaa5",
   "metadata": {
    "tags": []
   },
   "outputs": [
    {
     "data": {
      "text/plain": [
       "float"
      ]
     },
     "execution_count": 41,
     "metadata": {},
     "output_type": "execute_result"
    }
   ],
   "source": [
    "type(a)"
   ]
  },
  {
   "cell_type": "code",
   "execution_count": 42,
   "id": "8231abf4-7877-4784-bd58-07ab81deb41f",
   "metadata": {
    "tags": []
   },
   "outputs": [],
   "source": [
    "a=s5"
   ]
  },
  {
   "cell_type": "code",
   "execution_count": 43,
   "id": "f91fc289-516c-4fcb-b35c-70228f5fc6c4",
   "metadata": {
    "tags": []
   },
   "outputs": [
    {
     "data": {
      "text/plain": [
       "'True'"
      ]
     },
     "execution_count": 43,
     "metadata": {},
     "output_type": "execute_result"
    }
   ],
   "source": [
    "a"
   ]
  },
  {
   "cell_type": "code",
   "execution_count": 44,
   "id": "93204837-0070-46a2-ab75-37091de7d163",
   "metadata": {
    "tags": []
   },
   "outputs": [],
   "source": [
    "s=bool(s5)"
   ]
  },
  {
   "cell_type": "code",
   "execution_count": 45,
   "id": "3b48a826-3d7d-48b4-90a9-5795d8ee8169",
   "metadata": {
    "tags": []
   },
   "outputs": [
    {
     "data": {
      "text/plain": [
       "'True'"
      ]
     },
     "execution_count": 45,
     "metadata": {},
     "output_type": "execute_result"
    }
   ],
   "source": [
    "a"
   ]
  },
  {
   "cell_type": "code",
   "execution_count": 46,
   "id": "92d02e3f-2388-4124-a3e3-9fe29f13f4bf",
   "metadata": {
    "tags": []
   },
   "outputs": [
    {
     "data": {
      "text/plain": [
       "str"
      ]
     },
     "execution_count": 46,
     "metadata": {},
     "output_type": "execute_result"
    }
   ],
   "source": [
    "type(a)"
   ]
  },
  {
   "cell_type": "code",
   "execution_count": 47,
   "id": "bcaae47d-fed0-44b7-8f50-225e86fce4bf",
   "metadata": {
    "tags": []
   },
   "outputs": [],
   "source": [
    "a=str(5.6)"
   ]
  },
  {
   "cell_type": "code",
   "execution_count": 48,
   "id": "0758d86c-a25a-4de8-86fb-5b58e71423d2",
   "metadata": {
    "tags": []
   },
   "outputs": [
    {
     "data": {
      "text/plain": [
       "'5.6'"
      ]
     },
     "execution_count": 48,
     "metadata": {},
     "output_type": "execute_result"
    }
   ],
   "source": [
    "a"
   ]
  },
  {
   "cell_type": "code",
   "execution_count": 49,
   "id": "4186e740-7e4d-4f1f-a650-feae6c25f742",
   "metadata": {
    "tags": []
   },
   "outputs": [
    {
     "data": {
      "text/plain": [
       "str"
      ]
     },
     "execution_count": 49,
     "metadata": {},
     "output_type": "execute_result"
    }
   ],
   "source": [
    "type(a)"
   ]
  },
  {
   "cell_type": "markdown",
   "id": "53ec7140-f9ce-40e1-b5cb-68e07917ef28",
   "metadata": {},
   "source": [
    "### Multiply"
   ]
  },
  {
   "cell_type": "code",
   "execution_count": 50,
   "id": "abf8ea05-dab8-4a9c-a833-3dd082021033",
   "metadata": {
    "tags": []
   },
   "outputs": [],
   "source": [
    "a=i1*f1"
   ]
  },
  {
   "cell_type": "code",
   "execution_count": 51,
   "id": "9b1721cd-adf9-4ba6-9bdb-4fc7ffd7420c",
   "metadata": {
    "tags": []
   },
   "outputs": [
    {
     "data": {
      "text/plain": [
       "17.0"
      ]
     },
     "execution_count": 51,
     "metadata": {},
     "output_type": "execute_result"
    }
   ],
   "source": [
    "a"
   ]
  },
  {
   "cell_type": "code",
   "execution_count": 52,
   "id": "204b42c2-4d23-4108-8a13-4097146dd327",
   "metadata": {
    "tags": []
   },
   "outputs": [
    {
     "data": {
      "text/plain": [
       "float"
      ]
     },
     "execution_count": 52,
     "metadata": {},
     "output_type": "execute_result"
    }
   ],
   "source": [
    "type(a)"
   ]
  },
  {
   "cell_type": "code",
   "execution_count": 53,
   "id": "0072d2dc-de13-42a5-9fe3-5c9b6befeed4",
   "metadata": {
    "tags": []
   },
   "outputs": [],
   "source": [
    "a=b1*f1"
   ]
  },
  {
   "cell_type": "code",
   "execution_count": 54,
   "id": "7ae0ba66-0898-4d54-b2dd-cee43ca9258b",
   "metadata": {
    "tags": []
   },
   "outputs": [
    {
     "data": {
      "text/plain": [
       "3.4"
      ]
     },
     "execution_count": 54,
     "metadata": {},
     "output_type": "execute_result"
    }
   ],
   "source": [
    "a"
   ]
  },
  {
   "cell_type": "code",
   "execution_count": 55,
   "id": "3b40961c-6219-476a-bd9a-6902f4a2c942",
   "metadata": {
    "tags": []
   },
   "outputs": [
    {
     "data": {
      "text/plain": [
       "float"
      ]
     },
     "execution_count": 55,
     "metadata": {},
     "output_type": "execute_result"
    }
   ],
   "source": [
    "type(a)"
   ]
  },
  {
   "cell_type": "code",
   "execution_count": 56,
   "id": "19c4b660-c913-4fa9-be76-35873255ba90",
   "metadata": {
    "tags": []
   },
   "outputs": [],
   "source": [
    "a=b2*i1"
   ]
  },
  {
   "cell_type": "code",
   "execution_count": 57,
   "id": "9bb89b52-274d-4365-a234-56bf5d7ef429",
   "metadata": {
    "tags": []
   },
   "outputs": [
    {
     "data": {
      "text/plain": [
       "0"
      ]
     },
     "execution_count": 57,
     "metadata": {},
     "output_type": "execute_result"
    }
   ],
   "source": [
    "a"
   ]
  },
  {
   "cell_type": "code",
   "execution_count": 59,
   "id": "a2d84fd8-9a8e-40d4-8b29-28d5f2b01064",
   "metadata": {
    "tags": []
   },
   "outputs": [
    {
     "data": {
      "text/plain": [
       "int"
      ]
     },
     "execution_count": 59,
     "metadata": {},
     "output_type": "execute_result"
    }
   ],
   "source": [
    "type(a)"
   ]
  },
  {
   "cell_type": "code",
   "execution_count": 62,
   "id": "f6e08899-d05d-448b-b546-d66e097e73c7",
   "metadata": {
    "tags": []
   },
   "outputs": [],
   "source": [
    "a=b1*s1"
   ]
  },
  {
   "cell_type": "code",
   "execution_count": 63,
   "id": "26500446-365b-4e61-9609-e2b4567b6e21",
   "metadata": {
    "tags": []
   },
   "outputs": [
    {
     "data": {
      "text/plain": [
       "'penguin'"
      ]
     },
     "execution_count": 63,
     "metadata": {},
     "output_type": "execute_result"
    }
   ],
   "source": [
    "a"
   ]
  },
  {
   "cell_type": "code",
   "execution_count": 64,
   "id": "727c24aa-2ac8-4d6f-8e06-ff0a4cf5176e",
   "metadata": {
    "tags": []
   },
   "outputs": [],
   "source": [
    "a=b2*s1"
   ]
  },
  {
   "cell_type": "code",
   "execution_count": 65,
   "id": "760a3c53-5f32-4fa4-b5b1-710572166921",
   "metadata": {
    "tags": []
   },
   "outputs": [
    {
     "data": {
      "text/plain": [
       "''"
      ]
     },
     "execution_count": 65,
     "metadata": {},
     "output_type": "execute_result"
    }
   ],
   "source": [
    "a"
   ]
  },
  {
   "cell_type": "code",
   "execution_count": 66,
   "id": "34858b9a-f78e-42a5-8d98-f08404b83b4f",
   "metadata": {
    "tags": []
   },
   "outputs": [
    {
     "data": {
      "text/plain": [
       "str"
      ]
     },
     "execution_count": 66,
     "metadata": {},
     "output_type": "execute_result"
    }
   ],
   "source": [
    "type(a)"
   ]
  },
  {
   "cell_type": "code",
   "execution_count": 67,
   "id": "e5c8322b-030e-43a9-9a01-03c2f703dfb9",
   "metadata": {
    "tags": []
   },
   "outputs": [],
   "source": [
    "a=i1*s1"
   ]
  },
  {
   "cell_type": "code",
   "execution_count": 68,
   "id": "07f779dd-a01e-40c0-91cf-78eb89f52c86",
   "metadata": {
    "tags": []
   },
   "outputs": [
    {
     "data": {
      "text/plain": [
       "'penguinpenguinpenguinpenguinpenguin'"
      ]
     },
     "execution_count": 68,
     "metadata": {},
     "output_type": "execute_result"
    }
   ],
   "source": [
    "a"
   ]
  },
  {
   "cell_type": "code",
   "execution_count": 69,
   "id": "ad56f78c-7d76-403b-aeb9-5933fb95a997",
   "metadata": {
    "tags": []
   },
   "outputs": [],
   "source": [
    "a=abs(i2)"
   ]
  },
  {
   "cell_type": "code",
   "execution_count": 70,
   "id": "5146f6c6-00d3-412a-8eb5-030180b378b6",
   "metadata": {
    "tags": []
   },
   "outputs": [
    {
     "data": {
      "text/plain": [
       "3"
      ]
     },
     "execution_count": 70,
     "metadata": {},
     "output_type": "execute_result"
    }
   ],
   "source": [
    "a"
   ]
  },
  {
   "cell_type": "markdown",
   "id": "0dc3ba84-c153-41b5-8d0e-b4efedeb7561",
   "metadata": {},
   "source": [
    "##    Division"
   ]
  },
  {
   "cell_type": "code",
   "execution_count": 71,
   "id": "68ecea3c-de75-40a5-b11a-2b04322f1b8c",
   "metadata": {
    "tags": []
   },
   "outputs": [],
   "source": [
    "a=i1/i2"
   ]
  },
  {
   "cell_type": "code",
   "execution_count": 72,
   "id": "ac8edb50-a478-46cd-9afc-21687e25f56e",
   "metadata": {
    "tags": []
   },
   "outputs": [
    {
     "data": {
      "text/plain": [
       "-1.6666666666666667"
      ]
     },
     "execution_count": 72,
     "metadata": {},
     "output_type": "execute_result"
    }
   ],
   "source": [
    "a"
   ]
  },
  {
   "cell_type": "code",
   "execution_count": 73,
   "id": "3df5450d-ac75-4493-9137-5f97af9d5a4d",
   "metadata": {
    "tags": []
   },
   "outputs": [],
   "source": [
    "a=f1/f2"
   ]
  },
  {
   "cell_type": "code",
   "execution_count": 74,
   "id": "237147a6-22fe-4d63-bb89-5768b4f4da75",
   "metadata": {
    "tags": []
   },
   "outputs": [
    {
     "data": {
      "text/plain": [
       "-0.4358974358974359"
      ]
     },
     "execution_count": 74,
     "metadata": {},
     "output_type": "execute_result"
    }
   ],
   "source": [
    "a"
   ]
  },
  {
   "cell_type": "code",
   "execution_count": 75,
   "id": "ed40a4a6-2585-40da-9c1e-285db9215308",
   "metadata": {
    "tags": []
   },
   "outputs": [
    {
     "data": {
      "text/plain": [
       "float"
      ]
     },
     "execution_count": 75,
     "metadata": {},
     "output_type": "execute_result"
    }
   ],
   "source": [
    "type(a)"
   ]
  },
  {
   "cell_type": "code",
   "execution_count": 76,
   "id": "494b0699-2ae1-4714-99ed-8e789bb4c9ba",
   "metadata": {
    "tags": []
   },
   "outputs": [],
   "source": [
    "a=f1/b1"
   ]
  },
  {
   "cell_type": "code",
   "execution_count": 77,
   "id": "6bfde79a-e0af-4b99-b728-fb027aa04cd9",
   "metadata": {
    "tags": []
   },
   "outputs": [
    {
     "data": {
      "text/plain": [
       "3.4"
      ]
     },
     "execution_count": 77,
     "metadata": {},
     "output_type": "execute_result"
    }
   ],
   "source": [
    "a"
   ]
  },
  {
   "cell_type": "code",
   "execution_count": 78,
   "id": "2f63a76c-5b45-4143-8e9d-ce5df22f89c9",
   "metadata": {
    "tags": []
   },
   "outputs": [
    {
     "ename": "ZeroDivisionError",
     "evalue": "float division by zero",
     "output_type": "error",
     "traceback": [
      "\u001b[1;31m---------------------------------------------------------------------------\u001b[0m",
      "\u001b[1;31mZeroDivisionError\u001b[0m                         Traceback (most recent call last)",
      "Cell \u001b[1;32mIn[78], line 1\u001b[0m\n\u001b[1;32m----> 1\u001b[0m a\u001b[38;5;241m=\u001b[39mf1\u001b[38;5;241m/\u001b[39mb2\n",
      "\u001b[1;31mZeroDivisionError\u001b[0m: float division by zero"
     ]
    }
   ],
   "source": [
    "a=f1/b2"
   ]
  },
  {
   "cell_type": "code",
   "execution_count": 79,
   "id": "8cf7247d-96d5-4711-a752-d92193d7e380",
   "metadata": {
    "tags": []
   },
   "outputs": [],
   "source": [
    "a=abs(9/3)"
   ]
  },
  {
   "cell_type": "code",
   "execution_count": 80,
   "id": "1d3d7d80-c7f2-404b-8a23-abd57448bf06",
   "metadata": {
    "tags": []
   },
   "outputs": [
    {
     "data": {
      "text/plain": [
       "float"
      ]
     },
     "execution_count": 80,
     "metadata": {},
     "output_type": "execute_result"
    }
   ],
   "source": [
    "type(a)"
   ]
  },
  {
   "cell_type": "code",
   "execution_count": 81,
   "id": "15c6a86d-0a96-42fa-904f-64c0cfed976e",
   "metadata": {
    "tags": []
   },
   "outputs": [],
   "source": [
    "a=int(9/3)"
   ]
  },
  {
   "cell_type": "code",
   "execution_count": 82,
   "id": "39e7f1ca-b840-4288-8ebc-f3093cea48d6",
   "metadata": {
    "tags": []
   },
   "outputs": [
    {
     "data": {
      "text/plain": [
       "3"
      ]
     },
     "execution_count": 82,
     "metadata": {},
     "output_type": "execute_result"
    }
   ],
   "source": [
    "a"
   ]
  },
  {
   "cell_type": "code",
   "execution_count": 83,
   "id": "1557a008-b381-428b-9fa1-03effd6ebcd7",
   "metadata": {
    "tags": []
   },
   "outputs": [
    {
     "data": {
      "text/plain": [
       "int"
      ]
     },
     "execution_count": 83,
     "metadata": {},
     "output_type": "execute_result"
    }
   ],
   "source": [
    "type(a)"
   ]
  },
  {
   "cell_type": "markdown",
   "id": "f7b46b70-66e5-4fc1-a320-8f76ff13321a",
   "metadata": {},
   "source": [
    "###  Powers"
   ]
  },
  {
   "cell_type": "code",
   "execution_count": 84,
   "id": "1f63ab5b-0429-4496-b5b0-1cff520dcc26",
   "metadata": {
    "tags": []
   },
   "outputs": [],
   "source": [
    "a=i1**f1"
   ]
  },
  {
   "cell_type": "code",
   "execution_count": 85,
   "id": "c53b8d95-96a0-4aac-a773-ee85c978f3de",
   "metadata": {
    "tags": []
   },
   "outputs": [
    {
     "data": {
      "text/plain": [
       "237.95674233948478"
      ]
     },
     "execution_count": 85,
     "metadata": {},
     "output_type": "execute_result"
    }
   ],
   "source": [
    "a"
   ]
  },
  {
   "cell_type": "code",
   "execution_count": 86,
   "id": "c8146d02-af50-4a04-b35f-c2ad61e46e3b",
   "metadata": {
    "tags": []
   },
   "outputs": [],
   "source": [
    "a=i1**b1"
   ]
  },
  {
   "cell_type": "code",
   "execution_count": 87,
   "id": "4001c4e8-8bb1-401e-836b-19f98b0442c9",
   "metadata": {
    "tags": []
   },
   "outputs": [
    {
     "data": {
      "text/plain": [
       "5"
      ]
     },
     "execution_count": 87,
     "metadata": {},
     "output_type": "execute_result"
    }
   ],
   "source": [
    "a"
   ]
  },
  {
   "cell_type": "code",
   "execution_count": 88,
   "id": "31592e56-a2f2-4be4-a2cb-98f2fc0c5f95",
   "metadata": {
    "tags": []
   },
   "outputs": [],
   "source": [
    "a=0**0"
   ]
  },
  {
   "cell_type": "code",
   "execution_count": 89,
   "id": "4f1b2a2c-a1cc-4bbc-880b-3281c7fabf65",
   "metadata": {
    "tags": []
   },
   "outputs": [
    {
     "data": {
      "text/plain": [
       "1"
      ]
     },
     "execution_count": 89,
     "metadata": {},
     "output_type": "execute_result"
    }
   ],
   "source": [
    "a"
   ]
  },
  {
   "cell_type": "markdown",
   "id": "a651b741-e58a-424e-8582-e86d886078d7",
   "metadata": {
    "tags": []
   },
   "source": [
    "##   Modulus"
   ]
  },
  {
   "cell_type": "code",
   "execution_count": 91,
   "id": "055f9169-a767-4af2-9913-8f1f5cac605d",
   "metadata": {
    "tags": []
   },
   "outputs": [],
   "source": [
    "a=5%3"
   ]
  },
  {
   "cell_type": "code",
   "execution_count": 92,
   "id": "30e0210e-17d8-42e0-b35c-4fd2f54648db",
   "metadata": {
    "tags": []
   },
   "outputs": [
    {
     "data": {
      "text/plain": [
       "2"
      ]
     },
     "execution_count": 92,
     "metadata": {},
     "output_type": "execute_result"
    }
   ],
   "source": [
    "a"
   ]
  },
  {
   "cell_type": "code",
   "execution_count": 93,
   "id": "b92f4285-bdd0-42e2-acc1-0df44559d39f",
   "metadata": {
    "tags": []
   },
   "outputs": [],
   "source": [
    "a=-6%5"
   ]
  },
  {
   "cell_type": "code",
   "execution_count": 94,
   "id": "f2d774b0-848c-409b-ab0f-13d557d4dd61",
   "metadata": {
    "tags": []
   },
   "outputs": [
    {
     "data": {
      "text/plain": [
       "4"
      ]
     },
     "execution_count": 94,
     "metadata": {},
     "output_type": "execute_result"
    }
   ],
   "source": [
    "a"
   ]
  },
  {
   "cell_type": "markdown",
   "id": "90ace224-dcfe-4346-8241-60ddc47d7a89",
   "metadata": {},
   "source": [
    "###    Integer division"
   ]
  },
  {
   "cell_type": "code",
   "execution_count": 95,
   "id": "06bdb5d0-17b9-4654-a34a-e723a212ef44",
   "metadata": {
    "tags": []
   },
   "outputs": [],
   "source": [
    "a=5//2"
   ]
  },
  {
   "cell_type": "code",
   "execution_count": 96,
   "id": "7bb63ac5-134f-48f2-9467-4dfd90da85c0",
   "metadata": {
    "tags": []
   },
   "outputs": [
    {
     "data": {
      "text/plain": [
       "2"
      ]
     },
     "execution_count": 96,
     "metadata": {},
     "output_type": "execute_result"
    }
   ],
   "source": [
    "a"
   ]
  },
  {
   "cell_type": "code",
   "execution_count": 97,
   "id": "192d8a21-0854-40dd-9eba-03583e4d66df",
   "metadata": {
    "tags": []
   },
   "outputs": [],
   "source": [
    "a=(-72.4//4.5)*4.5+(-72.4%4.5)"
   ]
  },
  {
   "cell_type": "code",
   "execution_count": 98,
   "id": "b1f85a63-f19f-45c8-ae53-265e1df16b35",
   "metadata": {
    "tags": []
   },
   "outputs": [
    {
     "data": {
      "text/plain": [
       "-72.4"
      ]
     },
     "execution_count": 98,
     "metadata": {},
     "output_type": "execute_result"
    }
   ],
   "source": [
    "a"
   ]
  },
  {
   "cell_type": "markdown",
   "id": "5b58d2f2-c74c-44c4-a771-559d5e9759b6",
   "metadata": {},
   "source": [
    "### Logical"
   ]
  },
  {
   "cell_type": "code",
   "execution_count": 99,
   "id": "69b41f42-f80e-4f45-b08f-e11458aec8f5",
   "metadata": {
    "tags": []
   },
   "outputs": [],
   "source": [
    "a=True and True"
   ]
  },
  {
   "cell_type": "code",
   "execution_count": 100,
   "id": "79eba59d-e098-407b-8ca7-d682ac9c1457",
   "metadata": {
    "tags": []
   },
   "outputs": [
    {
     "data": {
      "text/plain": [
       "True"
      ]
     },
     "execution_count": 100,
     "metadata": {},
     "output_type": "execute_result"
    }
   ],
   "source": [
    "a"
   ]
  },
  {
   "cell_type": "code",
   "execution_count": 101,
   "id": "8fa54cac-d56b-4245-8e48-c0a079dffb58",
   "metadata": {
    "tags": []
   },
   "outputs": [],
   "source": [
    "# () and () is True if both things are True"
   ]
  },
  {
   "cell_type": "code",
   "execution_count": 102,
   "id": "7c5a7ae7-a822-45c8-8ffe-dacbb8d6fcf3",
   "metadata": {
    "tags": []
   },
   "outputs": [],
   "source": [
    "a=True or False"
   ]
  },
  {
   "cell_type": "code",
   "execution_count": 103,
   "id": "d3c2ae9a-8c1b-4389-8792-c7ff520c2037",
   "metadata": {
    "tags": []
   },
   "outputs": [
    {
     "data": {
      "text/plain": [
       "True"
      ]
     },
     "execution_count": 103,
     "metadata": {},
     "output_type": "execute_result"
    }
   ],
   "source": [
    "a"
   ]
  },
  {
   "cell_type": "code",
   "execution_count": 104,
   "id": "ccca0e30-50fa-4759-9253-d093f969aed8",
   "metadata": {
    "tags": []
   },
   "outputs": [],
   "source": [
    "# if at least of of the variables is True, then the result is True"
   ]
  },
  {
   "cell_type": "code",
   "execution_count": 105,
   "id": "0718af2f-dae3-47c1-a191-3b6c6adfba90",
   "metadata": {
    "tags": []
   },
   "outputs": [],
   "source": [
    "a=not False"
   ]
  },
  {
   "cell_type": "code",
   "execution_count": 106,
   "id": "1eecd2a7-6b9b-4b43-ad83-6827981ec697",
   "metadata": {
    "tags": []
   },
   "outputs": [
    {
     "data": {
      "text/plain": [
       "True"
      ]
     },
     "execution_count": 106,
     "metadata": {},
     "output_type": "execute_result"
    }
   ],
   "source": [
    "a"
   ]
  },
  {
   "cell_type": "code",
   "execution_count": 107,
   "id": "0ed15ad2-ffd3-4bd1-88c4-83b3e5540efd",
   "metadata": {
    "tags": []
   },
   "outputs": [],
   "source": [
    "a=(not False and True) or False"
   ]
  },
  {
   "cell_type": "code",
   "execution_count": 115,
   "id": "ce7499f0-747c-4fc8-9ffe-4581632132fc",
   "metadata": {
    "tags": []
   },
   "outputs": [
    {
     "data": {
      "text/plain": [
       "True"
      ]
     },
     "execution_count": 115,
     "metadata": {},
     "output_type": "execute_result"
    }
   ],
   "source": [
    "a"
   ]
  },
  {
   "cell_type": "code",
   "execution_count": 119,
   "id": "78416f82-cb3f-44ef-aeb8-ac3ae9272954",
   "metadata": {
    "tags": []
   },
   "outputs": [],
   "source": [
    "a=i1==i2"
   ]
  },
  {
   "cell_type": "code",
   "execution_count": 120,
   "id": "ccdced71-a86b-47cc-b2af-390942205ec5",
   "metadata": {
    "tags": []
   },
   "outputs": [
    {
     "data": {
      "text/plain": [
       "False"
      ]
     },
     "execution_count": 120,
     "metadata": {},
     "output_type": "execute_result"
    }
   ],
   "source": [
    "a"
   ]
  },
  {
   "cell_type": "markdown",
   "id": "3e2d741e-ff5c-452b-ac7b-fd05d22168d5",
   "metadata": {},
   "source": [
    "##  Coding exercise"
   ]
  },
  {
   "cell_type": "code",
   "execution_count": 112,
   "id": "5ec024a4-cc4c-496c-81c2-4db412527c4f",
   "metadata": {
    "tags": []
   },
   "outputs": [],
   "source": [
    "# Define a variable that stores the text 'penguin', Define another vaiable \n",
    "# that stores the value 5. In a third variable, I'll multiply the orevious 2.\n",
    "# Then I'll print this to the screen."
   ]
  },
  {
   "cell_type": "code",
   "execution_count": 114,
   "id": "f4e396a9-9f81-49c1-9869-fc52be84f4fb",
   "metadata": {
    "tags": []
   },
   "outputs": [
    {
     "name": "stdout",
     "output_type": "stream",
     "text": [
      "penguinpenguinpenguinpenguinpenguin\n"
     ]
    }
   ],
   "source": [
    "animal = \"penguin\"\n",
    "number = 5\n",
    "number_animal = number * animal\n",
    "print(number_animal)"
   ]
  },
  {
   "cell_type": "code",
   "execution_count": 2,
   "id": "4d2813be-2354-4ab3-854c-897dbe5f41d5",
   "metadata": {},
   "outputs": [],
   "source": [
    "(a,b) = (\"penguin\",\"sea lion\")"
   ]
  },
  {
   "cell_type": "code",
   "execution_count": 4,
   "id": "7ec174fa-4369-4b00-ae3b-8a3b9d8da1fc",
   "metadata": {
    "tags": []
   },
   "outputs": [
    {
     "name": "stdout",
     "output_type": "stream",
     "text": [
      "penguin\n"
     ]
    }
   ],
   "source": [
    "print (a)"
   ]
  },
  {
   "cell_type": "code",
   "execution_count": 5,
   "id": "85bf38a0-4e74-4095-b2d9-4d28f5c99fdb",
   "metadata": {
    "tags": []
   },
   "outputs": [
    {
     "name": "stdout",
     "output_type": "stream",
     "text": [
      "sea lion\n"
     ]
    }
   ],
   "source": [
    "print (b)"
   ]
  },
  {
   "cell_type": "code",
   "execution_count": 14,
   "id": "1c8b43c4-eb35-4100-bf3a-9d14859e8a38",
   "metadata": {
    "tags": []
   },
   "outputs": [],
   "source": [
    "c = a+a+a+b+b"
   ]
  },
  {
   "cell_type": "code",
   "execution_count": 16,
   "id": "a20b5213-c14e-437b-9597-e7f8208d9ddb",
   "metadata": {
    "tags": []
   },
   "outputs": [
    {
     "name": "stdout",
     "output_type": "stream",
     "text": [
      "penguinpenguinpenguinsea lionsea lion\n"
     ]
    }
   ],
   "source": [
    "print (c)"
   ]
  },
  {
   "cell_type": "code",
   "execution_count": 17,
   "id": "b9257679-676b-4676-95d9-95a3d3523449",
   "metadata": {
    "tags": []
   },
   "outputs": [
    {
     "ename": "SyntaxError",
     "evalue": "invalid decimal literal (2307509529.py, line 1)",
     "output_type": "error",
     "traceback": [
      "\u001b[1;36m  Cell \u001b[1;32mIn[17], line 1\u001b[1;36m\u001b[0m\n\u001b[1;33m    c=3a + 2b\u001b[0m\n\u001b[1;37m      ^\u001b[0m\n\u001b[1;31mSyntaxError\u001b[0m\u001b[1;31m:\u001b[0m invalid decimal literal\n"
     ]
    }
   ],
   "source": [
    "c=3a + 2b"
   ]
  },
  {
   "cell_type": "code",
   "execution_count": 18,
   "id": "497f22ca-4e7f-40f4-bb01-3a5838497369",
   "metadata": {
    "tags": []
   },
   "outputs": [],
   "source": [
    "c=3*a+2*b"
   ]
  },
  {
   "cell_type": "code",
   "execution_count": 19,
   "id": "e585d1c4-0bda-439f-a590-c458513a38a5",
   "metadata": {
    "tags": []
   },
   "outputs": [
    {
     "name": "stdout",
     "output_type": "stream",
     "text": [
      "penguinpenguinpenguinsea lionsea lion\n"
     ]
    }
   ],
   "source": [
    "print (c)"
   ]
  },
  {
   "cell_type": "code",
   "execution_count": null,
   "id": "7942fd6d-0cc3-43b4-b78e-6cdb68c8fda0",
   "metadata": {},
   "outputs": [],
   "source": []
  }
 ],
 "metadata": {
  "kernelspec": {
   "display_name": "Python 3 (ipykernel)",
   "language": "python",
   "name": "python3"
  },
  "language_info": {
   "codemirror_mode": {
    "name": "ipython",
    "version": 3
   },
   "file_extension": ".py",
   "mimetype": "text/x-python",
   "name": "python",
   "nbconvert_exporter": "python",
   "pygments_lexer": "ipython3",
   "version": "3.11.4"
  }
 },
 "nbformat": 4,
 "nbformat_minor": 5
}
