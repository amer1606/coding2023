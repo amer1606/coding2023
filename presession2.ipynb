{
 "cells": [
  {
   "cell_type": "code",
   "execution_count": 1,
   "id": "907d7d4d-27c6-4932-87f2-356ae2516955",
   "metadata": {
    "tags": []
   },
   "outputs": [],
   "source": [
    "a=[1,2,3]"
   ]
  },
  {
   "cell_type": "code",
   "execution_count": 2,
   "id": "2d75add5-e23a-4013-96b1-d2d6e35f7df4",
   "metadata": {
    "tags": []
   },
   "outputs": [
    {
     "data": {
      "text/plain": [
       "6"
      ]
     },
     "execution_count": 2,
     "metadata": {},
     "output_type": "execute_result"
    }
   ],
   "source": [
    "sum(a)"
   ]
  },
  {
   "cell_type": "code",
   "execution_count": 3,
   "id": "650d8333-22f9-4aa8-a201-f6aecad22dc4",
   "metadata": {
    "tags": []
   },
   "outputs": [
    {
     "data": {
      "text/plain": [
       "3"
      ]
     },
     "execution_count": 3,
     "metadata": {},
     "output_type": "execute_result"
    }
   ],
   "source": [
    "sum(a,-3)"
   ]
  },
  {
   "cell_type": "code",
   "execution_count": 4,
   "id": "39d0b082-358e-40ce-9b12-fe2c2d2b98df",
   "metadata": {
    "tags": []
   },
   "outputs": [
    {
     "data": {
      "text/plain": [
       "5"
      ]
     },
     "execution_count": 4,
     "metadata": {},
     "output_type": "execute_result"
    }
   ],
   "source": [
    "sum(a,-1)"
   ]
  },
  {
   "cell_type": "code",
   "execution_count": 6,
   "id": "0e899d7b-6337-4f45-bc3b-bad72deaefcf",
   "metadata": {
    "tags": []
   },
   "outputs": [],
   "source": [
    "a=[1,3,7,10]"
   ]
  },
  {
   "cell_type": "code",
   "execution_count": 7,
   "id": "be69375c-f8e9-4e61-bed7-c3eac039ff46",
   "metadata": {
    "tags": []
   },
   "outputs": [
    {
     "data": {
      "text/plain": [
       "[1, 3, 7, 10]"
      ]
     },
     "execution_count": 7,
     "metadata": {},
     "output_type": "execute_result"
    }
   ],
   "source": [
    "a"
   ]
  },
  {
   "cell_type": "code",
   "execution_count": 8,
   "id": "2ab1ccc5-b79a-4dcc-ba51-e4f12b4ce260",
   "metadata": {
    "tags": []
   },
   "outputs": [
    {
     "data": {
      "text/plain": [
       "21"
      ]
     },
     "execution_count": 8,
     "metadata": {},
     "output_type": "execute_result"
    }
   ],
   "source": [
    "sum(a)"
   ]
  },
  {
   "cell_type": "code",
   "execution_count": 9,
   "id": "d2d9c7e9-5396-4451-98dd-8e53c2d27050",
   "metadata": {
    "tags": []
   },
   "outputs": [
    {
     "data": {
      "text/plain": [
       "19"
      ]
     },
     "execution_count": 9,
     "metadata": {},
     "output_type": "execute_result"
    }
   ],
   "source": [
    "sum(a,-2)"
   ]
  },
  {
   "cell_type": "code",
   "execution_count": 10,
   "id": "b2f72f08-2ea5-4007-b336-a100b08c2d6c",
   "metadata": {
    "tags": []
   },
   "outputs": [],
   "source": [
    "a=['penguin',2,3]"
   ]
  },
  {
   "cell_type": "code",
   "execution_count": 11,
   "id": "f40c9f05-1793-438f-94d4-9cd2f89584ff",
   "metadata": {
    "tags": []
   },
   "outputs": [
    {
     "data": {
      "text/plain": [
       "['penguin', 2, 3, 'penguin', 2, 3, 'penguin', 2, 3]"
      ]
     },
     "execution_count": 11,
     "metadata": {},
     "output_type": "execute_result"
    }
   ],
   "source": [
    "a*3"
   ]
  },
  {
   "cell_type": "code",
   "execution_count": 15,
   "id": "3f2bd040-2c14-40d5-9475-dc33cb4502ae",
   "metadata": {
    "tags": []
   },
   "outputs": [],
   "source": [
    "a=[\"this\",\"is\",\"a\",\"great\",\"horse\",\"!\"]"
   ]
  },
  {
   "cell_type": "code",
   "execution_count": 13,
   "id": "f4a7959a-aa0b-49bb-a673-cc398954b13f",
   "metadata": {
    "tags": []
   },
   "outputs": [
    {
     "data": {
      "text/plain": [
       "['thi', 'is', 'a', 'great', 'horse', '!']"
      ]
     },
     "execution_count": 13,
     "metadata": {},
     "output_type": "execute_result"
    }
   ],
   "source": [
    "a"
   ]
  },
  {
   "cell_type": "code",
   "execution_count": 16,
   "id": "5d7041f7-b194-453f-ae65-89b0f5afdf04",
   "metadata": {
    "tags": []
   },
   "outputs": [
    {
     "data": {
      "text/plain": [
       "'this is a great horse !'"
      ]
     },
     "execution_count": 16,
     "metadata": {},
     "output_type": "execute_result"
    }
   ],
   "source": [
    "\" \".join(a)"
   ]
  },
  {
   "cell_type": "code",
   "execution_count": 17,
   "id": "d71a0bf3-d25c-4ee4-bfb6-8a2519ff93ef",
   "metadata": {
    "tags": []
   },
   "outputs": [
    {
     "ename": "AttributeError",
     "evalue": "'list' object has no attribute 'join'",
     "output_type": "error",
     "traceback": [
      "\u001b[1;31m---------------------------------------------------------------------------\u001b[0m",
      "\u001b[1;31mAttributeError\u001b[0m                            Traceback (most recent call last)",
      "Cell \u001b[1;32mIn[17], line 1\u001b[0m\n\u001b[1;32m----> 1\u001b[0m a\u001b[38;5;241m.\u001b[39mjoin(\u001b[38;5;124m\"\u001b[39m\u001b[38;5;124m \u001b[39m\u001b[38;5;124m\"\u001b[39m)\n",
      "\u001b[1;31mAttributeError\u001b[0m: 'list' object has no attribute 'join'"
     ]
    }
   ],
   "source": [
    "a.join(\" \")"
   ]
  },
  {
   "cell_type": "code",
   "execution_count": 18,
   "id": "c811f74f-5a88-4ae8-84f6-5d1a749d172d",
   "metadata": {
    "tags": []
   },
   "outputs": [],
   "source": [
    "a=[1,3,5,\"sea\"]"
   ]
  },
  {
   "cell_type": "markdown",
   "id": "03660668-8420-4862-87f4-96d37d25f834",
   "metadata": {},
   "source": [
    "### Tuple"
   ]
  },
  {
   "cell_type": "code",
   "execution_count": 19,
   "id": "8329ebe5-3480-4cf5-b404-87c9f289cd7a",
   "metadata": {
    "tags": []
   },
   "outputs": [],
   "source": [
    "a=[2,3,5,\"penguin\"]"
   ]
  },
  {
   "cell_type": "code",
   "execution_count": 20,
   "id": "d53208fd-ff74-4ad7-9a4c-b026f0522d06",
   "metadata": {
    "tags": []
   },
   "outputs": [
    {
     "data": {
      "text/plain": [
       "list"
      ]
     },
     "execution_count": 20,
     "metadata": {},
     "output_type": "execute_result"
    }
   ],
   "source": [
    "type(a)"
   ]
  },
  {
   "cell_type": "code",
   "execution_count": 21,
   "id": "7d3d4fbd-2576-4383-87ca-13c3f5012b81",
   "metadata": {
    "tags": []
   },
   "outputs": [],
   "source": [
    "a=(2,3,5,\"penguin\")"
   ]
  },
  {
   "cell_type": "code",
   "execution_count": 22,
   "id": "1569a65e-839b-43e7-adf5-64ba65ea9aa8",
   "metadata": {
    "tags": []
   },
   "outputs": [
    {
     "data": {
      "text/plain": [
       "tuple"
      ]
     },
     "execution_count": 22,
     "metadata": {},
     "output_type": "execute_result"
    }
   ],
   "source": [
    "type(a)"
   ]
  },
  {
   "cell_type": "code",
   "execution_count": 23,
   "id": "1923f02d-d7b8-4ffa-9a87-6ad351d97ac5",
   "metadata": {
    "tags": []
   },
   "outputs": [],
   "source": [
    "b=a[0:2]"
   ]
  },
  {
   "cell_type": "code",
   "execution_count": 24,
   "id": "322a9046-6e9d-4cad-98d6-d90cf96797f4",
   "metadata": {
    "tags": []
   },
   "outputs": [
    {
     "data": {
      "text/plain": [
       "(2, 3)"
      ]
     },
     "execution_count": 24,
     "metadata": {},
     "output_type": "execute_result"
    }
   ],
   "source": [
    "b"
   ]
  },
  {
   "cell_type": "code",
   "execution_count": 25,
   "id": "27d8ec92-bf8d-4295-90bc-234106ca5a82",
   "metadata": {
    "tags": []
   },
   "outputs": [],
   "source": [
    "b=(1,2,[3,4])"
   ]
  },
  {
   "cell_type": "code",
   "execution_count": 26,
   "id": "cda790f6-af1b-4aed-b392-668f92e23281",
   "metadata": {
    "tags": []
   },
   "outputs": [
    {
     "data": {
      "text/plain": [
       "(1, 2, [3, 4])"
      ]
     },
     "execution_count": 26,
     "metadata": {},
     "output_type": "execute_result"
    }
   ],
   "source": [
    "b"
   ]
  },
  {
   "cell_type": "code",
   "execution_count": 27,
   "id": "90a6baa6-830e-4744-a9d3-3663f371f4e9",
   "metadata": {
    "tags": []
   },
   "outputs": [
    {
     "data": {
      "text/plain": [
       "4"
      ]
     },
     "execution_count": 27,
     "metadata": {},
     "output_type": "execute_result"
    }
   ],
   "source": [
    "b[2].pop(1)"
   ]
  },
  {
   "cell_type": "code",
   "execution_count": 28,
   "id": "76499201-8eec-4cbf-85a3-d5b8a8ce3705",
   "metadata": {
    "tags": []
   },
   "outputs": [
    {
     "data": {
      "text/plain": [
       "(1, 2, [3])"
      ]
     },
     "execution_count": 28,
     "metadata": {},
     "output_type": "execute_result"
    }
   ],
   "source": [
    "b"
   ]
  },
  {
   "cell_type": "code",
   "execution_count": 29,
   "id": "4e7520c5-f35f-445e-8cdb-1da5795c28bf",
   "metadata": {
    "tags": []
   },
   "outputs": [
    {
     "ename": "AttributeError",
     "evalue": "'tuple' object has no attribute 'append'",
     "output_type": "error",
     "traceback": [
      "\u001b[1;31m---------------------------------------------------------------------------\u001b[0m",
      "\u001b[1;31mAttributeError\u001b[0m                            Traceback (most recent call last)",
      "Cell \u001b[1;32mIn[29], line 1\u001b[0m\n\u001b[1;32m----> 1\u001b[0m b\u001b[38;5;241m.\u001b[39mappend(\u001b[38;5;241m4\u001b[39m)\n",
      "\u001b[1;31mAttributeError\u001b[0m: 'tuple' object has no attribute 'append'"
     ]
    }
   ],
   "source": [
    "b.append(4)"
   ]
  },
  {
   "cell_type": "code",
   "execution_count": 30,
   "id": "2d2cc0d4-fecf-4e86-aca4-2abcbc505a87",
   "metadata": {
    "tags": []
   },
   "outputs": [],
   "source": [
    "b[2].append(4)"
   ]
  },
  {
   "cell_type": "code",
   "execution_count": 31,
   "id": "831b3262-a6e7-4f60-86ad-8f1b763ff4cb",
   "metadata": {
    "tags": []
   },
   "outputs": [
    {
     "data": {
      "text/plain": [
       "(1, 2, [3, 4])"
      ]
     },
     "execution_count": 31,
     "metadata": {},
     "output_type": "execute_result"
    }
   ],
   "source": [
    "b"
   ]
  },
  {
   "cell_type": "code",
   "execution_count": 32,
   "id": "8fa62d56-bee9-4450-9bd4-b0e87be62c4c",
   "metadata": {
    "tags": []
   },
   "outputs": [
    {
     "data": {
      "text/plain": [
       "3"
      ]
     },
     "execution_count": 32,
     "metadata": {},
     "output_type": "execute_result"
    }
   ],
   "source": [
    "len(b)"
   ]
  },
  {
   "cell_type": "code",
   "execution_count": 33,
   "id": "742905dd-ae94-4f4d-b01d-117173d73aa0",
   "metadata": {
    "tags": []
   },
   "outputs": [],
   "source": [
    "a=[\"alain\",\"merceron\",\"16/06/1963\",85270]"
   ]
  },
  {
   "cell_type": "code",
   "execution_count": 34,
   "id": "ce6bf082-e974-46f2-bc41-a8e845f94354",
   "metadata": {
    "tags": []
   },
   "outputs": [
    {
     "data": {
      "text/plain": [
       "4"
      ]
     },
     "execution_count": 34,
     "metadata": {},
     "output_type": "execute_result"
    }
   ],
   "source": [
    "len(a)"
   ]
  },
  {
   "cell_type": "code",
   "execution_count": 35,
   "id": "f3f56c3a-f409-46e2-a1e7-ff50b3a04f2b",
   "metadata": {
    "tags": []
   },
   "outputs": [],
   "source": [
    "a.append(\"FR\")"
   ]
  },
  {
   "cell_type": "code",
   "execution_count": 36,
   "id": "68cc8f33-8a32-4100-b6b0-f3ade54e3bde",
   "metadata": {
    "tags": []
   },
   "outputs": [
    {
     "data": {
      "text/plain": [
       "['alain', 'merceron', '16/06/1963', 85270, 'FR']"
      ]
     },
     "execution_count": 36,
     "metadata": {},
     "output_type": "execute_result"
    }
   ],
   "source": [
    "a"
   ]
  },
  {
   "cell_type": "code",
   "execution_count": 46,
   "id": "e41781b6-c1a2-4cbe-9731-c98637cb887a",
   "metadata": {
    "tags": []
   },
   "outputs": [],
   "source": [
    "b=a[2][0:2]"
   ]
  },
  {
   "cell_type": "code",
   "execution_count": 47,
   "id": "8d5a842d-83e5-425a-a47f-2e90d5553110",
   "metadata": {
    "tags": []
   },
   "outputs": [],
   "source": [
    "b=int(b)"
   ]
  },
  {
   "cell_type": "code",
   "execution_count": 48,
   "id": "22cafee2-117b-4679-847f-7697b95a29fc",
   "metadata": {
    "tags": []
   },
   "outputs": [
    {
     "data": {
      "text/plain": [
       "16"
      ]
     },
     "execution_count": 48,
     "metadata": {},
     "output_type": "execute_result"
    }
   ],
   "source": [
    "b"
   ]
  },
  {
   "cell_type": "markdown",
   "id": "be0dac99-238d-4994-91db-513f6ad83126",
   "metadata": {},
   "source": [
    "###  Sets"
   ]
  },
  {
   "cell_type": "code",
   "execution_count": 49,
   "id": "de76633c-a308-4132-98b2-bf9f3f0cde3e",
   "metadata": {
    "tags": []
   },
   "outputs": [],
   "source": [
    "e={2,3,4,\"penguin\",\"sea lion\"}"
   ]
  },
  {
   "cell_type": "code",
   "execution_count": 50,
   "id": "09ed2015-5451-47ec-83f3-f2d5ce6c4426",
   "metadata": {
    "tags": []
   },
   "outputs": [
    {
     "name": "stderr",
     "output_type": "stream",
     "text": [
      "<>:1: SyntaxWarning: invalid decimal literal\n",
      "<>:1: SyntaxWarning: invalid decimal literal\n",
      "C:\\Users\\ceder\\AppData\\Local\\Temp\\ipykernel_9648\\3460836444.py:1: SyntaxWarning: invalid decimal literal\n",
      "  2ine\n"
     ]
    },
    {
     "ename": "SyntaxError",
     "evalue": "invalid syntax (3460836444.py, line 1)",
     "output_type": "error",
     "traceback": [
      "\u001b[1;36m  Cell \u001b[1;32mIn[50], line 1\u001b[1;36m\u001b[0m\n\u001b[1;33m    2ine\u001b[0m\n\u001b[1;37m     ^\u001b[0m\n\u001b[1;31mSyntaxError\u001b[0m\u001b[1;31m:\u001b[0m invalid syntax\n"
     ]
    }
   ],
   "source": [
    "2ine"
   ]
  },
  {
   "cell_type": "code",
   "execution_count": 51,
   "id": "8b1e7af3-901a-4f12-b783-9038529cf843",
   "metadata": {
    "tags": []
   },
   "outputs": [
    {
     "data": {
      "text/plain": [
       "True"
      ]
     },
     "execution_count": 51,
     "metadata": {},
     "output_type": "execute_result"
    }
   ],
   "source": [
    "2 in e"
   ]
  },
  {
   "cell_type": "code",
   "execution_count": 52,
   "id": "d2848648-29df-4131-ba3d-10943cd5a858",
   "metadata": {
    "tags": []
   },
   "outputs": [
    {
     "data": {
      "text/plain": [
       "False"
      ]
     },
     "execution_count": 52,
     "metadata": {},
     "output_type": "execute_result"
    }
   ],
   "source": [
    "7 in e"
   ]
  },
  {
   "cell_type": "code",
   "execution_count": 53,
   "id": "ea7566ab-4b29-4d8d-b90c-041fdf1e6849",
   "metadata": {
    "tags": []
   },
   "outputs": [
    {
     "data": {
      "text/plain": [
       "{2, 3, 4, 'penguin', 'sea lion'}"
      ]
     },
     "execution_count": 53,
     "metadata": {},
     "output_type": "execute_result"
    }
   ],
   "source": [
    "e"
   ]
  },
  {
   "cell_type": "code",
   "execution_count": 54,
   "id": "8b3c21b0-b26d-46e6-8d2f-7724863c2fd1",
   "metadata": {
    "tags": []
   },
   "outputs": [],
   "source": [
    "e.add(5)"
   ]
  },
  {
   "cell_type": "code",
   "execution_count": 55,
   "id": "37cd4d1b-82e4-4ff8-9a12-d713e861e0e5",
   "metadata": {
    "tags": []
   },
   "outputs": [
    {
     "data": {
      "text/plain": [
       "{2, 3, 4, 5, 'penguin', 'sea lion'}"
      ]
     },
     "execution_count": 55,
     "metadata": {},
     "output_type": "execute_result"
    }
   ],
   "source": [
    "e"
   ]
  },
  {
   "cell_type": "code",
   "execution_count": 56,
   "id": "c0689916-97bd-42ae-a3d6-7e24a7c03ac2",
   "metadata": {
    "tags": []
   },
   "outputs": [],
   "source": [
    "e.add(1)"
   ]
  },
  {
   "cell_type": "code",
   "execution_count": 57,
   "id": "e81f9885-016a-4081-90cd-ff37f8f61c31",
   "metadata": {
    "tags": []
   },
   "outputs": [
    {
     "data": {
      "text/plain": [
       "{1, 2, 3, 4, 5, 'penguin', 'sea lion'}"
      ]
     },
     "execution_count": 57,
     "metadata": {},
     "output_type": "execute_result"
    }
   ],
   "source": [
    "e"
   ]
  },
  {
   "cell_type": "code",
   "execution_count": 58,
   "id": "a8e43a2e-8303-4f49-8921-8f1c18d903d7",
   "metadata": {
    "tags": []
   },
   "outputs": [
    {
     "data": {
      "text/plain": [
       "['penguin', 1, 2, 3, 4, 5, 'sea lion']"
      ]
     },
     "execution_count": 58,
     "metadata": {},
     "output_type": "execute_result"
    }
   ],
   "source": [
    "list(e)"
   ]
  },
  {
   "cell_type": "code",
   "execution_count": 59,
   "id": "17fda951-10c3-4776-92c0-00d8792728d2",
   "metadata": {
    "tags": []
   },
   "outputs": [],
   "source": [
    "#  set becomes a lit"
   ]
  },
  {
   "cell_type": "code",
   "execution_count": 60,
   "id": "101681e0-2294-491a-9266-59552c879b99",
   "metadata": {
    "tags": []
   },
   "outputs": [
    {
     "data": {
      "text/plain": [
       "('penguin', 1, 2, 3, 4, 5, 'sea lion')"
      ]
     },
     "execution_count": 60,
     "metadata": {},
     "output_type": "execute_result"
    }
   ],
   "source": [
    "tuple(e)"
   ]
  },
  {
   "cell_type": "code",
   "execution_count": 61,
   "id": "449ab6f0-cedc-4190-b8fd-2795aa4179e3",
   "metadata": {
    "tags": []
   },
   "outputs": [],
   "source": [
    "s1={1,2,3,\"sea lion\",\"penguin\"}"
   ]
  },
  {
   "cell_type": "code",
   "execution_count": 62,
   "id": "ea4554fd-6b62-45bd-951a-67e9fc5ee94c",
   "metadata": {
    "tags": []
   },
   "outputs": [],
   "source": [
    "s2={1,2,4,\"penguin\",\"horse\"}"
   ]
  },
  {
   "cell_type": "code",
   "execution_count": 63,
   "id": "8f1ff81c-688b-426c-af33-bfd3f8ed5ef3",
   "metadata": {
    "tags": []
   },
   "outputs": [
    {
     "ename": "NameError",
     "evalue": "name 'S1' is not defined",
     "output_type": "error",
     "traceback": [
      "\u001b[1;31m---------------------------------------------------------------------------\u001b[0m",
      "\u001b[1;31mNameError\u001b[0m                                 Traceback (most recent call last)",
      "Cell \u001b[1;32mIn[63], line 1\u001b[0m\n\u001b[1;32m----> 1\u001b[0m S1 \u001b[38;5;241m&\u001b[39m S2\n",
      "\u001b[1;31mNameError\u001b[0m: name 'S1' is not defined"
     ]
    }
   ],
   "source": [
    "S1 & S2"
   ]
  },
  {
   "cell_type": "code",
   "execution_count": 64,
   "id": "0497fd5e-d5a6-47c1-b14e-50d81136337f",
   "metadata": {
    "tags": []
   },
   "outputs": [
    {
     "data": {
      "text/plain": [
       "{1, 2, 'penguin'}"
      ]
     },
     "execution_count": 64,
     "metadata": {},
     "output_type": "execute_result"
    }
   ],
   "source": [
    "s1 & s2"
   ]
  },
  {
   "cell_type": "code",
   "execution_count": 65,
   "id": "4b39c710-a5c6-4fa6-83f0-6e2434f3b461",
   "metadata": {
    "tags": []
   },
   "outputs": [
    {
     "data": {
      "text/plain": [
       "{1, 2, 3, 4, 'horse', 'penguin', 'sea lion'}"
      ]
     },
     "execution_count": 65,
     "metadata": {},
     "output_type": "execute_result"
    }
   ],
   "source": [
    "s1 | s2"
   ]
  },
  {
   "cell_type": "code",
   "execution_count": 66,
   "id": "74979e58-c429-46eb-9a65-457baf490f1e",
   "metadata": {
    "tags": []
   },
   "outputs": [
    {
     "data": {
      "text/plain": [
       "[1, 2, 3, 4, 'sea lion', 'penguin', 'horse']"
      ]
     },
     "execution_count": 66,
     "metadata": {},
     "output_type": "execute_result"
    }
   ],
   "source": [
    "list(s1 | s2)"
   ]
  },
  {
   "cell_type": "code",
   "execution_count": 67,
   "id": "8568d901-59cb-4e33-954b-9a1854757ff1",
   "metadata": {
    "tags": []
   },
   "outputs": [],
   "source": [
    "a=[1,2,2,2,5,4,9]"
   ]
  },
  {
   "cell_type": "code",
   "execution_count": 68,
   "id": "c6b369b6-e901-4e8f-9244-5b16860cc75f",
   "metadata": {
    "tags": []
   },
   "outputs": [
    {
     "data": {
      "text/plain": [
       "{1, 2, 4, 5, 9}"
      ]
     },
     "execution_count": 68,
     "metadata": {},
     "output_type": "execute_result"
    }
   ],
   "source": [
    "set(a)"
   ]
  },
  {
   "cell_type": "code",
   "execution_count": 69,
   "id": "dc0e7170-b52f-422e-b0ee-0968a8e9649a",
   "metadata": {
    "tags": []
   },
   "outputs": [
    {
     "data": {
      "text/plain": [
       "[1, 2, 4, 5, 9]"
      ]
     },
     "execution_count": 69,
     "metadata": {},
     "output_type": "execute_result"
    }
   ],
   "source": [
    "list(set(a))"
   ]
  },
  {
   "cell_type": "markdown",
   "id": "4376fc31-cdae-472a-9e9d-ac26bdcf33c3",
   "metadata": {},
   "source": [
    "###  Dictionary"
   ]
  },
  {
   "cell_type": "code",
   "execution_count": 70,
   "id": "8acd510b-b6c5-49e4-9c7e-2750431dadbe",
   "metadata": {
    "tags": []
   },
   "outputs": [],
   "source": [
    "a={'penguin':'cute','fish':'ugly','horse':'nice'}"
   ]
  },
  {
   "cell_type": "code",
   "execution_count": 72,
   "id": "0de392df-fb3e-40c9-93fb-2fdf793bccc3",
   "metadata": {
    "tags": []
   },
   "outputs": [
    {
     "data": {
      "text/plain": [
       "dict"
      ]
     },
     "execution_count": 72,
     "metadata": {},
     "output_type": "execute_result"
    }
   ],
   "source": [
    "type(a)"
   ]
  },
  {
   "cell_type": "code",
   "execution_count": 77,
   "id": "0b1bffbf-659e-4ad8-aa43-8cb5bea0d2c9",
   "metadata": {
    "tags": []
   },
   "outputs": [
    {
     "data": {
      "text/plain": [
       "'cute'"
      ]
     },
     "execution_count": 77,
     "metadata": {},
     "output_type": "execute_result"
    }
   ],
   "source": [
    "a['penguin']"
   ]
  },
  {
   "cell_type": "code",
   "execution_count": 78,
   "id": "810aeff7-9e9f-40ee-92b3-b91764879113",
   "metadata": {
    "tags": []
   },
   "outputs": [
    {
     "data": {
      "text/plain": [
       "dict_keys(['penguin', 'fish', 'horse'])"
      ]
     },
     "execution_count": 78,
     "metadata": {},
     "output_type": "execute_result"
    }
   ],
   "source": [
    "a.keys()"
   ]
  },
  {
   "cell_type": "code",
   "execution_count": 82,
   "id": "4a49be90-deaa-4b87-b287-278bac9531b1",
   "metadata": {
    "tags": []
   },
   "outputs": [
    {
     "data": {
      "text/plain": [
       "dict_values(['cute', 'ugly', 'nice'])"
      ]
     },
     "execution_count": 82,
     "metadata": {},
     "output_type": "execute_result"
    }
   ],
   "source": [
    "a.values()"
   ]
  },
  {
   "cell_type": "code",
   "execution_count": 83,
   "id": "9174254f-5a4c-49c3-ae9c-081610f19dc5",
   "metadata": {
    "tags": []
   },
   "outputs": [],
   "source": [
    "a=(\"penguin\")\n",
    "b=(\"sea lion\")\n",
    "c=3*a+2*b"
   ]
  },
  {
   "cell_type": "code",
   "execution_count": 84,
   "id": "7982ad5e-8a09-42ac-8065-7e7fb77fcd3a",
   "metadata": {
    "tags": []
   },
   "outputs": [
    {
     "name": "stdout",
     "output_type": "stream",
     "text": [
      "penguinpenguinpenguinsea lionsea lion\n"
     ]
    }
   ],
   "source": [
    "print (c)"
   ]
  },
  {
   "cell_type": "code",
   "execution_count": 85,
   "id": "13a28eca-1c9f-4674-b67e-cb66a9546584",
   "metadata": {
    "tags": []
   },
   "outputs": [
    {
     "ename": "SyntaxError",
     "evalue": "invalid syntax (714380992.py, line 1)",
     "output_type": "error",
     "traceback": [
      "\u001b[1;36m  Cell \u001b[1;32mIn[85], line 1\u001b[1;36m\u001b[0m\n\u001b[1;33m    guit push\u001b[0m\n\u001b[1;37m         ^\u001b[0m\n\u001b[1;31mSyntaxError\u001b[0m\u001b[1;31m:\u001b[0m invalid syntax\n"
     ]
    }
   ],
   "source": [
    "guit push"
   ]
  },
  {
   "cell_type": "code",
   "execution_count": 86,
   "id": "e4223d43-84a2-4287-adfc-c3a47becc716",
   "metadata": {
    "tags": []
   },
   "outputs": [
    {
     "ename": "SyntaxError",
     "evalue": "invalid syntax (4238376967.py, line 1)",
     "output_type": "error",
     "traceback": [
      "\u001b[1;36m  Cell \u001b[1;32mIn[86], line 1\u001b[1;36m\u001b[0m\n\u001b[1;33m    git push\u001b[0m\n\u001b[1;37m        ^\u001b[0m\n\u001b[1;31mSyntaxError\u001b[0m\u001b[1;31m:\u001b[0m invalid syntax\n"
     ]
    }
   ],
   "source": [
    "git push"
   ]
  },
  {
   "cell_type": "code",
   "execution_count": 87,
   "id": "fb82b164-6ed8-4e60-ad32-882d8d4a77f1",
   "metadata": {
    "tags": []
   },
   "outputs": [
    {
     "ename": "SyntaxError",
     "evalue": "invalid syntax (2630282858.py, line 1)",
     "output_type": "error",
     "traceback": [
      "\u001b[1;36m  Cell \u001b[1;32mIn[87], line 1\u001b[1;36m\u001b[0m\n\u001b[1;33m    git commit\u001b[0m\n\u001b[1;37m        ^\u001b[0m\n\u001b[1;31mSyntaxError\u001b[0m\u001b[1;31m:\u001b[0m invalid syntax\n"
     ]
    }
   ],
   "source": [
    "git commit"
   ]
  },
  {
   "cell_type": "code",
   "execution_count": null,
   "id": "29bc952b-9fa1-41c8-bec5-9234c01ce2a8",
   "metadata": {},
   "outputs": [],
   "source": []
  }
 ],
 "metadata": {
  "kernelspec": {
   "display_name": "Python 3 (ipykernel)",
   "language": "python",
   "name": "python3"
  },
  "language_info": {
   "codemirror_mode": {
    "name": "ipython",
    "version": 3
   },
   "file_extension": ".py",
   "mimetype": "text/x-python",
   "name": "python",
   "nbconvert_exporter": "python",
   "pygments_lexer": "ipython3",
   "version": "3.11.4"
  }
 },
 "nbformat": 4,
 "nbformat_minor": 5
}
