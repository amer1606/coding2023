{
 "cells": [
  {
   "cell_type": "markdown",
   "id": "c5550212",
   "metadata": {},
   "source": [
    "# In this task you will have to use loops, if conditions and the print function to build an obstacle similar to the ones you would find in Super Mario. To do this, build a pyramid using hashes (#) as building blocks for your pyramid with 5 levels."
   ]
  },
  {
   "cell_type": "code",
   "execution_count": 7,
   "id": "dca18b2b",
   "metadata": {},
   "outputs": [
    {
     "name": "stdout",
     "output_type": "stream",
     "text": [
      "      \n",
      "     #\n",
      "    ##\n",
      "   ###\n",
      "  ####\n",
      " #####\n"
     ]
    }
   ],
   "source": [
    "for x in range(6):\n",
    "    print(\" \"*(5-x),\"#\"*x)"
   ]
  }
 ],
 "metadata": {
  "kernelspec": {
   "display_name": "Python 3 (ipykernel)",
   "language": "python",
   "name": "python3"
  },
  "language_info": {
   "codemirror_mode": {
    "name": "ipython",
    "version": 3
   },
   "file_extension": ".py",
   "mimetype": "text/x-python",
   "name": "python",
   "nbconvert_exporter": "python",
   "pygments_lexer": "ipython3",
   "version": "3.11.4"
  }
 },
 "nbformat": 4,
 "nbformat_minor": 5
}
