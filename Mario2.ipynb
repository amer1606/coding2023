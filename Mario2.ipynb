{
 "cells": [
  {
   "cell_type": "markdown",
   "id": "015b9ed3",
   "metadata": {},
   "source": [
    "### Write a function that takes as input an argument levels and returns a pyramid like in Task 1 with the number of levels equal to levels (i.e. the user of you function can decide the number of levels of the pyramid the function will produce). Note that for this function, you do not necessarily need a return statement."
   ]
  },
  {
   "cell_type": "code",
   "execution_count": 1,
   "id": "ec3e0dbd",
   "metadata": {},
   "outputs": [
    {
     "name": "stdout",
     "output_type": "stream",
     "text": [
      "How many levels should the pyramid have?21\n",
      "                      \n",
      "                     #\n",
      "                    ##\n",
      "                   ###\n",
      "                  ####\n",
      "                 #####\n",
      "                ######\n",
      "               #######\n",
      "              ########\n",
      "             #########\n",
      "            ##########\n",
      "           ###########\n",
      "          ############\n",
      "         #############\n",
      "        ##############\n",
      "       ###############\n",
      "      ################\n",
      "     #################\n",
      "    ##################\n",
      "   ###################\n",
      "  ####################\n",
      " #####################\n"
     ]
    }
   ],
   "source": [
    "levels = input(\"How many levels should the pyramid have?  \")\n",
    "for x in range(int(levels)+1):\n",
    "    print(\" \"*(int(levels)-x),\"#\"*x)"
   ]
  }
 ],
 "metadata": {
  "kernelspec": {
   "display_name": "Python 3 (ipykernel)",
   "language": "python",
   "name": "python3"
  },
  "language_info": {
   "codemirror_mode": {
    "name": "ipython",
    "version": 3
   },
   "file_extension": ".py",
   "mimetype": "text/x-python",
   "name": "python",
   "nbconvert_exporter": "python",
   "pygments_lexer": "ipython3",
   "version": "3.11.4"
  }
 },
 "nbformat": 4,
 "nbformat_minor": 5
}
