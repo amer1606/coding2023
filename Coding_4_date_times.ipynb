{
 "cells": [
  {
   "cell_type": "code",
   "execution_count": 1,
   "id": "7949939e",
   "metadata": {},
   "outputs": [],
   "source": [
    "import datetime"
   ]
  },
  {
   "cell_type": "code",
   "execution_count": 2,
   "id": "80c0f6f4",
   "metadata": {},
   "outputs": [],
   "source": [
    "D = datetime.date(2022,9,1)\n",
    "T = datetime.time(12,0,0)  # noon\n",
    "DT = datetime.datetime(2022,9,1,12,0,0)"
   ]
  },
  {
   "cell_type": "code",
   "execution_count": 8,
   "id": "634a3a86",
   "metadata": {},
   "outputs": [
    {
     "name": "stdout",
     "output_type": "stream",
     "text": [
      "D: 2022-09-01\n",
      "T: 12:00:00\n"
     ]
    }
   ],
   "source": [
    "print('D:',D)\n",
    "print ('T:',T)"
   ]
  },
  {
   "cell_type": "code",
   "execution_count": 9,
   "id": "5d3e08c5",
   "metadata": {},
   "outputs": [
    {
     "name": "stdout",
     "output_type": "stream",
     "text": [
      "Type of D: <class 'datetime.date'>\n"
     ]
    }
   ],
   "source": [
    "print('Type of D:',type(D))"
   ]
  },
  {
   "cell_type": "code",
   "execution_count": 15,
   "id": "b4b77176",
   "metadata": {},
   "outputs": [
    {
     "name": "stdout",
     "output_type": "stream",
     "text": [
      "2023-10-02 15:50:11.894011\n"
     ]
    }
   ],
   "source": [
    "#   We can also get the current datetime\n",
    "current_datetime = datetime.datetime.now()\n",
    "print(current_datetime)"
   ]
  },
  {
   "cell_type": "code",
   "execution_count": 16,
   "id": "d4d976a9",
   "metadata": {},
   "outputs": [
    {
     "name": "stdout",
     "output_type": "stream",
     "text": [
      "2023\n"
     ]
    }
   ],
   "source": [
    "#   Some useful properties\n",
    "print(current_datetime.year)"
   ]
  },
  {
   "cell_type": "code",
   "execution_count": 17,
   "id": "c9a7f303",
   "metadata": {},
   "outputs": [
    {
     "name": "stdout",
     "output_type": "stream",
     "text": [
      "0\n"
     ]
    }
   ],
   "source": [
    "#   Which week day is it?   (first day = 0)\n",
    "print(current_datetime.weekday())"
   ]
  },
  {
   "cell_type": "code",
   "execution_count": 19,
   "id": "e82bcaee",
   "metadata": {},
   "outputs": [],
   "source": [
    "datetime_old = datetime.datetime(1963,6,16)\n",
    "datetime_now = datetime.datetime.now()"
   ]
  },
  {
   "cell_type": "code",
   "execution_count": 22,
   "id": "e453f48f",
   "metadata": {},
   "outputs": [
    {
     "name": "stdout",
     "output_type": "stream",
     "text": [
      "22023\n",
      "22023 days, 15:52:05.022740\n"
     ]
    }
   ],
   "source": [
    "#    How many passed since birthdate\n",
    "dt = datetime_now - datetime_old\n",
    "print(dt.days)\n",
    "print(dt)"
   ]
  },
  {
   "cell_type": "code",
   "execution_count": 23,
   "id": "db5a2987",
   "metadata": {},
   "outputs": [
    {
     "name": "stdout",
     "output_type": "stream",
     "text": [
      "1696254921.298089\n"
     ]
    }
   ],
   "source": [
    "#   Check out the time library\n",
    "import time\n",
    "print(time.time())           #  This tells us how many seconds have passed since 01/01/1970"
   ]
  },
  {
   "cell_type": "code",
   "execution_count": 24,
   "id": "3b86e02f",
   "metadata": {},
   "outputs": [
    {
     "name": "stdout",
     "output_type": "stream",
     "text": [
      "1696255025.493642\n",
      "1696255027.496463\n",
      "1696255029.4969018\n",
      "1696255031.4974115\n",
      "1696255033.4979823\n"
     ]
    }
   ],
   "source": [
    "#   Let's check out \"sleep\" method\n",
    "n = 0\n",
    "while n < 5:\n",
    "    print(time.time())\n",
    "    time.sleep(2)\n",
    "    n += 1"
   ]
  },
  {
   "cell_type": "code",
   "execution_count": 25,
   "id": "472f0f93",
   "metadata": {},
   "outputs": [],
   "source": [
    "# Pandas datetime objects\n",
    "import pandas as pd"
   ]
  },
  {
   "cell_type": "code",
   "execution_count": 29,
   "id": "c195a756",
   "metadata": {},
   "outputs": [],
   "source": [
    "#   Let's get some date data\n",
    "df = pd.DataFrame({'year':[2022,2022,2021], 'month':[12,11,9], 'day':[15,14,9], 'hour':[23,20,9],'data':['a','b','c']})"
   ]
  },
  {
   "cell_type": "code",
   "execution_count": 30,
   "id": "67b7c124",
   "metadata": {},
   "outputs": [
    {
     "data": {
      "text/plain": [
       "<bound method NDFrame.head of    year  month  day  hour data\n",
       "0  2022     12   15    23    a\n",
       "1  2022     11   14    20    b\n",
       "2  2021      9    9     9    c>"
      ]
     },
     "execution_count": 30,
     "metadata": {},
     "output_type": "execute_result"
    }
   ],
   "source": [
    "df.head"
   ]
  },
  {
   "cell_type": "code",
   "execution_count": 32,
   "id": "f34758cf",
   "metadata": {},
   "outputs": [],
   "source": [
    "df['date'] = pd.to_datetime(df[['year','month','day','hour']])"
   ]
  },
  {
   "cell_type": "code",
   "execution_count": 33,
   "id": "4b8d3f30",
   "metadata": {},
   "outputs": [
    {
     "data": {
      "text/plain": [
       "<bound method NDFrame.head of    year  month  day  hour data                date\n",
       "0  2022     12   15    23    a 2022-12-15 23:00:00\n",
       "1  2022     11   14    20    b 2022-11-14 20:00:00\n",
       "2  2021      9    9     9    c 2021-09-09 09:00:00>"
      ]
     },
     "execution_count": 33,
     "metadata": {},
     "output_type": "execute_result"
    }
   ],
   "source": [
    "df.head"
   ]
  },
  {
   "cell_type": "code",
   "execution_count": null,
   "id": "bd2258bd",
   "metadata": {},
   "outputs": [],
   "source": []
  }
 ],
 "metadata": {
  "kernelspec": {
   "display_name": "Python 3 (ipykernel)",
   "language": "python",
   "name": "python3"
  },
  "language_info": {
   "codemirror_mode": {
    "name": "ipython",
    "version": 3
   },
   "file_extension": ".py",
   "mimetype": "text/x-python",
   "name": "python",
   "nbconvert_exporter": "python",
   "pygments_lexer": "ipython3",
   "version": "3.11.4"
  }
 },
 "nbformat": 4,
 "nbformat_minor": 5
}
