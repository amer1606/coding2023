{
 "cells": [
  {
   "cell_type": "code",
   "execution_count": 1,
   "id": "df3a46cd-448c-4cc4-a2f7-7bbc98d53f2c",
   "metadata": {
    "tags": []
   },
   "outputs": [],
   "source": [
    "import os"
   ]
  },
  {
   "cell_type": "code",
   "execution_count": 2,
   "id": "5087bbec-a8a9-4656-b409-fac303718c6b",
   "metadata": {
    "tags": []
   },
   "outputs": [
    {
     "name": "stdout",
     "output_type": "stream",
     "text": [
      "C:\\Users\\ceder\n"
     ]
    }
   ],
   "source": [
    "print(os.getcwd())"
   ]
  },
  {
   "cell_type": "code",
   "execution_count": 3,
   "id": "847a3179-2bc0-448f-aa63-b37a0805ce8b",
   "metadata": {},
   "outputs": [],
   "source": [
    "def cast_lastitems_to_string(list_of_object):\n",
    "    \"\"\"\n",
    "    Casts a list of various elements to string\n",
    "    The function that casts elements in a list to a list of stringd, whatever their original type is\n",
    "    \n",
    "    Parameters:\n",
    "    ---------------------\n",
    "    list: A list of various data types\n",
    "    \n",
    "    Returns:\n",
    "    list: A lsit of strings\n",
    "    \n",
    "    \"\"\"\n",
    "    #function body\n",
    "    \n",
    "    #return"
   ]
  },
  {
   "cell_type": "code",
   "execution_count": 4,
   "id": "5ee8207e",
   "metadata": {},
   "outputs": [
    {
     "name": "stdout",
     "output_type": "stream",
     "text": [
      "Help on function cast_lastitems_to_string in module __main__:\n",
      "\n",
      "cast_lastitems_to_string(list_of_object)\n",
      "    Casts a list of various elements to string\n",
      "    The function that casts elements in a list to a list of stringd, whatever their original type is\n",
      "    \n",
      "    Parameters:\n",
      "    ---------------------\n",
      "    list: A list of various data types\n",
      "    \n",
      "    Returns:\n",
      "    list: A lsit of strings\n",
      "\n"
     ]
    }
   ],
   "source": [
    "help(cast_lastitems_to_string)"
   ]
  },
  {
   "cell_type": "code",
   "execution_count": 6,
   "id": "35217079",
   "metadata": {},
   "outputs": [
    {
     "ename": "NameError",
     "evalue": "name 'list_of_objects' is not defined",
     "output_type": "error",
     "traceback": [
      "\u001b[1;31m---------------------------------------------------------------------------\u001b[0m",
      "\u001b[1;31mNameError\u001b[0m                                 Traceback (most recent call last)",
      "Cell \u001b[1;32mIn[6], line 1\u001b[0m\n\u001b[1;32m----> 1\u001b[0m \u001b[38;5;28;01mfor\u001b[39;00m i \u001b[38;5;129;01min\u001b[39;00m \u001b[38;5;28mrange\u001b[39m(\u001b[38;5;28mlen\u001b[39m(list_of_objects)):\n\u001b[0;32m      2\u001b[0m     list_of_objects[i] \u001b[38;5;241m=\u001b[39m \u001b[38;5;28mstr\u001b[39m(list_of_objects[i])\n\u001b[0;32m      3\u001b[0m     \u001b[38;5;28mprint\u001b[39m(i)\n",
      "\u001b[1;31mNameError\u001b[0m: name 'list_of_objects' is not defined"
     ]
    }
   ],
   "source": [
    "for i in range(len(list_of_objects)):\n",
    "    list_of_objects[i] = str(list_of_objects[i])\n",
    "    print(i)\n",
    "    # return\n",
    "    "
   ]
  },
  {
   "cell_type": "markdown",
   "id": "d3c86419",
   "metadata": {},
   "source": [
    "###   Let's try the function"
   ]
  },
  {
   "cell_type": "code",
   "execution_count": 3,
   "id": "f0933013",
   "metadata": {},
   "outputs": [
    {
     "ename": "NameError",
     "evalue": "name 'cast_lastitems_to_string' is not defined",
     "output_type": "error",
     "traceback": [
      "\u001b[1;31m---------------------------------------------------------------------------\u001b[0m",
      "\u001b[1;31mNameError\u001b[0m                                 Traceback (most recent call last)",
      "Cell \u001b[1;32mIn[3], line 2\u001b[0m\n\u001b[0;32m      1\u001b[0m test_list \u001b[38;5;241m=\u001b[39m [\u001b[38;5;241m1\u001b[39m,\u001b[38;5;124m'\u001b[39m\u001b[38;5;124ma\u001b[39m\u001b[38;5;124m'\u001b[39m,\u001b[38;5;241m2842\u001b[39m,\u001b[38;5;124m\"\u001b[39m\u001b[38;5;124ma,b,c,d,e,f\u001b[39m\u001b[38;5;124m\"\u001b[39m]\n\u001b[1;32m----> 2\u001b[0m cast_lastitems_to_string(test_list)\n",
      "\u001b[1;31mNameError\u001b[0m: name 'cast_lastitems_to_string' is not defined"
     ]
    }
   ],
   "source": [
    "test_list = [1,'a',2842,\"a,b,c,d,e,f\"]\n",
    "cast_lastitems_to_string(test_list)"
   ]
  },
  {
   "cell_type": "markdown",
   "id": "b10e98cc",
   "metadata": {},
   "source": [
    "###  Lambda functions"
   ]
  },
  {
   "cell_type": "code",
   "execution_count": 4,
   "id": "44d39d5a",
   "metadata": {},
   "outputs": [],
   "source": [
    "# are anonymous functions that can be useful. THey use the lambda keyword."
   ]
  },
  {
   "cell_type": "code",
   "execution_count": 5,
   "id": "303bd00a",
   "metadata": {},
   "outputs": [],
   "source": [
    "# For comparison define function that returns the square of number\n",
    "def square(num):\n",
    "    \"\"\"\n",
    "    Returns the square of a number\n",
    "    \n",
    "    Parameters\n",
    "    -----------\n",
    "    num: (real) number\n",
    "    \n",
    "    Returns\n",
    "    -------\n",
    "    num2: square o (real) number\n",
    "    \"\"\"\n",
    "    \n",
    "    return num**2"
   ]
  },
  {
   "cell_type": "code",
   "execution_count": 6,
   "id": "94fe3a4a",
   "metadata": {},
   "outputs": [],
   "source": [
    "#   Analogous lambda function\n",
    "square_lambda = lambda x: x**2"
   ]
  },
  {
   "cell_type": "code",
   "execution_count": 7,
   "id": "40fd92ac",
   "metadata": {},
   "outputs": [
    {
     "data": {
      "text/plain": [
       "4"
      ]
     },
     "execution_count": 7,
     "metadata": {},
     "output_type": "execute_result"
    }
   ],
   "source": [
    "square_lambda(2)"
   ]
  },
  {
   "cell_type": "code",
   "execution_count": 8,
   "id": "dbd6f83c",
   "metadata": {},
   "outputs": [],
   "source": [
    "# lambda functions can b combined with llist comprehensions\n",
    "ls_numbers = list(range(10))"
   ]
  },
  {
   "cell_type": "code",
   "execution_count": 9,
   "id": "9e585601",
   "metadata": {},
   "outputs": [
    {
     "data": {
      "text/plain": [
       "[0, 1, 2, 3, 4, 5, 6, 7, 8, 9]"
      ]
     },
     "execution_count": 9,
     "metadata": {},
     "output_type": "execute_result"
    }
   ],
   "source": [
    "ls_numbers"
   ]
  },
  {
   "cell_type": "code",
   "execution_count": 10,
   "id": "6552e338",
   "metadata": {},
   "outputs": [],
   "source": [
    "ls_range = range(10)"
   ]
  },
  {
   "cell_type": "code",
   "execution_count": 11,
   "id": "6486abba",
   "metadata": {},
   "outputs": [
    {
     "data": {
      "text/plain": [
       "range(0, 10)"
      ]
     },
     "execution_count": 11,
     "metadata": {},
     "output_type": "execute_result"
    }
   ],
   "source": [
    "ls_range"
   ]
  },
  {
   "cell_type": "code",
   "execution_count": 12,
   "id": "75b3c41d",
   "metadata": {},
   "outputs": [
    {
     "data": {
      "text/plain": [
       "range"
      ]
     },
     "execution_count": 12,
     "metadata": {},
     "output_type": "execute_result"
    }
   ],
   "source": [
    "type(ls_range)"
   ]
  },
  {
   "cell_type": "code",
   "execution_count": 13,
   "id": "8c776d7f",
   "metadata": {},
   "outputs": [],
   "source": [
    "#    the range function is a generator function, special type of funtions"
   ]
  },
  {
   "cell_type": "code",
   "execution_count": 17,
   "id": "524bae1d",
   "metadata": {},
   "outputs": [
    {
     "data": {
      "text/plain": [
       "[1, 2, 5, 10, 17, 26, 37, 50, 65, 82]"
      ]
     },
     "execution_count": 17,
     "metadata": {},
     "output_type": "execute_result"
    }
   ],
   "source": [
    "# Let's use a list of comprehension with our lambda function\n",
    "sq_one = lambda x: x**2 + 1\n",
    "[sq_one(x) for x in ls_numbers]"
   ]
  },
  {
   "cell_type": "code",
   "execution_count": 18,
   "id": "ccdb7ab4",
   "metadata": {},
   "outputs": [
    {
     "data": {
      "text/plain": [
       "[1, 5, 17, 37, 65]"
      ]
     },
     "execution_count": 18,
     "metadata": {},
     "output_type": "execute_result"
    }
   ],
   "source": [
    "#    We can also use the if statement\n",
    "[sq_one(x) for x in ls_numbers if x%2 ==0]"
   ]
  },
  {
   "cell_type": "code",
   "execution_count": null,
   "id": "a62db1f3",
   "metadata": {},
   "outputs": [],
   "source": [
    "#   Analogous to list comprehension in:   for loop "
   ]
  }
 ],
 "metadata": {
  "kernelspec": {
   "display_name": "Python 3 (ipykernel)",
   "language": "python",
   "name": "python3"
  },
  "language_info": {
   "codemirror_mode": {
    "name": "ipython",
    "version": 3
   },
   "file_extension": ".py",
   "mimetype": "text/x-python",
   "name": "python",
   "nbconvert_exporter": "python",
   "pygments_lexer": "ipython3",
   "version": "3.11.4"
  }
 },
 "nbformat": 4,
 "nbformat_minor": 5
}
