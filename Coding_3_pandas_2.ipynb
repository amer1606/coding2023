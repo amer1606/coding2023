{
 "cells": [
  {
   "cell_type": "markdown",
   "id": "95c3b624",
   "metadata": {},
   "source": [
    "###  Pandas basics: intro"
   ]
  },
  {
   "cell_type": "code",
   "execution_count": 1,
   "id": "73d4e54c",
   "metadata": {},
   "outputs": [],
   "source": [
    "#   We want to start with the two basic objects:\n",
    "#     1 - pd.series\n",
    "#     2 - pd.DataFrame"
   ]
  },
  {
   "cell_type": "code",
   "execution_count": 2,
   "id": "193f0b9f",
   "metadata": {},
   "outputs": [],
   "source": [
    "#     importing libraries \n",
    "import pandas as pd\n",
    "#    gives a nickname to Panda as pd to make it faster. Panda is always nicknamed pd\n",
    "import numpy as np"
   ]
  },
  {
   "cell_type": "code",
   "execution_count": 3,
   "id": "5285e295",
   "metadata": {},
   "outputs": [],
   "source": [
    "#    Let's define our first pd.series\n",
    "ps = pd.Series([\"a\",1,np.pi,37])"
   ]
  },
  {
   "cell_type": "code",
   "execution_count": 4,
   "id": "145035cd",
   "metadata": {},
   "outputs": [
    {
     "data": {
      "text/plain": [
       "0           a\n",
       "1           1\n",
       "2    3.141593\n",
       "3          37\n",
       "dtype: object"
      ]
     },
     "execution_count": 4,
     "metadata": {},
     "output_type": "execute_result"
    }
   ],
   "source": [
    "ps"
   ]
  },
  {
   "cell_type": "code",
   "execution_count": 5,
   "id": "b5ef4a9e",
   "metadata": {},
   "outputs": [],
   "source": [
    "#     ps   generates an index with each element  +   indicate the type (here an object)"
   ]
  },
  {
   "cell_type": "code",
   "execution_count": 6,
   "id": "7bb9ab28",
   "metadata": {},
   "outputs": [
    {
     "data": {
      "text/plain": [
       "pandas.core.series.Series"
      ]
     },
     "execution_count": 6,
     "metadata": {},
     "output_type": "execute_result"
    }
   ],
   "source": [
    "type (ps)"
   ]
  },
  {
   "cell_type": "code",
   "execution_count": 7,
   "id": "2b0a400e",
   "metadata": {},
   "outputs": [
    {
     "name": "stdout",
     "output_type": "stream",
     "text": [
      "['a' 1 3.141592653589793 37]\n"
     ]
    }
   ],
   "source": [
    "#     Access values of data series  only\n",
    "print(ps.values)"
   ]
  },
  {
   "cell_type": "code",
   "execution_count": 8,
   "id": "5477ea30",
   "metadata": {},
   "outputs": [
    {
     "data": {
      "text/plain": [
       "numpy.ndarray"
      ]
     },
     "execution_count": 8,
     "metadata": {},
     "output_type": "execute_result"
    }
   ],
   "source": [
    "type(ps.values)"
   ]
  },
  {
   "cell_type": "code",
   "execution_count": 9,
   "id": "e6951f3f",
   "metadata": {},
   "outputs": [],
   "source": [
    "#   NB: nd stands for n dimension (vectors)"
   ]
  },
  {
   "cell_type": "code",
   "execution_count": 10,
   "id": "5ace6451",
   "metadata": {},
   "outputs": [
    {
     "data": {
      "text/plain": [
       "RangeIndex(start=0, stop=4, step=1)"
      ]
     },
     "execution_count": 10,
     "metadata": {},
     "output_type": "execute_result"
    }
   ],
   "source": [
    "ps.index"
   ]
  },
  {
   "cell_type": "code",
   "execution_count": 11,
   "id": "0e9730b9",
   "metadata": {},
   "outputs": [
    {
     "data": {
      "text/plain": [
       "0    a\n",
       "1    1\n",
       "dtype: object"
      ]
     },
     "execution_count": 11,
     "metadata": {},
     "output_type": "execute_result"
    }
   ],
   "source": [
    "#       I can also point to 2 specific cells\n",
    "ps[0:2]"
   ]
  },
  {
   "cell_type": "code",
   "execution_count": 12,
   "id": "9264a43d",
   "metadata": {},
   "outputs": [],
   "source": [
    "#   Define series with string indexes\n",
    "ex_series = pd.Series(\n",
    "    data = [\"Mozarella Cheese\",\"Wiener Schnitzel\",\"Schwarzwalder Kirshtorte\",\"Lemonade\",\"Whiskey\"],\n",
    "    index = [\"Appetizer\",\"Main Course\",\"Dessert\",\"Beverage\",\"Alcohol\"]\n",
    ")"
   ]
  },
  {
   "cell_type": "code",
   "execution_count": 13,
   "id": "d77f763e",
   "metadata": {},
   "outputs": [
    {
     "data": {
      "text/plain": [
       "Appetizer              Mozarella Cheese\n",
       "Main Course            Wiener Schnitzel\n",
       "Dessert        Schwarzwalder Kirshtorte\n",
       "Beverage                       Lemonade\n",
       "Alcohol                         Whiskey\n",
       "dtype: object"
      ]
     },
     "execution_count": 13,
     "metadata": {},
     "output_type": "execute_result"
    }
   ],
   "source": [
    "ex_series"
   ]
  },
  {
   "cell_type": "code",
   "execution_count": 14,
   "id": "7fdd9b09",
   "metadata": {},
   "outputs": [],
   "source": [
    "## Using 'loc[]' and 'iloc[]'to access elements"
   ]
  },
  {
   "cell_type": "code",
   "execution_count": 15,
   "id": "41cfc00f",
   "metadata": {},
   "outputs": [
    {
     "data": {
      "text/plain": [
       "Appetizer    Mozarella Cheese\n",
       "Beverage             Lemonade\n",
       "dtype: object"
      ]
     },
     "execution_count": 15,
     "metadata": {},
     "output_type": "execute_result"
    }
   ],
   "source": [
    "ex_series.loc[[\"Appetizer\",\"Beverage\"]]"
   ]
  },
  {
   "cell_type": "code",
   "execution_count": 16,
   "id": "d4f8f852",
   "metadata": {},
   "outputs": [
    {
     "ename": "NameError",
     "evalue": "name 'ex' is not defined",
     "output_type": "error",
     "traceback": [
      "\u001b[1;31m---------------------------------------------------------------------------\u001b[0m",
      "\u001b[1;31mNameError\u001b[0m                                 Traceback (most recent call last)",
      "Cell \u001b[1;32mIn[16], line 2\u001b[0m\n\u001b[0;32m      1\u001b[0m \u001b[38;5;66;03m#       Locate via iloc\u001b[39;00m\n\u001b[1;32m----> 2\u001b[0m ex\u001b[38;5;241m.\u001b[39mseries\u001b[38;5;241m.\u001b[39miloc[[\u001b[38;5;241m0\u001b[39m,\u001b[38;5;241m1\u001b[39m]]\n",
      "\u001b[1;31mNameError\u001b[0m: name 'ex' is not defined"
     ]
    }
   ],
   "source": [
    "#       Locate via iloc\n",
    "ex.series.iloc[[0,1]]"
   ]
  },
  {
   "cell_type": "code",
   "execution_count": null,
   "id": "0649ece1",
   "metadata": {},
   "outputs": [],
   "source": [
    "#        We can retrieve a range of data using iloc[]\n",
    "ex_series.loc[[]]"
   ]
  },
  {
   "cell_type": "code",
   "execution_count": null,
   "id": "343c1cb0",
   "metadata": {},
   "outputs": [],
   "source": []
  },
  {
   "cell_type": "markdown",
   "id": "5f9ee9be",
   "metadata": {},
   "source": [
    "###       Data frames\n",
    "    DataFrame is just a two-dimensional, size-mutable heteregeneous tabular data. Each DataFrame is just a collection of pd.Series"
   ]
  },
  {
   "cell_type": "code",
   "execution_count": null,
   "id": "f445ad1c",
   "metadata": {},
   "outputs": [],
   "source": [
    "#    Let's create our first DataFrame\n",
    "#     Define sime data\n",
    "dc_city_pop = {\n",
    "    'Tokyo' : 30000,\n",
    "    'Dehli' : 50000000,\n",
    "    'Shanghai' : 10000000\n",
    "}"
   ]
  },
  {
   "cell_type": "code",
   "execution_count": null,
   "id": "fbf39434",
   "metadata": {},
   "outputs": [],
   "source": [
    "dc_city_pop"
   ]
  },
  {
   "cell_type": "code",
   "execution_count": null,
   "id": "7756c471",
   "metadata": {},
   "outputs": [],
   "source": [
    "ps_city_pop = pd.Series(dc_city_pop)"
   ]
  },
  {
   "cell_type": "code",
   "execution_count": null,
   "id": "9632d8df",
   "metadata": {},
   "outputs": [],
   "source": [
    "ps_city_pop.values"
   ]
  },
  {
   "cell_type": "code",
   "execution_count": null,
   "id": "38194c13",
   "metadata": {},
   "outputs": [],
   "source": [
    "ps_city_pop.index"
   ]
  },
  {
   "cell_type": "code",
   "execution_count": null,
   "id": "2d478e86",
   "metadata": {},
   "outputs": [],
   "source": [
    "#     \n",
    "dc_city_countries = {\n",
    "    'Tokyo':'Japan',\n",
    "    'Dehli':'India',\n",
    "    'Shanghai':'China'\n",
    "}\n",
    "    \n",
    "#   "
   ]
  },
  {
   "cell_type": "code",
   "execution_count": null,
   "id": "d501dfd6",
   "metadata": {},
   "outputs": [],
   "source": [
    "dc_city_countries"
   ]
  },
  {
   "cell_type": "code",
   "execution_count": null,
   "id": "576b5b67",
   "metadata": {},
   "outputs": [],
   "source": [
    "#    create pd.Series\n",
    "ps_city_countries = pd.Series(dc_city_countries)\n",
    "ps_city_countries"
   ]
  },
  {
   "cell_type": "code",
   "execution_count": null,
   "id": "bd1e0bf0",
   "metadata": {},
   "outputs": [],
   "source": [
    "#    Concate pd.Series to create DataFrame"
   ]
  },
  {
   "cell_type": "code",
   "execution_count": null,
   "id": "393249b6",
   "metadata": {},
   "outputs": [],
   "source": [
    "df_cities = pd.concat([ps_city_pop,ps_city_countries], axis=1)"
   ]
  },
  {
   "cell_type": "code",
   "execution_count": null,
   "id": "2b44749e",
   "metadata": {},
   "outputs": [],
   "source": [
    "#    Change column names to something more descriptive\n",
    "df_cities.columns = ['population','country']\n",
    "df_cities"
   ]
  },
  {
   "cell_type": "code",
   "execution_count": null,
   "id": "7e270b7a",
   "metadata": {},
   "outputs": [],
   "source": [
    "#      Accessing rows / Columns\n",
    "df_cities.iloc[0:2,0]"
   ]
  },
  {
   "cell_type": "code",
   "execution_count": null,
   "id": "53ecf587",
   "metadata": {},
   "outputs": [],
   "source": [
    "#     Access a single element of the DataFrame\n",
    "df_cities.iloc[1,0]"
   ]
  },
  {
   "cell_type": "code",
   "execution_count": null,
   "id": "bb594631",
   "metadata": {},
   "outputs": [],
   "source": [
    "#     We can alos use .loc\n",
    "df_cities.loc[['Shanghai']]"
   ]
  },
  {
   "cell_type": "code",
   "execution_count": null,
   "id": "4a81ca0f",
   "metadata": {},
   "outputs": [],
   "source": [
    "#        Indexing based on logical conditions\n",
    "df_cities['population']\n",
    "#  equivalent to     df_cities.population\n",
    "df_cities.population[df_cities.population > 2000000]"
   ]
  },
  {
   "cell_type": "code",
   "execution_count": null,
   "id": "59fd930d",
   "metadata": {},
   "outputs": [],
   "source": [
    "#          I can help the reader inserting _ to better read the number\n",
    "df_cities.country[df_cities.population > 20_000_000]"
   ]
  },
  {
   "cell_type": "code",
   "execution_count": null,
   "id": "f41c9632",
   "metadata": {},
   "outputs": [],
   "source": [
    "#        Get all cities located in China\n",
    "df_cities[df_cities.country.isin([\"China\",\"India\"])]"
   ]
  },
  {
   "cell_type": "code",
   "execution_count": null,
   "id": "c2f53271",
   "metadata": {},
   "outputs": [],
   "source": [
    "#      Negative (not) is the ~ sign\n",
    "df_cities[~df_cities.country.isin([\"China\",\"India\"])]"
   ]
  },
  {
   "cell_type": "code",
   "execution_count": null,
   "id": "8b49ff84",
   "metadata": {},
   "outputs": [],
   "source": [
    "#     Create column from index and generate new index  /  with inplace=False it does not change the orginal DataFrame. If inplace=True, it changes the original DataFrame\n",
    "df_cities.reset_index(drop=False, inplace=True)"
   ]
  },
  {
   "cell_type": "code",
   "execution_count": null,
   "id": "bd3f0df5",
   "metadata": {},
   "outputs": [],
   "source": [
    "#          to replace data in a DataFrame\n",
    "df_cities.rename({'index':'city'}, axis=\"columns\", inplace=True)\n",
    "df_cities"
   ]
  },
  {
   "cell_type": "code",
   "execution_count": null,
   "id": "dbafe70d",
   "metadata": {},
   "outputs": [],
   "source": [
    "#     Metadata\n",
    "#       shape indicates no of rows and columns\n",
    "df_cities.shape"
   ]
  },
  {
   "cell_type": "code",
   "execution_count": null,
   "id": "a94dae2d",
   "metadata": {},
   "outputs": [],
   "source": [
    "#        I can index and look for the number of rows (the first info)\n",
    "df_cities.shape[0]"
   ]
  },
  {
   "cell_type": "code",
   "execution_count": null,
   "id": "e0e9893c",
   "metadata": {},
   "outputs": [],
   "source": [
    "#        or opposedly the number of columns\n",
    "df"
   ]
  },
  {
   "cell_type": "code",
   "execution_count": null,
   "id": "e6365fbb",
   "metadata": {},
   "outputs": [],
   "source": [
    "#           .info  gives a lot of information on the DataFrame        \n",
    "df_cities.info()"
   ]
  },
  {
   "cell_type": "code",
   "execution_count": null,
   "id": "6426e709",
   "metadata": {},
   "outputs": [],
   "source": [
    "#          the type is considered an object (not a string)\n",
    "df_cities.city"
   ]
  }
 ],
 "metadata": {
  "kernelspec": {
   "display_name": "Python 3 (ipykernel)",
   "language": "python",
   "name": "python3"
  },
  "language_info": {
   "codemirror_mode": {
    "name": "ipython",
    "version": 3
   },
   "file_extension": ".py",
   "mimetype": "text/x-python",
   "name": "python",
   "nbconvert_exporter": "python",
   "pygments_lexer": "ipython3",
   "version": "3.11.4"
  }
 },
 "nbformat": 4,
 "nbformat_minor": 5
}
