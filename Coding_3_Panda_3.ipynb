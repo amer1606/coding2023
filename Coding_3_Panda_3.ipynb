{
 "cells": [
  {
   "cell_type": "markdown",
   "id": "732cb86c",
   "metadata": {},
   "source": [
    "###    Data manipulation\n",
    "\n",
    "\n",
    "\n",
    "Plan \n",
    "- add new variables\n",
    "- separate based on a character\n",
    "- convert variable to numeric\n",
    "- string manipulation\n",
    "- rename variables\n",
    "- filter observations\n",
    "- sorting data"
   ]
  },
  {
   "cell_type": "code",
   "execution_count": 1,
   "id": "df256c95",
   "metadata": {},
   "outputs": [],
   "source": [
    "#  Import libraries\n",
    "import pandas as pd\n",
    "import numpy as np"
   ]
  },
  {
   "cell_type": "code",
   "execution_count": 2,
   "id": "7acbc809",
   "metadata": {},
   "outputs": [],
   "source": [
    "#       importing data from a KNOWN website\n",
    "raw_df = pd.read_csv(\"https://osf.io/yzntm/download\")\n",
    "#       of if downloaded raw_df = pd.read_csv(\"hotel_vienna_restricted.csv\")"
   ]
  },
  {
   "cell_type": "code",
   "execution_count": 3,
   "id": "1a66d592",
   "metadata": {},
   "outputs": [
    {
     "data": {
      "text/plain": [
       "pandas.core.frame.DataFrame"
      ]
     },
     "execution_count": 3,
     "metadata": {},
     "output_type": "execute_result"
    }
   ],
   "source": [
    "type(raw_df)"
   ]
  },
  {
   "cell_type": "code",
   "execution_count": 4,
   "id": "dee497e2",
   "metadata": {},
   "outputs": [
    {
     "name": "stdout",
     "output_type": "stream",
     "text": [
      "<class 'pandas.core.frame.DataFrame'>\n",
      "RangeIndex: 149966 entries, 0 to 149965\n",
      "Data columns (total 24 columns):\n",
      " #   Column                  Non-Null Count   Dtype  \n",
      "---  ------                  --------------   -----  \n",
      " 0   addresscountryname      149966 non-null  object \n",
      " 1   city_actual             149966 non-null  object \n",
      " 2   rating_reviewcount      139379 non-null  float64\n",
      " 3   center1distance         149966 non-null  object \n",
      " 4   center1label            149966 non-null  object \n",
      " 5   center2distance         149852 non-null  object \n",
      " 6   center2label            149852 non-null  object \n",
      " 7   neighbourhood           149966 non-null  object \n",
      " 8   price                   149966 non-null  int64  \n",
      " 9   price_night             149966 non-null  object \n",
      " 10  s_city                  149966 non-null  object \n",
      " 11  starrating              149966 non-null  float64\n",
      " 12  rating2_ta              136929 non-null  float64\n",
      " 13  rating2_ta_reviewcount  136929 non-null  float64\n",
      " 14  accommodationtype       149966 non-null  object \n",
      " 15  guestreviewsrating      139379 non-null  object \n",
      " 16  scarce_room             149966 non-null  int64  \n",
      " 17  hotel_id                149852 non-null  float64\n",
      " 18  offer                   149966 non-null  int64  \n",
      " 19  offer_cat               149966 non-null  object \n",
      " 20  year                    149966 non-null  int64  \n",
      " 21  month                   149966 non-null  int64  \n",
      " 22  weekend                 149966 non-null  int64  \n",
      " 23  holiday                 149966 non-null  int64  \n",
      "dtypes: float64(5), int64(7), object(12)\n",
      "memory usage: 27.5+ MB\n"
     ]
    }
   ],
   "source": [
    "raw_df.info()"
   ]
  },
  {
   "cell_type": "code",
   "execution_count": 5,
   "id": "2dbd8901",
   "metadata": {},
   "outputs": [
    {
     "data": {
      "text/html": [
       "<div>\n",
       "<style scoped>\n",
       "    .dataframe tbody tr th:only-of-type {\n",
       "        vertical-align: middle;\n",
       "    }\n",
       "\n",
       "    .dataframe tbody tr th {\n",
       "        vertical-align: top;\n",
       "    }\n",
       "\n",
       "    .dataframe thead th {\n",
       "        text-align: right;\n",
       "    }\n",
       "</style>\n",
       "<table border=\"1\" class=\"dataframe\">\n",
       "  <thead>\n",
       "    <tr style=\"text-align: right;\">\n",
       "      <th></th>\n",
       "      <th>addresscountryname</th>\n",
       "      <th>city_actual</th>\n",
       "      <th>rating_reviewcount</th>\n",
       "      <th>center1distance</th>\n",
       "      <th>center1label</th>\n",
       "      <th>center2distance</th>\n",
       "      <th>center2label</th>\n",
       "      <th>neighbourhood</th>\n",
       "      <th>price</th>\n",
       "      <th>price_night</th>\n",
       "      <th>...</th>\n",
       "      <th>accommodationtype</th>\n",
       "      <th>guestreviewsrating</th>\n",
       "      <th>scarce_room</th>\n",
       "      <th>hotel_id</th>\n",
       "      <th>offer</th>\n",
       "      <th>offer_cat</th>\n",
       "      <th>year</th>\n",
       "      <th>month</th>\n",
       "      <th>weekend</th>\n",
       "      <th>holiday</th>\n",
       "    </tr>\n",
       "  </thead>\n",
       "  <tbody>\n",
       "    <tr>\n",
       "      <th>0</th>\n",
       "      <td>Netherlands</td>\n",
       "      <td>Amsterdam</td>\n",
       "      <td>1030.0</td>\n",
       "      <td>3.1 miles</td>\n",
       "      <td>City centre</td>\n",
       "      <td>3.6 miles</td>\n",
       "      <td>Montelbaanstoren</td>\n",
       "      <td>Amsterdam</td>\n",
       "      <td>172</td>\n",
       "      <td>price for 1 night</td>\n",
       "      <td>...</td>\n",
       "      <td>_ACCOM_TYPE@Hotel</td>\n",
       "      <td>4.3 /5</td>\n",
       "      <td>0</td>\n",
       "      <td>1.0</td>\n",
       "      <td>0</td>\n",
       "      <td>0% no offer</td>\n",
       "      <td>2017</td>\n",
       "      <td>11</td>\n",
       "      <td>1</td>\n",
       "      <td>0</td>\n",
       "    </tr>\n",
       "    <tr>\n",
       "      <th>1</th>\n",
       "      <td>Netherlands</td>\n",
       "      <td>Amsterdam</td>\n",
       "      <td>1030.0</td>\n",
       "      <td>3.1 miles</td>\n",
       "      <td>City centre</td>\n",
       "      <td>3.6 miles</td>\n",
       "      <td>Montelbaanstoren</td>\n",
       "      <td>Amsterdam</td>\n",
       "      <td>122</td>\n",
       "      <td>price for 1 night</td>\n",
       "      <td>...</td>\n",
       "      <td>_ACCOM_TYPE@Hotel</td>\n",
       "      <td>4.3 /5</td>\n",
       "      <td>0</td>\n",
       "      <td>1.0</td>\n",
       "      <td>1</td>\n",
       "      <td>15-50% offer</td>\n",
       "      <td>2018</td>\n",
       "      <td>1</td>\n",
       "      <td>1</td>\n",
       "      <td>0</td>\n",
       "    </tr>\n",
       "    <tr>\n",
       "      <th>2</th>\n",
       "      <td>Netherlands</td>\n",
       "      <td>Amsterdam</td>\n",
       "      <td>1030.0</td>\n",
       "      <td>3.1 miles</td>\n",
       "      <td>City centre</td>\n",
       "      <td>3.6 miles</td>\n",
       "      <td>Montelbaanstoren</td>\n",
       "      <td>Amsterdam</td>\n",
       "      <td>122</td>\n",
       "      <td>price for 1 night</td>\n",
       "      <td>...</td>\n",
       "      <td>_ACCOM_TYPE@Hotel</td>\n",
       "      <td>4.3 /5</td>\n",
       "      <td>0</td>\n",
       "      <td>1.0</td>\n",
       "      <td>1</td>\n",
       "      <td>15-50% offer</td>\n",
       "      <td>2017</td>\n",
       "      <td>12</td>\n",
       "      <td>0</td>\n",
       "      <td>1</td>\n",
       "    </tr>\n",
       "    <tr>\n",
       "      <th>3</th>\n",
       "      <td>Netherlands</td>\n",
       "      <td>Amsterdam</td>\n",
       "      <td>1030.0</td>\n",
       "      <td>3.1 miles</td>\n",
       "      <td>City centre</td>\n",
       "      <td>3.6 miles</td>\n",
       "      <td>Montelbaanstoren</td>\n",
       "      <td>Amsterdam</td>\n",
       "      <td>552</td>\n",
       "      <td>price for 4 nights</td>\n",
       "      <td>...</td>\n",
       "      <td>_ACCOM_TYPE@Hotel</td>\n",
       "      <td>4.3 /5</td>\n",
       "      <td>0</td>\n",
       "      <td>1.0</td>\n",
       "      <td>1</td>\n",
       "      <td>1-15% offer</td>\n",
       "      <td>2017</td>\n",
       "      <td>12</td>\n",
       "      <td>0</td>\n",
       "      <td>1</td>\n",
       "    </tr>\n",
       "    <tr>\n",
       "      <th>4</th>\n",
       "      <td>Netherlands</td>\n",
       "      <td>Amsterdam</td>\n",
       "      <td>1030.0</td>\n",
       "      <td>3.1 miles</td>\n",
       "      <td>City centre</td>\n",
       "      <td>3.6 miles</td>\n",
       "      <td>Montelbaanstoren</td>\n",
       "      <td>Amsterdam</td>\n",
       "      <td>122</td>\n",
       "      <td>price for 1 night</td>\n",
       "      <td>...</td>\n",
       "      <td>_ACCOM_TYPE@Hotel</td>\n",
       "      <td>4.3 /5</td>\n",
       "      <td>0</td>\n",
       "      <td>1.0</td>\n",
       "      <td>1</td>\n",
       "      <td>15-50% offer</td>\n",
       "      <td>2018</td>\n",
       "      <td>2</td>\n",
       "      <td>1</td>\n",
       "      <td>0</td>\n",
       "    </tr>\n",
       "  </tbody>\n",
       "</table>\n",
       "<p>5 rows × 24 columns</p>\n",
       "</div>"
      ],
      "text/plain": [
       "  addresscountryname city_actual  rating_reviewcount center1distance  \\\n",
       "0        Netherlands   Amsterdam              1030.0       3.1 miles   \n",
       "1        Netherlands   Amsterdam              1030.0       3.1 miles   \n",
       "2        Netherlands   Amsterdam              1030.0       3.1 miles   \n",
       "3        Netherlands   Amsterdam              1030.0       3.1 miles   \n",
       "4        Netherlands   Amsterdam              1030.0       3.1 miles   \n",
       "\n",
       "  center1label center2distance      center2label neighbourhood  price  \\\n",
       "0  City centre       3.6 miles  Montelbaanstoren     Amsterdam    172   \n",
       "1  City centre       3.6 miles  Montelbaanstoren     Amsterdam    122   \n",
       "2  City centre       3.6 miles  Montelbaanstoren     Amsterdam    122   \n",
       "3  City centre       3.6 miles  Montelbaanstoren     Amsterdam    552   \n",
       "4  City centre       3.6 miles  Montelbaanstoren     Amsterdam    122   \n",
       "\n",
       "          price_night  ...  accommodationtype  guestreviewsrating  \\\n",
       "0   price for 1 night  ...  _ACCOM_TYPE@Hotel              4.3 /5   \n",
       "1   price for 1 night  ...  _ACCOM_TYPE@Hotel              4.3 /5   \n",
       "2   price for 1 night  ...  _ACCOM_TYPE@Hotel              4.3 /5   \n",
       "3  price for 4 nights  ...  _ACCOM_TYPE@Hotel              4.3 /5   \n",
       "4   price for 1 night  ...  _ACCOM_TYPE@Hotel              4.3 /5   \n",
       "\n",
       "   scarce_room  hotel_id offer     offer_cat  year  month  weekend holiday  \n",
       "0            0       1.0     0   0% no offer  2017     11        1       0  \n",
       "1            0       1.0     1  15-50% offer  2018      1        1       0  \n",
       "2            0       1.0     1  15-50% offer  2017     12        0       1  \n",
       "3            0       1.0     1   1-15% offer  2017     12        0       1  \n",
       "4            0       1.0     1  15-50% offer  2018      2        1       0  \n",
       "\n",
       "[5 rows x 24 columns]"
      ]
     },
     "execution_count": 5,
     "metadata": {},
     "output_type": "execute_result"
    }
   ],
   "source": [
    "#           to have a quick look, possibility to extract the headers\n",
    "raw_df.head()"
   ]
  },
  {
   "cell_type": "raw",
   "id": "830a6998",
   "metadata": {},
   "source": [
    "#         opposedly access to the last row\n",
    "raw_df.tail()"
   ]
  },
  {
   "cell_type": "code",
   "execution_count": 6,
   "id": "2924805b",
   "metadata": {},
   "outputs": [
    {
     "data": {
      "text/plain": [
       "(149966, 24)"
      ]
     },
     "execution_count": 6,
     "metadata": {},
     "output_type": "execute_result"
    }
   ],
   "source": [
    "raw_df.shape"
   ]
  },
  {
   "cell_type": "code",
   "execution_count": 7,
   "id": "b28af4d5",
   "metadata": {},
   "outputs": [
    {
     "data": {
      "text/plain": [
       "Index(['addresscountryname', 'city_actual', 'rating_reviewcount',\n",
       "       'center1distance', 'center1label', 'center2distance', 'center2label',\n",
       "       'neighbourhood', 'price', 'price_night', 's_city', 'starrating',\n",
       "       'rating2_ta', 'rating2_ta_reviewcount', 'accommodationtype',\n",
       "       'guestreviewsrating', 'scarce_room', 'hotel_id', 'offer', 'offer_cat',\n",
       "       'year', 'month', 'weekend', 'holiday'],\n",
       "      dtype='object')"
      ]
     },
     "execution_count": 7,
     "metadata": {},
     "output_type": "execute_result"
    }
   ],
   "source": [
    "#              Goal : find number of night per accomomdation type\n",
    "#                   in order to do so, we create a new variable equal to 1 for each observation - before we check that our \n",
    "raw_df.columns"
   ]
  },
  {
   "cell_type": "code",
   "execution_count": 8,
   "id": "f1e49812",
   "metadata": {},
   "outputs": [
    {
     "data": {
      "text/plain": [
       "0         1\n",
       "1         1\n",
       "2         1\n",
       "3         1\n",
       "4         1\n",
       "         ..\n",
       "149961    1\n",
       "149962    1\n",
       "149963    1\n",
       "149964    1\n",
       "149965    1\n",
       "Name: nnights, Length: 149966, dtype: int64"
      ]
     },
     "execution_count": 8,
     "metadata": {},
     "output_type": "execute_result"
    }
   ],
   "source": [
    "raw_df[\"nnights\"] = 1\n",
    "raw_df.nnights"
   ]
  },
  {
   "cell_type": "code",
   "execution_count": 9,
   "id": "b2d857e5",
   "metadata": {},
   "outputs": [],
   "source": [
    "#            Second option of creating new variable \n",
    "df = raw_df.assign(nnights = 1)"
   ]
  },
  {
   "cell_type": "code",
   "execution_count": 10,
   "id": "412b5d02",
   "metadata": {},
   "outputs": [],
   "source": [
    "#        if I want to delete the old data raw_df"
   ]
  },
  {
   "cell_type": "code",
   "execution_count": 11,
   "id": "a3f2727c",
   "metadata": {},
   "outputs": [
    {
     "data": {
      "text/plain": [
       "0         _ACCOM_TYPE@Hotel\n",
       "1         _ACCOM_TYPE@Hotel\n",
       "2         _ACCOM_TYPE@Hotel\n",
       "3         _ACCOM_TYPE@Hotel\n",
       "4         _ACCOM_TYPE@Hotel\n",
       "                ...        \n",
       "149961    _ACCOM_TYPE@Hotel\n",
       "149962    _ACCOM_TYPE@Hotel\n",
       "149963    _ACCOM_TYPE@Hotel\n",
       "149964    _ACCOM_TYPE@Hotel\n",
       "149965    _ACCOM_TYPE@Hotel\n",
       "Name: accommodationtype, Length: 149966, dtype: object"
      ]
     },
     "execution_count": 11,
     "metadata": {},
     "output_type": "execute_result"
    }
   ],
   "source": [
    "#          Looking at accomodation type variable/ seems dirty let's clean it\n",
    "df.accommodationtype"
   ]
  },
  {
   "cell_type": "code",
   "execution_count": 12,
   "id": "ddd1ebc3",
   "metadata": {},
   "outputs": [
    {
     "data": {
      "text/plain": [
       "0         [_ACCOM_TYPE, Hotel]\n",
       "1         [_ACCOM_TYPE, Hotel]\n",
       "2         [_ACCOM_TYPE, Hotel]\n",
       "3         [_ACCOM_TYPE, Hotel]\n",
       "4         [_ACCOM_TYPE, Hotel]\n",
       "                  ...         \n",
       "149961    [_ACCOM_TYPE, Hotel]\n",
       "149962    [_ACCOM_TYPE, Hotel]\n",
       "149963    [_ACCOM_TYPE, Hotel]\n",
       "149964    [_ACCOM_TYPE, Hotel]\n",
       "149965    [_ACCOM_TYPE, Hotel]\n",
       "Name: accommodationtype, Length: 149966, dtype: object"
      ]
     },
     "execution_count": 12,
     "metadata": {},
     "output_type": "execute_result"
    }
   ],
   "source": [
    "#            We want to split strings at @ sign\n",
    "df.accommodationtype.str.split('@')"
   ]
  },
  {
   "cell_type": "code",
   "execution_count": 13,
   "id": "82e777ba",
   "metadata": {},
   "outputs": [
    {
     "data": {
      "text/plain": [
       "0         Hotel\n",
       "1         Hotel\n",
       "2         Hotel\n",
       "3         Hotel\n",
       "4         Hotel\n",
       "          ...  \n",
       "149961    Hotel\n",
       "149962    Hotel\n",
       "149963    Hotel\n",
       "149964    Hotel\n",
       "149965    Hotel\n",
       "Name: accommodationtype, Length: 149966, dtype: object"
      ]
     },
     "execution_count": 13,
     "metadata": {},
     "output_type": "execute_result"
    }
   ],
   "source": [
    "#             We want to grab the second element of each observation\n",
    "df.accommodationtype.str.split('@').str[1]"
   ]
  },
  {
   "cell_type": "code",
   "execution_count": 14,
   "id": "2d32dbe3",
   "metadata": {},
   "outputs": [],
   "source": [
    "#            Now we want to assign it to our df\n",
    "df[\"acc_type\"] = df.accommodationtype.str.split('@').str[1]"
   ]
  },
  {
   "cell_type": "code",
   "execution_count": 15,
   "id": "1cf538ae",
   "metadata": {},
   "outputs": [
    {
     "data": {
      "text/plain": [
       "Hotel                  102234\n",
       "Apartment               17113\n",
       "Guest House             10080\n",
       "Bed and breakfast        6395\n",
       "Hostel                   6232\n",
       "Apart-hotel              3693\n",
       "Vacation home Condo      1576\n",
       "Pension                  1085\n",
       "Inn                      1020\n",
       "Country House              89\n",
       "Palace                     68\n",
       "                           65\n",
       "Villa                      64\n",
       "Resort                     60\n",
       "Caravan Park               60\n",
       "House boat                 31\n",
       "Pousada                    28\n",
       "Motel                      25\n",
       "Cabin / Lodge              14\n",
       "Cottage                    13\n",
       "Chalet                     11\n",
       "Castle                      5\n",
       "All inclusive               5\n",
       "Name: acc_type, dtype: int64"
      ]
     },
     "execution_count": 15,
     "metadata": {},
     "output_type": "execute_result"
    }
   ],
   "source": [
    "#           Finally we can check number of nigh per accommodatioin type\n",
    "df[\"acc_type\"].value_counts()"
   ]
  },
  {
   "cell_type": "code",
   "execution_count": 16,
   "id": "7654401f",
   "metadata": {},
   "outputs": [],
   "source": [
    "#          Replace the missing category with some meaningful info\n",
    "df.acc_type.replace(\"\",\"Unknown\",inplace=True)"
   ]
  },
  {
   "cell_type": "code",
   "execution_count": 17,
   "id": "de0e6061",
   "metadata": {},
   "outputs": [
    {
     "data": {
      "text/plain": [
       "Hotel                  102234\n",
       "Apartment               17113\n",
       "Guest House             10080\n",
       "Bed and breakfast        6395\n",
       "Hostel                   6232\n",
       "Apart-hotel              3693\n",
       "Vacation home Condo      1576\n",
       "Pension                  1085\n",
       "Inn                      1020\n",
       "Country House              89\n",
       "Palace                     68\n",
       "Unknown                    65\n",
       "Villa                      64\n",
       "Resort                     60\n",
       "Caravan Park               60\n",
       "House boat                 31\n",
       "Pousada                    28\n",
       "Motel                      25\n",
       "Cabin / Lodge              14\n",
       "Cottage                    13\n",
       "Chalet                     11\n",
       "Castle                      5\n",
       "All inclusive               5\n",
       "Name: acc_type, dtype: int64"
      ]
     },
     "execution_count": 17,
     "metadata": {},
     "output_type": "execute_result"
    }
   ],
   "source": [
    "#         checking the results\n",
    "df.acc_type.value_counts()"
   ]
  },
  {
   "cell_type": "markdown",
   "id": "78742e12",
   "metadata": {},
   "source": [
    "###       Convert string to numeric columns\n",
    " - Correct *guestreviewrating\n",
    " - Check w/ the dtyp property\n",
    " - Convert to numeric"
   ]
  },
  {
   "cell_type": "code",
   "execution_count": 18,
   "id": "46f3f0d4",
   "metadata": {},
   "outputs": [
    {
     "data": {
      "text/plain": [
       "0    4.3 /5\n",
       "1    4.3 /5\n",
       "2    4.3 /5\n",
       "3    4.3 /5\n",
       "4    4.3 /5\n",
       "Name: guestreviewsrating, dtype: object"
      ]
     },
     "execution_count": 18,
     "metadata": {},
     "output_type": "execute_result"
    }
   ],
   "source": [
    "#      Lets checl out the variable\n",
    "df.guestreviewsrating.head()"
   ]
  },
  {
   "cell_type": "code",
   "execution_count": 19,
   "id": "716dbbbb",
   "metadata": {},
   "outputs": [
    {
     "data": {
      "text/plain": [
       "0         4.3 /5\n",
       "1         4.3 /5\n",
       "2         4.3 /5\n",
       "3         4.3 /5\n",
       "4         4.3 /5\n",
       "           ...  \n",
       "149961    4.5 /5\n",
       "149962    4.5 /5\n",
       "149963    4.5 /5\n",
       "149964    4.5 /5\n",
       "149965    4.5 /5\n",
       "Name: guestreviewsrating, Length: 149966, dtype: object"
      ]
     },
     "execution_count": 19,
     "metadata": {},
     "output_type": "execute_result"
    }
   ],
   "source": [
    "df.guestreviewsrating"
   ]
  },
  {
   "cell_type": "code",
   "execution_count": 20,
   "id": "8829adf3",
   "metadata": {},
   "outputs": [
    {
     "data": {
      "text/plain": [
       "4 /5      23160\n",
       "3.7 /5    15031\n",
       "4.5 /5    14952\n",
       "4.3 /5    11268\n",
       "4.1 /5    11190\n",
       "3.5 /5    11145\n",
       "4.4 /5     9079\n",
       "3.9 /5     8853\n",
       "3.2 /5     6112\n",
       "3 /5       4838\n",
       "4.6 /5     4417\n",
       "3.4 /5     3727\n",
       "4.8 /5     3095\n",
       "5 /5       2646\n",
       "2.7 /5     2337\n",
       "2.5 /5     1557\n",
       "2.9 /5     1213\n",
       "4.9 /5     1157\n",
       "2.2 /5      976\n",
       "2 /5        976\n",
       "1 /5        679\n",
       "2.4 /5      472\n",
       "1.7 /5      143\n",
       "1.8 /5      112\n",
       "1.5 /5       91\n",
       "1.6 /5       54\n",
       "1.2 /5       48\n",
       "1.3 /5       41\n",
       "1.1 /5       10\n",
       "Name: guestreviewsrating, dtype: int64"
      ]
     },
     "execution_count": 20,
     "metadata": {},
     "output_type": "execute_result"
    }
   ],
   "source": [
    "df.guestreviewsrating.value_counts()"
   ]
  },
  {
   "cell_type": "code",
   "execution_count": 21,
   "id": "08bf6481",
   "metadata": {},
   "outputs": [],
   "source": [
    "df[\"ratings\"] = df[\"guestreviewsrating\"].str.split(\"/\").str[0].str.strip()"
   ]
  },
  {
   "cell_type": "code",
   "execution_count": 22,
   "id": "ee992055",
   "metadata": {},
   "outputs": [
    {
     "data": {
      "text/plain": [
       "dtype('O')"
      ]
     },
     "execution_count": 22,
     "metadata": {},
     "output_type": "execute_result"
    }
   ],
   "source": [
    "#          What's the data tye of the newly created column\n",
    "df.ratings.dtype"
   ]
  },
  {
   "cell_type": "code",
   "execution_count": 23,
   "id": "a1b7b288",
   "metadata": {},
   "outputs": [],
   "source": [
    "#          Not good, it's not numeric\n",
    "#          Let's convert it to\n",
    "df[\"ratings\"] = df[\"ratings\"].astype(float)"
   ]
  },
  {
   "cell_type": "code",
   "execution_count": 24,
   "id": "e9a37d64",
   "metadata": {},
   "outputs": [
    {
     "data": {
      "text/plain": [
       "0         4.3\n",
       "1         4.3\n",
       "2         4.3\n",
       "3         4.3\n",
       "4         4.3\n",
       "         ... \n",
       "149961    4.5\n",
       "149962    4.5\n",
       "149963    4.5\n",
       "149964    4.5\n",
       "149965    4.5\n",
       "Name: ratings, Length: 149966, dtype: float64"
      ]
     },
     "execution_count": 24,
     "metadata": {},
     "output_type": "execute_result"
    }
   ],
   "source": [
    "df.ratings"
   ]
  },
  {
   "cell_type": "code",
   "execution_count": 25,
   "id": "95ceee83",
   "metadata": {},
   "outputs": [
    {
     "data": {
      "text/plain": [
       "3.9072614956342058"
      ]
     },
     "execution_count": 25,
     "metadata": {},
     "output_type": "execute_result"
    }
   ],
   "source": [
    "df.ratings.mean()"
   ]
  },
  {
   "cell_type": "code",
   "execution_count": 26,
   "id": "8f7b24dc",
   "metadata": {},
   "outputs": [
    {
     "data": {
      "text/plain": [
       "<Axes: >"
      ]
     },
     "execution_count": 26,
     "metadata": {},
     "output_type": "execute_result"
    },
    {
     "data": {
      "image/png": "[encoded data removed]",
      "text/plain": [
       "<Figure size 640x480 with 1 Axes>"
      ]
     },
     "metadata": {},
     "output_type": "display_data"
    }
   ],
   "source": [
    "df.ratings.hist()"
   ]
  },
  {
   "cell_type": "code",
   "execution_count": 27,
   "id": "ea5d029e",
   "metadata": {},
   "outputs": [],
   "source": [
    "#          Task:\n",
    "#          Create numeric variables for \"center1distance\" and \"center2distance\""
   ]
  },
  {
   "cell_type": "code",
   "execution_count": 28,
   "id": "58233d5f",
   "metadata": {},
   "outputs": [
    {
     "data": {
      "text/plain": [
       "0         3.6 miles\n",
       "1         3.6 miles\n",
       "2         3.6 miles\n",
       "3         3.6 miles\n",
       "4         3.6 miles\n",
       "            ...    \n",
       "149961    0.6 miles\n",
       "149962    0.6 miles\n",
       "149963    0.6 miles\n",
       "149964    0.6 miles\n",
       "149965    0.6 miles\n",
       "Name: center2distance, Length: 149966, dtype: object"
      ]
     },
     "execution_count": 28,
     "metadata": {},
     "output_type": "execute_result"
    }
   ],
   "source": [
    "df.center2distance"
   ]
  },
  {
   "cell_type": "code",
   "execution_count": 29,
   "id": "e0aa43f9",
   "metadata": {},
   "outputs": [],
   "source": [
    "df[\"dist_to_center_1\"] = df.center1distance.str.split(' ').str[0]"
   ]
  },
  {
   "cell_type": "code",
   "execution_count": 30,
   "id": "6261924e",
   "metadata": {},
   "outputs": [],
   "source": [
    "df[\"dist_to_center_1\"] = df[\"dist_to_center_1\"].astype(float)"
   ]
  },
  {
   "cell_type": "code",
   "execution_count": 31,
   "id": "31d302b4",
   "metadata": {},
   "outputs": [
    {
     "data": {
      "text/plain": [
       "2.839012176093248"
      ]
     },
     "execution_count": 31,
     "metadata": {},
     "output_type": "execute_result"
    }
   ],
   "source": [
    "df.dist_to_center_1.mean()"
   ]
  },
  {
   "cell_type": "code",
   "execution_count": 32,
   "id": "4438f7a6",
   "metadata": {},
   "outputs": [],
   "source": [
    "df[\"dist_to_center_2\"] = df.center2distance.str.split(' ').str[0]"
   ]
  },
  {
   "cell_type": "code",
   "execution_count": 33,
   "id": "b85fc8e4",
   "metadata": {},
   "outputs": [],
   "source": [
    "df[\"dist_to_center_2\"] = df[\"dist_to_center_2\"].astype(float)"
   ]
  },
  {
   "cell_type": "code",
   "execution_count": 34,
   "id": "8f29c0c8",
   "metadata": {},
   "outputs": [
    {
     "data": {
      "text/plain": [
       "4.915309772308679"
      ]
     },
     "execution_count": 34,
     "metadata": {},
     "output_type": "execute_result"
    }
   ],
   "source": [
    "df.dist_to_center_2.mean()"
   ]
  },
  {
   "cell_type": "code",
   "execution_count": 35,
   "id": "92a495f1",
   "metadata": {},
   "outputs": [
    {
     "data": {
      "text/plain": [
       "<Axes: >"
      ]
     },
     "execution_count": 35,
     "metadata": {},
     "output_type": "execute_result"
    },
    {
     "data": {
      "image/png": "[encoded data removed]",
      "text/plain": [
       "<Figure size 640x480 with 1 Axes>"
      ]
     },
     "metadata": {},
     "output_type": "display_data"
    }
   ],
   "source": [
    "#         I can define the number of bins (columns) on the histogram, here 30\n",
    "df.dist_to_center_2.hist(bins=30)"
   ]
  },
  {
   "cell_type": "code",
   "execution_count": 36,
   "id": "69005250",
   "metadata": {},
   "outputs": [
    {
     "data": {
      "text/html": [
       "<div>\n",
       "<style scoped>\n",
       "    .dataframe tbody tr th:only-of-type {\n",
       "        vertical-align: middle;\n",
       "    }\n",
       "\n",
       "    .dataframe tbody tr th {\n",
       "        vertical-align: top;\n",
       "    }\n",
       "\n",
       "    .dataframe thead th {\n",
       "        text-align: right;\n",
       "    }\n",
       "</style>\n",
       "<table border=\"1\" class=\"dataframe\">\n",
       "  <thead>\n",
       "    <tr style=\"text-align: right;\">\n",
       "      <th></th>\n",
       "      <th>rating_reviewcount</th>\n",
       "      <th>starrating</th>\n",
       "      <th>rating2_ta</th>\n",
       "      <th>rating2_ta_reviewcount</th>\n",
       "      <th>guestreviewsrating</th>\n",
       "      <th>ratings</th>\n",
       "    </tr>\n",
       "  </thead>\n",
       "  <tbody>\n",
       "    <tr>\n",
       "      <th>0</th>\n",
       "      <td>1030.0</td>\n",
       "      <td>4.0</td>\n",
       "      <td>4.0</td>\n",
       "      <td>1115.0</td>\n",
       "      <td>4.3 /5</td>\n",
       "      <td>4.3</td>\n",
       "    </tr>\n",
       "    <tr>\n",
       "      <th>1</th>\n",
       "      <td>1030.0</td>\n",
       "      <td>4.0</td>\n",
       "      <td>4.0</td>\n",
       "      <td>1115.0</td>\n",
       "      <td>4.3 /5</td>\n",
       "      <td>4.3</td>\n",
       "    </tr>\n",
       "    <tr>\n",
       "      <th>2</th>\n",
       "      <td>1030.0</td>\n",
       "      <td>4.0</td>\n",
       "      <td>4.0</td>\n",
       "      <td>1115.0</td>\n",
       "      <td>4.3 /5</td>\n",
       "      <td>4.3</td>\n",
       "    </tr>\n",
       "    <tr>\n",
       "      <th>3</th>\n",
       "      <td>1030.0</td>\n",
       "      <td>4.0</td>\n",
       "      <td>4.0</td>\n",
       "      <td>1115.0</td>\n",
       "      <td>4.3 /5</td>\n",
       "      <td>4.3</td>\n",
       "    </tr>\n",
       "    <tr>\n",
       "      <th>4</th>\n",
       "      <td>1030.0</td>\n",
       "      <td>4.0</td>\n",
       "      <td>4.0</td>\n",
       "      <td>1115.0</td>\n",
       "      <td>4.3 /5</td>\n",
       "      <td>4.3</td>\n",
       "    </tr>\n",
       "    <tr>\n",
       "      <th>...</th>\n",
       "      <td>...</td>\n",
       "      <td>...</td>\n",
       "      <td>...</td>\n",
       "      <td>...</td>\n",
       "      <td>...</td>\n",
       "      <td>...</td>\n",
       "    </tr>\n",
       "    <tr>\n",
       "      <th>149961</th>\n",
       "      <td>48.0</td>\n",
       "      <td>4.0</td>\n",
       "      <td>4.5</td>\n",
       "      <td>86.0</td>\n",
       "      <td>4.5 /5</td>\n",
       "      <td>4.5</td>\n",
       "    </tr>\n",
       "    <tr>\n",
       "      <th>149962</th>\n",
       "      <td>48.0</td>\n",
       "      <td>4.0</td>\n",
       "      <td>4.5</td>\n",
       "      <td>86.0</td>\n",
       "      <td>4.5 /5</td>\n",
       "      <td>4.5</td>\n",
       "    </tr>\n",
       "    <tr>\n",
       "      <th>149963</th>\n",
       "      <td>48.0</td>\n",
       "      <td>4.0</td>\n",
       "      <td>4.5</td>\n",
       "      <td>86.0</td>\n",
       "      <td>4.5 /5</td>\n",
       "      <td>4.5</td>\n",
       "    </tr>\n",
       "    <tr>\n",
       "      <th>149964</th>\n",
       "      <td>48.0</td>\n",
       "      <td>4.0</td>\n",
       "      <td>4.5</td>\n",
       "      <td>86.0</td>\n",
       "      <td>4.5 /5</td>\n",
       "      <td>4.5</td>\n",
       "    </tr>\n",
       "    <tr>\n",
       "      <th>149965</th>\n",
       "      <td>48.0</td>\n",
       "      <td>4.0</td>\n",
       "      <td>4.5</td>\n",
       "      <td>86.0</td>\n",
       "      <td>4.5 /5</td>\n",
       "      <td>4.5</td>\n",
       "    </tr>\n",
       "  </tbody>\n",
       "</table>\n",
       "<p>149966 rows × 6 columns</p>\n",
       "</div>"
      ],
      "text/plain": [
       "        rating_reviewcount  starrating  rating2_ta  rating2_ta_reviewcount  \\\n",
       "0                   1030.0         4.0         4.0                  1115.0   \n",
       "1                   1030.0         4.0         4.0                  1115.0   \n",
       "2                   1030.0         4.0         4.0                  1115.0   \n",
       "3                   1030.0         4.0         4.0                  1115.0   \n",
       "4                   1030.0         4.0         4.0                  1115.0   \n",
       "...                    ...         ...         ...                     ...   \n",
       "149961                48.0         4.0         4.5                    86.0   \n",
       "149962                48.0         4.0         4.5                    86.0   \n",
       "149963                48.0         4.0         4.5                    86.0   \n",
       "149964                48.0         4.0         4.5                    86.0   \n",
       "149965                48.0         4.0         4.5                    86.0   \n",
       "\n",
       "       guestreviewsrating  ratings  \n",
       "0                  4.3 /5      4.3  \n",
       "1                  4.3 /5      4.3  \n",
       "2                  4.3 /5      4.3  \n",
       "3                  4.3 /5      4.3  \n",
       "4                  4.3 /5      4.3  \n",
       "...                   ...      ...  \n",
       "149961             4.5 /5      4.5  \n",
       "149962             4.5 /5      4.5  \n",
       "149963             4.5 /5      4.5  \n",
       "149964             4.5 /5      4.5  \n",
       "149965             4.5 /5      4.5  \n",
       "\n",
       "[149966 rows x 6 columns]"
      ]
     },
     "execution_count": 36,
     "metadata": {},
     "output_type": "execute_result"
    }
   ],
   "source": [
    "#          Check out all the ratings variables\n",
    "#           using the filter\n",
    "df.filter(regex = 'rating')"
   ]
  },
  {
   "cell_type": "code",
   "execution_count": 37,
   "id": "5ebad349",
   "metadata": {},
   "outputs": [],
   "source": [
    "#     Let's rename o few of those"
   ]
  },
  {
   "cell_type": "code",
   "execution_count": 38,
   "id": "d0b19628",
   "metadata": {},
   "outputs": [
    {
     "data": {
      "text/html": [
       "<div>\n",
       "<style scoped>\n",
       "    .dataframe tbody tr th:only-of-type {\n",
       "        vertical-align: middle;\n",
       "    }\n",
       "\n",
       "    .dataframe tbody tr th {\n",
       "        vertical-align: top;\n",
       "    }\n",
       "\n",
       "    .dataframe thead th {\n",
       "        text-align: right;\n",
       "    }\n",
       "</style>\n",
       "<table border=\"1\" class=\"dataframe\">\n",
       "  <thead>\n",
       "    <tr style=\"text-align: right;\">\n",
       "      <th></th>\n",
       "      <th>addresscountryname</th>\n",
       "      <th>city_actual</th>\n",
       "      <th>rating_count</th>\n",
       "      <th>center1distance</th>\n",
       "      <th>center1label</th>\n",
       "      <th>center2distance</th>\n",
       "      <th>center2label</th>\n",
       "      <th>neighbourhood</th>\n",
       "      <th>price</th>\n",
       "      <th>price_night</th>\n",
       "      <th>...</th>\n",
       "      <th>offer_cat</th>\n",
       "      <th>year</th>\n",
       "      <th>month</th>\n",
       "      <th>weekend</th>\n",
       "      <th>holiday</th>\n",
       "      <th>nnights</th>\n",
       "      <th>acc_type</th>\n",
       "      <th>ratings</th>\n",
       "      <th>dist_to_center_1</th>\n",
       "      <th>dist_to_center_2</th>\n",
       "    </tr>\n",
       "  </thead>\n",
       "  <tbody>\n",
       "    <tr>\n",
       "      <th>0</th>\n",
       "      <td>Netherlands</td>\n",
       "      <td>Amsterdam</td>\n",
       "      <td>1030.0</td>\n",
       "      <td>3.1 miles</td>\n",
       "      <td>City centre</td>\n",
       "      <td>3.6 miles</td>\n",
       "      <td>Montelbaanstoren</td>\n",
       "      <td>Amsterdam</td>\n",
       "      <td>172</td>\n",
       "      <td>price for 1 night</td>\n",
       "      <td>...</td>\n",
       "      <td>0% no offer</td>\n",
       "      <td>2017</td>\n",
       "      <td>11</td>\n",
       "      <td>1</td>\n",
       "      <td>0</td>\n",
       "      <td>1</td>\n",
       "      <td>Hotel</td>\n",
       "      <td>4.3</td>\n",
       "      <td>3.1</td>\n",
       "      <td>3.6</td>\n",
       "    </tr>\n",
       "    <tr>\n",
       "      <th>1</th>\n",
       "      <td>Netherlands</td>\n",
       "      <td>Amsterdam</td>\n",
       "      <td>1030.0</td>\n",
       "      <td>3.1 miles</td>\n",
       "      <td>City centre</td>\n",
       "      <td>3.6 miles</td>\n",
       "      <td>Montelbaanstoren</td>\n",
       "      <td>Amsterdam</td>\n",
       "      <td>122</td>\n",
       "      <td>price for 1 night</td>\n",
       "      <td>...</td>\n",
       "      <td>15-50% offer</td>\n",
       "      <td>2018</td>\n",
       "      <td>1</td>\n",
       "      <td>1</td>\n",
       "      <td>0</td>\n",
       "      <td>1</td>\n",
       "      <td>Hotel</td>\n",
       "      <td>4.3</td>\n",
       "      <td>3.1</td>\n",
       "      <td>3.6</td>\n",
       "    </tr>\n",
       "    <tr>\n",
       "      <th>2</th>\n",
       "      <td>Netherlands</td>\n",
       "      <td>Amsterdam</td>\n",
       "      <td>1030.0</td>\n",
       "      <td>3.1 miles</td>\n",
       "      <td>City centre</td>\n",
       "      <td>3.6 miles</td>\n",
       "      <td>Montelbaanstoren</td>\n",
       "      <td>Amsterdam</td>\n",
       "      <td>122</td>\n",
       "      <td>price for 1 night</td>\n",
       "      <td>...</td>\n",
       "      <td>15-50% offer</td>\n",
       "      <td>2017</td>\n",
       "      <td>12</td>\n",
       "      <td>0</td>\n",
       "      <td>1</td>\n",
       "      <td>1</td>\n",
       "      <td>Hotel</td>\n",
       "      <td>4.3</td>\n",
       "      <td>3.1</td>\n",
       "      <td>3.6</td>\n",
       "    </tr>\n",
       "    <tr>\n",
       "      <th>3</th>\n",
       "      <td>Netherlands</td>\n",
       "      <td>Amsterdam</td>\n",
       "      <td>1030.0</td>\n",
       "      <td>3.1 miles</td>\n",
       "      <td>City centre</td>\n",
       "      <td>3.6 miles</td>\n",
       "      <td>Montelbaanstoren</td>\n",
       "      <td>Amsterdam</td>\n",
       "      <td>552</td>\n",
       "      <td>price for 4 nights</td>\n",
       "      <td>...</td>\n",
       "      <td>1-15% offer</td>\n",
       "      <td>2017</td>\n",
       "      <td>12</td>\n",
       "      <td>0</td>\n",
       "      <td>1</td>\n",
       "      <td>1</td>\n",
       "      <td>Hotel</td>\n",
       "      <td>4.3</td>\n",
       "      <td>3.1</td>\n",
       "      <td>3.6</td>\n",
       "    </tr>\n",
       "    <tr>\n",
       "      <th>4</th>\n",
       "      <td>Netherlands</td>\n",
       "      <td>Amsterdam</td>\n",
       "      <td>1030.0</td>\n",
       "      <td>3.1 miles</td>\n",
       "      <td>City centre</td>\n",
       "      <td>3.6 miles</td>\n",
       "      <td>Montelbaanstoren</td>\n",
       "      <td>Amsterdam</td>\n",
       "      <td>122</td>\n",
       "      <td>price for 1 night</td>\n",
       "      <td>...</td>\n",
       "      <td>15-50% offer</td>\n",
       "      <td>2018</td>\n",
       "      <td>2</td>\n",
       "      <td>1</td>\n",
       "      <td>0</td>\n",
       "      <td>1</td>\n",
       "      <td>Hotel</td>\n",
       "      <td>4.3</td>\n",
       "      <td>3.1</td>\n",
       "      <td>3.6</td>\n",
       "    </tr>\n",
       "    <tr>\n",
       "      <th>...</th>\n",
       "      <td>...</td>\n",
       "      <td>...</td>\n",
       "      <td>...</td>\n",
       "      <td>...</td>\n",
       "      <td>...</td>\n",
       "      <td>...</td>\n",
       "      <td>...</td>\n",
       "      <td>...</td>\n",
       "      <td>...</td>\n",
       "      <td>...</td>\n",
       "      <td>...</td>\n",
       "      <td>...</td>\n",
       "      <td>...</td>\n",
       "      <td>...</td>\n",
       "      <td>...</td>\n",
       "      <td>...</td>\n",
       "      <td>...</td>\n",
       "      <td>...</td>\n",
       "      <td>...</td>\n",
       "      <td>...</td>\n",
       "      <td>...</td>\n",
       "    </tr>\n",
       "    <tr>\n",
       "      <th>149961</th>\n",
       "      <td>Croatia</td>\n",
       "      <td>Zagreb</td>\n",
       "      <td>48.0</td>\n",
       "      <td>1.1 miles</td>\n",
       "      <td>City centre</td>\n",
       "      <td>0.6 miles</td>\n",
       "      <td>Zagreb City Museum</td>\n",
       "      <td>Zagreb</td>\n",
       "      <td>119</td>\n",
       "      <td>price for 1 night</td>\n",
       "      <td>...</td>\n",
       "      <td>15-50% offer</td>\n",
       "      <td>2017</td>\n",
       "      <td>11</td>\n",
       "      <td>0</td>\n",
       "      <td>0</td>\n",
       "      <td>1</td>\n",
       "      <td>Hotel</td>\n",
       "      <td>4.5</td>\n",
       "      <td>1.1</td>\n",
       "      <td>0.6</td>\n",
       "    </tr>\n",
       "    <tr>\n",
       "      <th>149962</th>\n",
       "      <td>Croatia</td>\n",
       "      <td>Zagreb</td>\n",
       "      <td>48.0</td>\n",
       "      <td>1.1 miles</td>\n",
       "      <td>City centre</td>\n",
       "      <td>0.6 miles</td>\n",
       "      <td>Zagreb City Museum</td>\n",
       "      <td>Zagreb</td>\n",
       "      <td>109</td>\n",
       "      <td>price for 1 night</td>\n",
       "      <td>...</td>\n",
       "      <td>15-50% offer</td>\n",
       "      <td>2018</td>\n",
       "      <td>4</td>\n",
       "      <td>1</td>\n",
       "      <td>0</td>\n",
       "      <td>1</td>\n",
       "      <td>Hotel</td>\n",
       "      <td>4.5</td>\n",
       "      <td>1.1</td>\n",
       "      <td>0.6</td>\n",
       "    </tr>\n",
       "    <tr>\n",
       "      <th>149963</th>\n",
       "      <td>Croatia</td>\n",
       "      <td>Zagreb</td>\n",
       "      <td>48.0</td>\n",
       "      <td>1.1 miles</td>\n",
       "      <td>City centre</td>\n",
       "      <td>0.6 miles</td>\n",
       "      <td>Zagreb City Museum</td>\n",
       "      <td>Zagreb</td>\n",
       "      <td>109</td>\n",
       "      <td>price for 1 night</td>\n",
       "      <td>...</td>\n",
       "      <td>15-50% offer</td>\n",
       "      <td>2018</td>\n",
       "      <td>3</td>\n",
       "      <td>1</td>\n",
       "      <td>0</td>\n",
       "      <td>1</td>\n",
       "      <td>Hotel</td>\n",
       "      <td>4.5</td>\n",
       "      <td>1.1</td>\n",
       "      <td>0.6</td>\n",
       "    </tr>\n",
       "    <tr>\n",
       "      <th>149964</th>\n",
       "      <td>Croatia</td>\n",
       "      <td>Zagreb</td>\n",
       "      <td>48.0</td>\n",
       "      <td>1.1 miles</td>\n",
       "      <td>City centre</td>\n",
       "      <td>0.6 miles</td>\n",
       "      <td>Zagreb City Museum</td>\n",
       "      <td>Zagreb</td>\n",
       "      <td>446</td>\n",
       "      <td>price for 4 nights</td>\n",
       "      <td>...</td>\n",
       "      <td>15-50% offer</td>\n",
       "      <td>2017</td>\n",
       "      <td>12</td>\n",
       "      <td>0</td>\n",
       "      <td>1</td>\n",
       "      <td>1</td>\n",
       "      <td>Hotel</td>\n",
       "      <td>4.5</td>\n",
       "      <td>1.1</td>\n",
       "      <td>0.6</td>\n",
       "    </tr>\n",
       "    <tr>\n",
       "      <th>149965</th>\n",
       "      <td>Croatia</td>\n",
       "      <td>Zagreb</td>\n",
       "      <td>48.0</td>\n",
       "      <td>1.1 miles</td>\n",
       "      <td>City centre</td>\n",
       "      <td>0.6 miles</td>\n",
       "      <td>Zagreb City Museum</td>\n",
       "      <td>Zagreb</td>\n",
       "      <td>117</td>\n",
       "      <td>price for 1 night</td>\n",
       "      <td>...</td>\n",
       "      <td>15-50% offer</td>\n",
       "      <td>2017</td>\n",
       "      <td>12</td>\n",
       "      <td>0</td>\n",
       "      <td>1</td>\n",
       "      <td>1</td>\n",
       "      <td>Hotel</td>\n",
       "      <td>4.5</td>\n",
       "      <td>1.1</td>\n",
       "      <td>0.6</td>\n",
       "    </tr>\n",
       "  </tbody>\n",
       "</table>\n",
       "<p>149966 rows × 29 columns</p>\n",
       "</div>"
      ],
      "text/plain": [
       "       addresscountryname city_actual  rating_count center1distance  \\\n",
       "0             Netherlands   Amsterdam        1030.0       3.1 miles   \n",
       "1             Netherlands   Amsterdam        1030.0       3.1 miles   \n",
       "2             Netherlands   Amsterdam        1030.0       3.1 miles   \n",
       "3             Netherlands   Amsterdam        1030.0       3.1 miles   \n",
       "4             Netherlands   Amsterdam        1030.0       3.1 miles   \n",
       "...                   ...         ...           ...             ...   \n",
       "149961            Croatia      Zagreb          48.0       1.1 miles   \n",
       "149962            Croatia      Zagreb          48.0       1.1 miles   \n",
       "149963            Croatia      Zagreb          48.0       1.1 miles   \n",
       "149964            Croatia      Zagreb          48.0       1.1 miles   \n",
       "149965            Croatia      Zagreb          48.0       1.1 miles   \n",
       "\n",
       "       center1label center2distance        center2label neighbourhood  price  \\\n",
       "0       City centre       3.6 miles    Montelbaanstoren     Amsterdam    172   \n",
       "1       City centre       3.6 miles    Montelbaanstoren     Amsterdam    122   \n",
       "2       City centre       3.6 miles    Montelbaanstoren     Amsterdam    122   \n",
       "3       City centre       3.6 miles    Montelbaanstoren     Amsterdam    552   \n",
       "4       City centre       3.6 miles    Montelbaanstoren     Amsterdam    122   \n",
       "...             ...             ...                 ...           ...    ...   \n",
       "149961  City centre       0.6 miles  Zagreb City Museum        Zagreb    119   \n",
       "149962  City centre       0.6 miles  Zagreb City Museum        Zagreb    109   \n",
       "149963  City centre       0.6 miles  Zagreb City Museum        Zagreb    109   \n",
       "149964  City centre       0.6 miles  Zagreb City Museum        Zagreb    446   \n",
       "149965  City centre       0.6 miles  Zagreb City Museum        Zagreb    117   \n",
       "\n",
       "               price_night  ...     offer_cat  year  month  weekend holiday  \\\n",
       "0        price for 1 night  ...   0% no offer  2017     11        1       0   \n",
       "1        price for 1 night  ...  15-50% offer  2018      1        1       0   \n",
       "2        price for 1 night  ...  15-50% offer  2017     12        0       1   \n",
       "3       price for 4 nights  ...   1-15% offer  2017     12        0       1   \n",
       "4        price for 1 night  ...  15-50% offer  2018      2        1       0   \n",
       "...                    ...  ...           ...   ...    ...      ...     ...   \n",
       "149961   price for 1 night  ...  15-50% offer  2017     11        0       0   \n",
       "149962   price for 1 night  ...  15-50% offer  2018      4        1       0   \n",
       "149963   price for 1 night  ...  15-50% offer  2018      3        1       0   \n",
       "149964  price for 4 nights  ...  15-50% offer  2017     12        0       1   \n",
       "149965   price for 1 night  ...  15-50% offer  2017     12        0       1   \n",
       "\n",
       "       nnights  acc_type  ratings  dist_to_center_1 dist_to_center_2  \n",
       "0            1     Hotel      4.3               3.1              3.6  \n",
       "1            1     Hotel      4.3               3.1              3.6  \n",
       "2            1     Hotel      4.3               3.1              3.6  \n",
       "3            1     Hotel      4.3               3.1              3.6  \n",
       "4            1     Hotel      4.3               3.1              3.6  \n",
       "...        ...       ...      ...               ...              ...  \n",
       "149961       1     Hotel      4.5               1.1              0.6  \n",
       "149962       1     Hotel      4.5               1.1              0.6  \n",
       "149963       1     Hotel      4.5               1.1              0.6  \n",
       "149964       1     Hotel      4.5               1.1              0.6  \n",
       "149965       1     Hotel      4.5               1.1              0.6  \n",
       "\n",
       "[149966 rows x 29 columns]"
      ]
     },
     "execution_count": 38,
     "metadata": {},
     "output_type": "execute_result"
    }
   ],
   "source": [
    "df.rename(columns={'rating_reviewcount':'rating_count','rating2_ta':'ratingta=, inplace=True'})\n",
    "#               other possibility     df = df.rename(.....) without inplace= argument"
   ]
  },
  {
   "cell_type": "code",
   "execution_count": 39,
   "id": "5761ad01",
   "metadata": {},
   "outputs": [
    {
     "data": {
      "text/plain": [
       "Index(['addresscountryname', 'city_actual', 'rating_reviewcount',\n",
       "       'center1distance', 'center1label', 'center2distance', 'center2label',\n",
       "       'neighbourhood', 'price', 'price_night', 's_city', 'starrating',\n",
       "       'rating2_ta', 'rating2_ta_reviewcount', 'accommodationtype',\n",
       "       'guestreviewsrating', 'scarce_room', 'hotel_id', 'offer', 'offer_cat',\n",
       "       'year', 'month', 'weekend', 'holiday', 'nnights', 'acc_type', 'ratings',\n",
       "       'dist_to_center_1', 'dist_to_center_2'],\n",
       "      dtype='object')"
      ]
     },
     "execution_count": 39,
     "metadata": {},
     "output_type": "execute_result"
    }
   ],
   "source": [
    "df.columns"
   ]
  },
  {
   "cell_type": "markdown",
   "id": "ac48191c",
   "metadata": {},
   "source": [
    "#   TASK : renaming"
   ]
  },
  {
   "cell_type": "code",
   "execution_count": 42,
   "id": "fa983153",
   "metadata": {},
   "outputs": [
    {
     "data": {
      "text/plain": [
       "Index(['addresscountryname', 'city_actual', 'rating_reviewcount',\n",
       "       'center1distance', 'center1label', 'center2distance', 'center2label',\n",
       "       'neighbourhood', 'price', 'price_night', 's_city', 'starrating',\n",
       "       'rating2_ta', 'rating2_ta_reviewcount', 'accommodationtype',\n",
       "       'guestreviewsrating', 'scarce_room', 'hotel_id', 'offer', 'offer_cat',\n",
       "       'year', 'month', 'weekend', 'holiday', 'nnights', 'acc_type', 'ratings',\n",
       "       'dist_to_center_1', 'dist_to_center_2'],\n",
       "      dtype='object')"
      ]
     },
     "execution_count": 42,
     "metadata": {},
     "output_type": "execute_result"
    }
   ],
   "source": [
    "df.columns"
   ]
  },
  {
   "cell_type": "code",
   "execution_count": 127,
   "id": "27d1dc59",
   "metadata": {},
   "outputs": [],
   "source": [
    "df = df.rename(columns={'rating2_ta_reviewcount':'ratinga_count','addresscountryname':'country','starrating':'stars','s_city':'city'})"
   ]
  },
  {
   "cell_type": "code",
   "execution_count": 128,
   "id": "6b873ad7",
   "metadata": {},
   "outputs": [
    {
     "data": {
      "text/plain": [
       "Index(['country', 'city_actual', 'rating_reviewcount', 'center1distance',\n",
       "       'center1label', 'center2distance', 'center2label', 'neighbourhood',\n",
       "       'price', 'price_night', 'city', 'stars', 'rating2_ta', 'ratinga_count',\n",
       "       'accommodationtype', 'guestreviewsrating', 'scarce_room', 'hotel_id',\n",
       "       'offer', 'offer_cat', 'year', 'month', 'weekend', 'holiday', 'nnights',\n",
       "       'acc_type', 'ratings', 'dist_to_center_1', 'dist_to_center_2'],\n",
       "      dtype='object')"
      ]
     },
     "execution_count": 128,
     "metadata": {},
     "output_type": "execute_result"
    }
   ],
   "source": [
    "df.columns"
   ]
  },
  {
   "cell_type": "code",
   "execution_count": 52,
   "id": "fba8715d",
   "metadata": {},
   "outputs": [
    {
     "data": {
      "text/plain": [
       "0         Hotel\n",
       "1         Hotel\n",
       "2         Hotel\n",
       "3         Hotel\n",
       "4         Hotel\n",
       "          ...  \n",
       "149961    Hotel\n",
       "149962    Hotel\n",
       "149963    Hotel\n",
       "149964    Hotel\n",
       "149965    Hotel\n",
       "Name: acc_type, Length: 149966, dtype: object"
      ]
     },
     "execution_count": 52,
     "metadata": {},
     "output_type": "execute_result"
    }
   ],
   "source": [
    "df.acc_type"
   ]
  },
  {
   "cell_type": "code",
   "execution_count": 59,
   "id": "50553670",
   "metadata": {},
   "outputs": [
    {
     "data": {
      "text/html": [
       "<div>\n",
       "<style scoped>\n",
       "    .dataframe tbody tr th:only-of-type {\n",
       "        vertical-align: middle;\n",
       "    }\n",
       "\n",
       "    .dataframe tbody tr th {\n",
       "        vertical-align: top;\n",
       "    }\n",
       "\n",
       "    .dataframe thead th {\n",
       "        text-align: right;\n",
       "    }\n",
       "</style>\n",
       "<table border=\"1\" class=\"dataframe\">\n",
       "  <thead>\n",
       "    <tr style=\"text-align: right;\">\n",
       "      <th></th>\n",
       "      <th>country</th>\n",
       "      <th>city_actual</th>\n",
       "      <th>rating_reviewcount</th>\n",
       "      <th>center1distance</th>\n",
       "      <th>center1label</th>\n",
       "      <th>center2distance</th>\n",
       "      <th>center2label</th>\n",
       "      <th>neighbourhood</th>\n",
       "      <th>price</th>\n",
       "      <th>price_night</th>\n",
       "      <th>...</th>\n",
       "      <th>offer_cat</th>\n",
       "      <th>year</th>\n",
       "      <th>month</th>\n",
       "      <th>weekend</th>\n",
       "      <th>holiday</th>\n",
       "      <th>nnights</th>\n",
       "      <th>acc_type</th>\n",
       "      <th>ratings</th>\n",
       "      <th>dist_to_center_1</th>\n",
       "      <th>dist_to_center_2</th>\n",
       "    </tr>\n",
       "  </thead>\n",
       "  <tbody>\n",
       "    <tr>\n",
       "      <th>0</th>\n",
       "      <td>Netherlands</td>\n",
       "      <td>Amsterdam</td>\n",
       "      <td>1030.0</td>\n",
       "      <td>3.1 miles</td>\n",
       "      <td>City centre</td>\n",
       "      <td>3.6 miles</td>\n",
       "      <td>Montelbaanstoren</td>\n",
       "      <td>Amsterdam</td>\n",
       "      <td>172</td>\n",
       "      <td>price for 1 night</td>\n",
       "      <td>...</td>\n",
       "      <td>0% no offer</td>\n",
       "      <td>2017</td>\n",
       "      <td>11</td>\n",
       "      <td>1</td>\n",
       "      <td>0</td>\n",
       "      <td>1</td>\n",
       "      <td>Hotel</td>\n",
       "      <td>4.3</td>\n",
       "      <td>3.1</td>\n",
       "      <td>3.6</td>\n",
       "    </tr>\n",
       "    <tr>\n",
       "      <th>1</th>\n",
       "      <td>Netherlands</td>\n",
       "      <td>Amsterdam</td>\n",
       "      <td>1030.0</td>\n",
       "      <td>3.1 miles</td>\n",
       "      <td>City centre</td>\n",
       "      <td>3.6 miles</td>\n",
       "      <td>Montelbaanstoren</td>\n",
       "      <td>Amsterdam</td>\n",
       "      <td>122</td>\n",
       "      <td>price for 1 night</td>\n",
       "      <td>...</td>\n",
       "      <td>15-50% offer</td>\n",
       "      <td>2018</td>\n",
       "      <td>1</td>\n",
       "      <td>1</td>\n",
       "      <td>0</td>\n",
       "      <td>1</td>\n",
       "      <td>Hotel</td>\n",
       "      <td>4.3</td>\n",
       "      <td>3.1</td>\n",
       "      <td>3.6</td>\n",
       "    </tr>\n",
       "    <tr>\n",
       "      <th>2</th>\n",
       "      <td>Netherlands</td>\n",
       "      <td>Amsterdam</td>\n",
       "      <td>1030.0</td>\n",
       "      <td>3.1 miles</td>\n",
       "      <td>City centre</td>\n",
       "      <td>3.6 miles</td>\n",
       "      <td>Montelbaanstoren</td>\n",
       "      <td>Amsterdam</td>\n",
       "      <td>122</td>\n",
       "      <td>price for 1 night</td>\n",
       "      <td>...</td>\n",
       "      <td>15-50% offer</td>\n",
       "      <td>2017</td>\n",
       "      <td>12</td>\n",
       "      <td>0</td>\n",
       "      <td>1</td>\n",
       "      <td>1</td>\n",
       "      <td>Hotel</td>\n",
       "      <td>4.3</td>\n",
       "      <td>3.1</td>\n",
       "      <td>3.6</td>\n",
       "    </tr>\n",
       "    <tr>\n",
       "      <th>3</th>\n",
       "      <td>Netherlands</td>\n",
       "      <td>Amsterdam</td>\n",
       "      <td>1030.0</td>\n",
       "      <td>3.1 miles</td>\n",
       "      <td>City centre</td>\n",
       "      <td>3.6 miles</td>\n",
       "      <td>Montelbaanstoren</td>\n",
       "      <td>Amsterdam</td>\n",
       "      <td>552</td>\n",
       "      <td>price for 4 nights</td>\n",
       "      <td>...</td>\n",
       "      <td>1-15% offer</td>\n",
       "      <td>2017</td>\n",
       "      <td>12</td>\n",
       "      <td>0</td>\n",
       "      <td>1</td>\n",
       "      <td>1</td>\n",
       "      <td>Hotel</td>\n",
       "      <td>4.3</td>\n",
       "      <td>3.1</td>\n",
       "      <td>3.6</td>\n",
       "    </tr>\n",
       "    <tr>\n",
       "      <th>4</th>\n",
       "      <td>Netherlands</td>\n",
       "      <td>Amsterdam</td>\n",
       "      <td>1030.0</td>\n",
       "      <td>3.1 miles</td>\n",
       "      <td>City centre</td>\n",
       "      <td>3.6 miles</td>\n",
       "      <td>Montelbaanstoren</td>\n",
       "      <td>Amsterdam</td>\n",
       "      <td>122</td>\n",
       "      <td>price for 1 night</td>\n",
       "      <td>...</td>\n",
       "      <td>15-50% offer</td>\n",
       "      <td>2018</td>\n",
       "      <td>2</td>\n",
       "      <td>1</td>\n",
       "      <td>0</td>\n",
       "      <td>1</td>\n",
       "      <td>Hotel</td>\n",
       "      <td>4.3</td>\n",
       "      <td>3.1</td>\n",
       "      <td>3.6</td>\n",
       "    </tr>\n",
       "  </tbody>\n",
       "</table>\n",
       "<p>5 rows × 29 columns</p>\n",
       "</div>"
      ],
      "text/plain": [
       "       country city_actual  rating_reviewcount center1distance center1label  \\\n",
       "0  Netherlands   Amsterdam              1030.0       3.1 miles  City centre   \n",
       "1  Netherlands   Amsterdam              1030.0       3.1 miles  City centre   \n",
       "2  Netherlands   Amsterdam              1030.0       3.1 miles  City centre   \n",
       "3  Netherlands   Amsterdam              1030.0       3.1 miles  City centre   \n",
       "4  Netherlands   Amsterdam              1030.0       3.1 miles  City centre   \n",
       "\n",
       "  center2distance      center2label neighbourhood  price         price_night  \\\n",
       "0       3.6 miles  Montelbaanstoren     Amsterdam    172   price for 1 night   \n",
       "1       3.6 miles  Montelbaanstoren     Amsterdam    122   price for 1 night   \n",
       "2       3.6 miles  Montelbaanstoren     Amsterdam    122   price for 1 night   \n",
       "3       3.6 miles  Montelbaanstoren     Amsterdam    552  price for 4 nights   \n",
       "4       3.6 miles  Montelbaanstoren     Amsterdam    122   price for 1 night   \n",
       "\n",
       "   ...     offer_cat  year  month  weekend holiday nnights  acc_type  ratings  \\\n",
       "0  ...   0% no offer  2017     11        1       0       1     Hotel      4.3   \n",
       "1  ...  15-50% offer  2018      1        1       0       1     Hotel      4.3   \n",
       "2  ...  15-50% offer  2017     12        0       1       1     Hotel      4.3   \n",
       "3  ...   1-15% offer  2017     12        0       1       1     Hotel      4.3   \n",
       "4  ...  15-50% offer  2018      2        1       0       1     Hotel      4.3   \n",
       "\n",
       "   dist_to_center_1 dist_to_center_2  \n",
       "0               3.1              3.6  \n",
       "1               3.1              3.6  \n",
       "2               3.1              3.6  \n",
       "3               3.1              3.6  \n",
       "4               3.1              3.6  \n",
       "\n",
       "[5 rows x 29 columns]"
      ]
     },
     "execution_count": 59,
     "metadata": {},
     "output_type": "execute_result"
    }
   ],
   "source": [
    "df.loc[df[\"acc_type\"] == 'Hotel'].head()"
   ]
  },
  {
   "cell_type": "code",
   "execution_count": 60,
   "id": "1ab4ba6a",
   "metadata": {},
   "outputs": [
    {
     "data": {
      "text/plain": [
       "10587"
      ]
     },
     "execution_count": 60,
     "metadata": {},
     "output_type": "execute_result"
    }
   ],
   "source": [
    "#check if we have missing values in the rating column\n",
    "df[\"ratings\"].isnull().sum()"
   ]
  },
  {
   "cell_type": "code",
   "execution_count": 62,
   "id": "a27e0245",
   "metadata": {},
   "outputs": [
    {
     "data": {
      "text/plain": [
       "country\n",
       "Austria            449\n",
       "Belarus             65\n",
       "Belgium             75\n",
       "Bulgaria            80\n",
       "Cameroon             0\n",
       "Croatia             66\n",
       "Cyprus               0\n",
       "Czech Republic     158\n",
       "Denmark             15\n",
       "Egypt                1\n",
       "Estonia              8\n",
       "Finland             43\n",
       "France             322\n",
       "Germany            114\n",
       "Greece             155\n",
       "Hungary             82\n",
       "Ireland             85\n",
       "Italy             3046\n",
       "Latvia              60\n",
       "Lithuania           57\n",
       "Malta               99\n",
       "Netherlands         48\n",
       "Poland             914\n",
       "Portugal           182\n",
       "Romania             83\n",
       "Russia            2112\n",
       "Serbia              51\n",
       "Slovakia            71\n",
       "Spain              358\n",
       "Sweden              41\n",
       "Turkey            1023\n",
       "Ukraine            156\n",
       "United Kingdom     568\n",
       "Name: ratings, dtype: int64"
      ]
     },
     "execution_count": 62,
     "metadata": {},
     "output_type": "execute_result"
    }
   ],
   "source": [
    "# check missing values by country - order to the methods matters !!!\n",
    "df[\"ratings\"].isnull().groupby(df.country).sum()"
   ]
  },
  {
   "cell_type": "code",
   "execution_count": 66,
   "id": "c543952f",
   "metadata": {},
   "outputs": [
    {
     "ename": "SyntaxError",
     "evalue": "incomplete input (1375903944.py, line 2)",
     "output_type": "error",
     "traceback": [
      "\u001b[1;36m  Cell \u001b[1;32mIn[66], line 2\u001b[1;36m\u001b[0m\n\u001b[1;33m    df.loc[df['ratings'].isnull()\u001b[0m\n\u001b[1;37m                                 ^\u001b[0m\n\u001b[1;31mSyntaxError\u001b[0m\u001b[1;31m:\u001b[0m incomplete input\n"
     ]
    }
   ],
   "source": [
    "# check out data for which ratings is missing\n",
    "df.loc[df['ratings'].isnull()"
   ]
  },
  {
   "cell_type": "markdown",
   "id": "6e6f6308",
   "metadata": {},
   "source": [
    "df.columns"
   ]
  },
  {
   "cell_type": "code",
   "execution_count": 68,
   "id": "61d81e2a",
   "metadata": {},
   "outputs": [
    {
     "data": {
      "text/plain": [
       "Index(['country', 'city_actual', 'rating_reviewcount', 'center1distance',\n",
       "       'center1label', 'center2distance', 'center2label', 'neighbourhood',\n",
       "       'price', 'price_night', 'city', 'stars', 'rating2_ta',\n",
       "       'rating2_ta_reviewcount', 'accommodationtype', 'guestreviewsrating',\n",
       "       'scarce_room', 'hotel_id', 'offer', 'offer_cat', 'year', 'month',\n",
       "       'weekend', 'holiday', 'nnights', 'acc_type', 'ratings',\n",
       "       'dist_to_center_1', 'dist_to_center_2'],\n",
       "      dtype='object')"
      ]
     },
     "execution_count": 68,
     "metadata": {},
     "output_type": "execute_result"
    }
   ],
   "source": [
    "df.columns"
   ]
  },
  {
   "cell_type": "code",
   "execution_count": 71,
   "id": "00ae603e",
   "metadata": {},
   "outputs": [],
   "source": [
    "#  Often we want to drop missing observations for key variables\n",
    "#  Two ways\n",
    "#1 . \n",
    "# df = df.loc[df[\"ratings\"].notnull()]\n",
    "#2\n",
    "df = df.dropna(subset=[\"ratings\"])"
   ]
  },
  {
   "cell_type": "code",
   "execution_count": 72,
   "id": "c9ba4c61",
   "metadata": {},
   "outputs": [
    {
     "name": "stdout",
     "output_type": "stream",
     "text": [
      "Now there are 0 observations missing\n"
     ]
    }
   ],
   "source": [
    "#  Did it work?\n",
    "#   f   says to Python tis is a function to execute\n",
    "print(f'Now there are {df[\"ratings\"].isnull().sum()} observations missing')"
   ]
  },
  {
   "cell_type": "markdown",
   "id": "2707114d",
   "metadata": {},
   "source": [
    "### Wrongly documented observations\n",
    "\n",
    "for the stars column, there are values from 0-5. Minimum should be 1 and not 0"
   ]
  },
  {
   "cell_type": "code",
   "execution_count": 75,
   "id": "85195faa",
   "metadata": {},
   "outputs": [
    {
     "data": {
      "text/plain": [
       "3.0    41692\n",
       "4.0    38583\n",
       "0.0    22451\n",
       "2.0    13360\n",
       "5.0     8346\n",
       "3.5     7797\n",
       "2.5     2940\n",
       "1.0     2383\n",
       "4.5     1661\n",
       "1.5      166\n",
       "Name: stars, dtype: int64"
      ]
     },
     "execution_count": 75,
     "metadata": {},
     "output_type": "execute_result"
    }
   ],
   "source": [
    "df.stars.value_counts()"
   ]
  },
  {
   "cell_type": "markdown",
   "id": "60122e3b",
   "metadata": {},
   "source": []
  },
  {
   "cell_type": "code",
   "execution_count": 77,
   "id": "0e66f9a7",
   "metadata": {},
   "outputs": [],
   "source": [
    "###  Now we want to replace the 0.0s with 1.0s using the  np.where()  method\n",
    "df[\"stars\"] = np.where(df[\"stars\"] == 0.0, 1.0, df[\"stars\"])"
   ]
  },
  {
   "cell_type": "code",
   "execution_count": 79,
   "id": "b32040c5",
   "metadata": {},
   "outputs": [
    {
     "data": {
      "text/plain": [
       "3.0    41692\n",
       "4.0    38583\n",
       "1.0    24834\n",
       "2.0    13360\n",
       "5.0     8346\n",
       "3.5     7797\n",
       "2.5     2940\n",
       "4.5     1661\n",
       "1.5      166\n",
       "Name: stars, dtype: int64"
      ]
     },
     "execution_count": 79,
     "metadata": {},
     "output_type": "execute_result"
    }
   ],
   "source": [
    "df.stars.value_counts()"
   ]
  },
  {
   "cell_type": "code",
   "execution_count": 80,
   "id": "1d50eb2d",
   "metadata": {},
   "outputs": [],
   "source": [
    "#  It worked, no more 0.0"
   ]
  },
  {
   "cell_type": "code",
   "execution_count": 82,
   "id": "755fb07b",
   "metadata": {},
   "outputs": [
    {
     "data": {
      "text/plain": [
       "0         False\n",
       "1         False\n",
       "2         False\n",
       "3         False\n",
       "4         False\n",
       "          ...  \n",
       "149961    False\n",
       "149962    False\n",
       "149963    False\n",
       "149964    False\n",
       "149965    False\n",
       "Length: 139379, dtype: bool"
      ]
     },
     "execution_count": 82,
     "metadata": {},
     "output_type": "execute_result"
    }
   ],
   "source": [
    "#  Check for duplicates\n",
    "df.duplicated()"
   ]
  },
  {
   "cell_type": "code",
   "execution_count": 83,
   "id": "5fc1efb7",
   "metadata": {},
   "outputs": [
    {
     "data": {
      "text/plain": [
       "1761"
      ]
     },
     "execution_count": 83,
     "metadata": {},
     "output_type": "execute_result"
    }
   ],
   "source": [
    "df.duplicated().sum()"
   ]
  },
  {
   "cell_type": "code",
   "execution_count": 84,
   "id": "650cc646",
   "metadata": {},
   "outputs": [
    {
     "ename": "SyntaxError",
     "evalue": "unterminated string literal (detected at line 2) (570108790.py, line 2)",
     "output_type": "error",
     "traceback": [
      "\u001b[1;36m  Cell \u001b[1;32mIn[84], line 2\u001b[1;36m\u001b[0m\n\u001b[1;33m    print(f'We have {df.duplicated().sum()} duplicates)\u001b[0m\n\u001b[1;37m          ^\u001b[0m\n\u001b[1;31mSyntaxError\u001b[0m\u001b[1;31m:\u001b[0m unterminated string literal (detected at line 2)\n"
     ]
    }
   ],
   "source": [
    "#    nnicer presentation\n",
    "print(f'We have {df.duplicated().sum()} duplicates)"
   ]
  },
  {
   "cell_type": "code",
   "execution_count": 86,
   "id": "2e9d8a67",
   "metadata": {},
   "outputs": [],
   "source": [
    "df = df.drop_duplicates()"
   ]
  },
  {
   "cell_type": "code",
   "execution_count": 87,
   "id": "a8df8996",
   "metadata": {},
   "outputs": [
    {
     "data": {
      "text/plain": [
       "(137618, 29)"
      ]
     },
     "execution_count": 87,
     "metadata": {},
     "output_type": "execute_result"
    }
   ],
   "source": [
    "df.shape"
   ]
  },
  {
   "cell_type": "markdown",
   "id": "7221d234",
   "metadata": {},
   "source": [
    "###   Task\n",
    "we are nterested in the following data\n",
    "1. get hotels from Vienna only\n",
    "2. only in 2017, november\n",
    "3. drop observations with price > 1000€\n",
    "\n",
    "Create a dataFrame df_vienna that only included information specified above"
   ]
  },
  {
   "cell_type": "code",
   "execution_count": 88,
   "id": "56a4c32d",
   "metadata": {},
   "outputs": [
    {
     "data": {
      "text/html": [
       "<div>\n",
       "<style scoped>\n",
       "    .dataframe tbody tr th:only-of-type {\n",
       "        vertical-align: middle;\n",
       "    }\n",
       "\n",
       "    .dataframe tbody tr th {\n",
       "        vertical-align: top;\n",
       "    }\n",
       "\n",
       "    .dataframe thead th {\n",
       "        text-align: right;\n",
       "    }\n",
       "</style>\n",
       "<table border=\"1\" class=\"dataframe\">\n",
       "  <thead>\n",
       "    <tr style=\"text-align: right;\">\n",
       "      <th></th>\n",
       "      <th>country</th>\n",
       "      <th>city_actual</th>\n",
       "      <th>rating_reviewcount</th>\n",
       "      <th>center1distance</th>\n",
       "      <th>center1label</th>\n",
       "      <th>center2distance</th>\n",
       "      <th>center2label</th>\n",
       "      <th>neighbourhood</th>\n",
       "      <th>price</th>\n",
       "      <th>price_night</th>\n",
       "      <th>...</th>\n",
       "      <th>offer_cat</th>\n",
       "      <th>year</th>\n",
       "      <th>month</th>\n",
       "      <th>weekend</th>\n",
       "      <th>holiday</th>\n",
       "      <th>nnights</th>\n",
       "      <th>acc_type</th>\n",
       "      <th>ratings</th>\n",
       "      <th>dist_to_center_1</th>\n",
       "      <th>dist_to_center_2</th>\n",
       "    </tr>\n",
       "  </thead>\n",
       "  <tbody>\n",
       "    <tr>\n",
       "      <th>0</th>\n",
       "      <td>Netherlands</td>\n",
       "      <td>Amsterdam</td>\n",
       "      <td>1030.0</td>\n",
       "      <td>3.1 miles</td>\n",
       "      <td>City centre</td>\n",
       "      <td>3.6 miles</td>\n",
       "      <td>Montelbaanstoren</td>\n",
       "      <td>Amsterdam</td>\n",
       "      <td>172</td>\n",
       "      <td>price for 1 night</td>\n",
       "      <td>...</td>\n",
       "      <td>0% no offer</td>\n",
       "      <td>2017</td>\n",
       "      <td>11</td>\n",
       "      <td>1</td>\n",
       "      <td>0</td>\n",
       "      <td>1</td>\n",
       "      <td>Hotel</td>\n",
       "      <td>4.3</td>\n",
       "      <td>3.1</td>\n",
       "      <td>3.6</td>\n",
       "    </tr>\n",
       "    <tr>\n",
       "      <th>1</th>\n",
       "      <td>Netherlands</td>\n",
       "      <td>Amsterdam</td>\n",
       "      <td>1030.0</td>\n",
       "      <td>3.1 miles</td>\n",
       "      <td>City centre</td>\n",
       "      <td>3.6 miles</td>\n",
       "      <td>Montelbaanstoren</td>\n",
       "      <td>Amsterdam</td>\n",
       "      <td>122</td>\n",
       "      <td>price for 1 night</td>\n",
       "      <td>...</td>\n",
       "      <td>15-50% offer</td>\n",
       "      <td>2018</td>\n",
       "      <td>1</td>\n",
       "      <td>1</td>\n",
       "      <td>0</td>\n",
       "      <td>1</td>\n",
       "      <td>Hotel</td>\n",
       "      <td>4.3</td>\n",
       "      <td>3.1</td>\n",
       "      <td>3.6</td>\n",
       "    </tr>\n",
       "    <tr>\n",
       "      <th>2</th>\n",
       "      <td>Netherlands</td>\n",
       "      <td>Amsterdam</td>\n",
       "      <td>1030.0</td>\n",
       "      <td>3.1 miles</td>\n",
       "      <td>City centre</td>\n",
       "      <td>3.6 miles</td>\n",
       "      <td>Montelbaanstoren</td>\n",
       "      <td>Amsterdam</td>\n",
       "      <td>122</td>\n",
       "      <td>price for 1 night</td>\n",
       "      <td>...</td>\n",
       "      <td>15-50% offer</td>\n",
       "      <td>2017</td>\n",
       "      <td>12</td>\n",
       "      <td>0</td>\n",
       "      <td>1</td>\n",
       "      <td>1</td>\n",
       "      <td>Hotel</td>\n",
       "      <td>4.3</td>\n",
       "      <td>3.1</td>\n",
       "      <td>3.6</td>\n",
       "    </tr>\n",
       "    <tr>\n",
       "      <th>3</th>\n",
       "      <td>Netherlands</td>\n",
       "      <td>Amsterdam</td>\n",
       "      <td>1030.0</td>\n",
       "      <td>3.1 miles</td>\n",
       "      <td>City centre</td>\n",
       "      <td>3.6 miles</td>\n",
       "      <td>Montelbaanstoren</td>\n",
       "      <td>Amsterdam</td>\n",
       "      <td>552</td>\n",
       "      <td>price for 4 nights</td>\n",
       "      <td>...</td>\n",
       "      <td>1-15% offer</td>\n",
       "      <td>2017</td>\n",
       "      <td>12</td>\n",
       "      <td>0</td>\n",
       "      <td>1</td>\n",
       "      <td>1</td>\n",
       "      <td>Hotel</td>\n",
       "      <td>4.3</td>\n",
       "      <td>3.1</td>\n",
       "      <td>3.6</td>\n",
       "    </tr>\n",
       "    <tr>\n",
       "      <th>4</th>\n",
       "      <td>Netherlands</td>\n",
       "      <td>Amsterdam</td>\n",
       "      <td>1030.0</td>\n",
       "      <td>3.1 miles</td>\n",
       "      <td>City centre</td>\n",
       "      <td>3.6 miles</td>\n",
       "      <td>Montelbaanstoren</td>\n",
       "      <td>Amsterdam</td>\n",
       "      <td>122</td>\n",
       "      <td>price for 1 night</td>\n",
       "      <td>...</td>\n",
       "      <td>15-50% offer</td>\n",
       "      <td>2018</td>\n",
       "      <td>2</td>\n",
       "      <td>1</td>\n",
       "      <td>0</td>\n",
       "      <td>1</td>\n",
       "      <td>Hotel</td>\n",
       "      <td>4.3</td>\n",
       "      <td>3.1</td>\n",
       "      <td>3.6</td>\n",
       "    </tr>\n",
       "  </tbody>\n",
       "</table>\n",
       "<p>5 rows × 29 columns</p>\n",
       "</div>"
      ],
      "text/plain": [
       "       country city_actual  rating_reviewcount center1distance center1label  \\\n",
       "0  Netherlands   Amsterdam              1030.0       3.1 miles  City centre   \n",
       "1  Netherlands   Amsterdam              1030.0       3.1 miles  City centre   \n",
       "2  Netherlands   Amsterdam              1030.0       3.1 miles  City centre   \n",
       "3  Netherlands   Amsterdam              1030.0       3.1 miles  City centre   \n",
       "4  Netherlands   Amsterdam              1030.0       3.1 miles  City centre   \n",
       "\n",
       "  center2distance      center2label neighbourhood  price         price_night  \\\n",
       "0       3.6 miles  Montelbaanstoren     Amsterdam    172   price for 1 night   \n",
       "1       3.6 miles  Montelbaanstoren     Amsterdam    122   price for 1 night   \n",
       "2       3.6 miles  Montelbaanstoren     Amsterdam    122   price for 1 night   \n",
       "3       3.6 miles  Montelbaanstoren     Amsterdam    552  price for 4 nights   \n",
       "4       3.6 miles  Montelbaanstoren     Amsterdam    122   price for 1 night   \n",
       "\n",
       "   ...     offer_cat  year  month  weekend holiday nnights  acc_type  ratings  \\\n",
       "0  ...   0% no offer  2017     11        1       0       1     Hotel      4.3   \n",
       "1  ...  15-50% offer  2018      1        1       0       1     Hotel      4.3   \n",
       "2  ...  15-50% offer  2017     12        0       1       1     Hotel      4.3   \n",
       "3  ...   1-15% offer  2017     12        0       1       1     Hotel      4.3   \n",
       "4  ...  15-50% offer  2018      2        1       0       1     Hotel      4.3   \n",
       "\n",
       "   dist_to_center_1 dist_to_center_2  \n",
       "0               3.1              3.6  \n",
       "1               3.1              3.6  \n",
       "2               3.1              3.6  \n",
       "3               3.1              3.6  \n",
       "4               3.1              3.6  \n",
       "\n",
       "[5 rows x 29 columns]"
      ]
     },
     "execution_count": 88,
     "metadata": {},
     "output_type": "execute_result"
    }
   ],
   "source": [
    "df.head(5)"
   ]
  },
  {
   "cell_type": "code",
   "execution_count": 109,
   "id": "78f7c755",
   "metadata": {},
   "outputs": [],
   "source": [
    "df_Vienna = df"
   ]
  },
  {
   "cell_type": "code",
   "execution_count": 105,
   "id": "3300e81b",
   "metadata": {},
   "outputs": [
    {
     "data": {
      "text/html": [
       "<div>\n",
       "<style scoped>\n",
       "    .dataframe tbody tr th:only-of-type {\n",
       "        vertical-align: middle;\n",
       "    }\n",
       "\n",
       "    .dataframe tbody tr th {\n",
       "        vertical-align: top;\n",
       "    }\n",
       "\n",
       "    .dataframe thead th {\n",
       "        text-align: right;\n",
       "    }\n",
       "</style>\n",
       "<table border=\"1\" class=\"dataframe\">\n",
       "  <thead>\n",
       "    <tr style=\"text-align: right;\">\n",
       "      <th></th>\n",
       "      <th>country</th>\n",
       "      <th>city_actual</th>\n",
       "      <th>rating_reviewcount</th>\n",
       "      <th>center1distance</th>\n",
       "      <th>center1label</th>\n",
       "      <th>center2distance</th>\n",
       "      <th>center2label</th>\n",
       "      <th>neighbourhood</th>\n",
       "      <th>price</th>\n",
       "      <th>price_night</th>\n",
       "      <th>...</th>\n",
       "      <th>offer_cat</th>\n",
       "      <th>year</th>\n",
       "      <th>month</th>\n",
       "      <th>weekend</th>\n",
       "      <th>holiday</th>\n",
       "      <th>nnights</th>\n",
       "      <th>acc_type</th>\n",
       "      <th>ratings</th>\n",
       "      <th>dist_to_center_1</th>\n",
       "      <th>dist_to_center_2</th>\n",
       "    </tr>\n",
       "  </thead>\n",
       "  <tbody>\n",
       "    <tr>\n",
       "      <th>0</th>\n",
       "      <td>Netherlands</td>\n",
       "      <td>Amsterdam</td>\n",
       "      <td>1030.0</td>\n",
       "      <td>3.1 miles</td>\n",
       "      <td>City centre</td>\n",
       "      <td>3.6 miles</td>\n",
       "      <td>Montelbaanstoren</td>\n",
       "      <td>Amsterdam</td>\n",
       "      <td>172</td>\n",
       "      <td>price for 1 night</td>\n",
       "      <td>...</td>\n",
       "      <td>0% no offer</td>\n",
       "      <td>2017</td>\n",
       "      <td>11</td>\n",
       "      <td>1</td>\n",
       "      <td>0</td>\n",
       "      <td>1</td>\n",
       "      <td>Hotel</td>\n",
       "      <td>4.3</td>\n",
       "      <td>3.1</td>\n",
       "      <td>3.6</td>\n",
       "    </tr>\n",
       "    <tr>\n",
       "      <th>1</th>\n",
       "      <td>Netherlands</td>\n",
       "      <td>Amsterdam</td>\n",
       "      <td>1030.0</td>\n",
       "      <td>3.1 miles</td>\n",
       "      <td>City centre</td>\n",
       "      <td>3.6 miles</td>\n",
       "      <td>Montelbaanstoren</td>\n",
       "      <td>Amsterdam</td>\n",
       "      <td>122</td>\n",
       "      <td>price for 1 night</td>\n",
       "      <td>...</td>\n",
       "      <td>15-50% offer</td>\n",
       "      <td>2018</td>\n",
       "      <td>1</td>\n",
       "      <td>1</td>\n",
       "      <td>0</td>\n",
       "      <td>1</td>\n",
       "      <td>Hotel</td>\n",
       "      <td>4.3</td>\n",
       "      <td>3.1</td>\n",
       "      <td>3.6</td>\n",
       "    </tr>\n",
       "    <tr>\n",
       "      <th>2</th>\n",
       "      <td>Netherlands</td>\n",
       "      <td>Amsterdam</td>\n",
       "      <td>1030.0</td>\n",
       "      <td>3.1 miles</td>\n",
       "      <td>City centre</td>\n",
       "      <td>3.6 miles</td>\n",
       "      <td>Montelbaanstoren</td>\n",
       "      <td>Amsterdam</td>\n",
       "      <td>122</td>\n",
       "      <td>price for 1 night</td>\n",
       "      <td>...</td>\n",
       "      <td>15-50% offer</td>\n",
       "      <td>2017</td>\n",
       "      <td>12</td>\n",
       "      <td>0</td>\n",
       "      <td>1</td>\n",
       "      <td>1</td>\n",
       "      <td>Hotel</td>\n",
       "      <td>4.3</td>\n",
       "      <td>3.1</td>\n",
       "      <td>3.6</td>\n",
       "    </tr>\n",
       "    <tr>\n",
       "      <th>3</th>\n",
       "      <td>Netherlands</td>\n",
       "      <td>Amsterdam</td>\n",
       "      <td>1030.0</td>\n",
       "      <td>3.1 miles</td>\n",
       "      <td>City centre</td>\n",
       "      <td>3.6 miles</td>\n",
       "      <td>Montelbaanstoren</td>\n",
       "      <td>Amsterdam</td>\n",
       "      <td>552</td>\n",
       "      <td>price for 4 nights</td>\n",
       "      <td>...</td>\n",
       "      <td>1-15% offer</td>\n",
       "      <td>2017</td>\n",
       "      <td>12</td>\n",
       "      <td>0</td>\n",
       "      <td>1</td>\n",
       "      <td>1</td>\n",
       "      <td>Hotel</td>\n",
       "      <td>4.3</td>\n",
       "      <td>3.1</td>\n",
       "      <td>3.6</td>\n",
       "    </tr>\n",
       "    <tr>\n",
       "      <th>4</th>\n",
       "      <td>Netherlands</td>\n",
       "      <td>Amsterdam</td>\n",
       "      <td>1030.0</td>\n",
       "      <td>3.1 miles</td>\n",
       "      <td>City centre</td>\n",
       "      <td>3.6 miles</td>\n",
       "      <td>Montelbaanstoren</td>\n",
       "      <td>Amsterdam</td>\n",
       "      <td>122</td>\n",
       "      <td>price for 1 night</td>\n",
       "      <td>...</td>\n",
       "      <td>15-50% offer</td>\n",
       "      <td>2018</td>\n",
       "      <td>2</td>\n",
       "      <td>1</td>\n",
       "      <td>0</td>\n",
       "      <td>1</td>\n",
       "      <td>Hotel</td>\n",
       "      <td>4.3</td>\n",
       "      <td>3.1</td>\n",
       "      <td>3.6</td>\n",
       "    </tr>\n",
       "  </tbody>\n",
       "</table>\n",
       "<p>5 rows × 29 columns</p>\n",
       "</div>"
      ],
      "text/plain": [
       "       country city_actual  rating_reviewcount center1distance center1label  \\\n",
       "0  Netherlands   Amsterdam              1030.0       3.1 miles  City centre   \n",
       "1  Netherlands   Amsterdam              1030.0       3.1 miles  City centre   \n",
       "2  Netherlands   Amsterdam              1030.0       3.1 miles  City centre   \n",
       "3  Netherlands   Amsterdam              1030.0       3.1 miles  City centre   \n",
       "4  Netherlands   Amsterdam              1030.0       3.1 miles  City centre   \n",
       "\n",
       "  center2distance      center2label neighbourhood  price         price_night  \\\n",
       "0       3.6 miles  Montelbaanstoren     Amsterdam    172   price for 1 night   \n",
       "1       3.6 miles  Montelbaanstoren     Amsterdam    122   price for 1 night   \n",
       "2       3.6 miles  Montelbaanstoren     Amsterdam    122   price for 1 night   \n",
       "3       3.6 miles  Montelbaanstoren     Amsterdam    552  price for 4 nights   \n",
       "4       3.6 miles  Montelbaanstoren     Amsterdam    122   price for 1 night   \n",
       "\n",
       "   ...     offer_cat  year  month  weekend holiday nnights  acc_type  ratings  \\\n",
       "0  ...   0% no offer  2017     11        1       0       1     Hotel      4.3   \n",
       "1  ...  15-50% offer  2018      1        1       0       1     Hotel      4.3   \n",
       "2  ...  15-50% offer  2017     12        0       1       1     Hotel      4.3   \n",
       "3  ...   1-15% offer  2017     12        0       1       1     Hotel      4.3   \n",
       "4  ...  15-50% offer  2018      2        1       0       1     Hotel      4.3   \n",
       "\n",
       "   dist_to_center_1 dist_to_center_2  \n",
       "0               3.1              3.6  \n",
       "1               3.1              3.6  \n",
       "2               3.1              3.6  \n",
       "3               3.1              3.6  \n",
       "4               3.1              3.6  \n",
       "\n",
       "[5 rows x 29 columns]"
      ]
     },
     "execution_count": 105,
     "metadata": {},
     "output_type": "execute_result"
    }
   ],
   "source": [
    "df_Vienna.head(5)"
   ]
  },
  {
   "cell_type": "code",
   "execution_count": 110,
   "id": "52763c98",
   "metadata": {},
   "outputs": [],
   "source": [
    "df_Vienna = df.loc[df_Vienna[\"city\"] == 'Vienna']"
   ]
  },
  {
   "cell_type": "code",
   "execution_count": 130,
   "id": "411fd303",
   "metadata": {},
   "outputs": [
    {
     "data": {
      "text/plain": [
       "(137618, 29)"
      ]
     },
     "execution_count": 130,
     "metadata": {},
     "output_type": "execute_result"
    }
   ],
   "source": [
    "df.shape"
   ]
  },
  {
   "cell_type": "code",
   "execution_count": 129,
   "id": "1067d127",
   "metadata": {},
   "outputs": [
    {
     "ename": "SyntaxError",
     "evalue": "invalid syntax (1174127245.py, line 2)",
     "output_type": "error",
     "traceback": [
      "\u001b[1;36m  Cell \u001b[1;32mIn[129], line 2\u001b[1;36m\u001b[0m\n\u001b[1;33m    df.[[\"city\",\"city_actual\"]].loc[df.city != df.city_actual]\u001b[0m\n\u001b[1;37m       ^\u001b[0m\n\u001b[1;31mSyntaxError\u001b[0m\u001b[1;31m:\u001b[0m invalid syntax\n"
     ]
    }
   ],
   "source": [
    "# checking where city_actual differs from city\n",
    "df.[[\"city\",\"city_actual\"]].loc[df.city != df.city_actual]"
   ]
  },
  {
   "cell_type": "code",
   "execution_count": 118,
   "id": "83850f12",
   "metadata": {},
   "outputs": [],
   "source": [
    "#  First Option\n",
    "#    df_Vienna = df_Vienna.loc[df_Vienna.year == 2017]\n",
    "#    df_Vienna = df_Vienna.loc[hotels_vienna.month == 11]\n",
    "#  Second option : compound\n",
    "df_Vienna = df_Vienna.loc[(df_Vienna.year == 2017) & (df_Vienna.month == 11)]"
   ]
  },
  {
   "cell_type": "code",
   "execution_count": 120,
   "id": "b062045f",
   "metadata": {},
   "outputs": [
    {
     "data": {
      "text/plain": [
       "Index(['country', 'city_actual', 'rating_reviewcount', 'center1distance',\n",
       "       'center1label', 'center2distance', 'center2label', 'neighbourhood',\n",
       "       'price', 'price_night', 'city', 'stars', 'rating2_ta',\n",
       "       'rating2_ta_reviewcount', 'accommodationtype', 'guestreviewsrating',\n",
       "       'scarce_room', 'hotel_id', 'offer', 'offer_cat', 'year', 'month',\n",
       "       'weekend', 'holiday', 'nnights', 'acc_type', 'ratings',\n",
       "       'dist_to_center_1', 'dist_to_center_2'],\n",
       "      dtype='object')"
      ]
     },
     "execution_count": 120,
     "metadata": {},
     "output_type": "execute_result"
    }
   ],
   "source": [
    "df_Vienna.columns"
   ]
  },
  {
   "cell_type": "code",
   "execution_count": 121,
   "id": "a309a2a2",
   "metadata": {},
   "outputs": [],
   "source": [
    "df_Vienna = df_Vienna.loc[df_Vienna.price > 1000]"
   ]
  },
  {
   "cell_type": "code",
   "execution_count": 123,
   "id": "5bada30d",
   "metadata": {},
   "outputs": [
    {
     "data": {
      "text/plain": [
       "(1, 29)"
      ]
     },
     "execution_count": 123,
     "metadata": {},
     "output_type": "execute_result"
    }
   ],
   "source": [
    "df_Vienna.shape"
   ]
  },
  {
   "cell_type": "code",
   "execution_count": 131,
   "id": "f9b5b231",
   "metadata": {},
   "outputs": [
    {
     "data": {
      "text/html": [
       "<div>\n",
       "<style scoped>\n",
       "    .dataframe tbody tr th:only-of-type {\n",
       "        vertical-align: middle;\n",
       "    }\n",
       "\n",
       "    .dataframe tbody tr th {\n",
       "        vertical-align: top;\n",
       "    }\n",
       "\n",
       "    .dataframe thead th {\n",
       "        text-align: right;\n",
       "    }\n",
       "</style>\n",
       "<table border=\"1\" class=\"dataframe\">\n",
       "  <thead>\n",
       "    <tr style=\"text-align: right;\">\n",
       "      <th></th>\n",
       "      <th>country</th>\n",
       "      <th>city_actual</th>\n",
       "      <th>rating_reviewcount</th>\n",
       "      <th>center1distance</th>\n",
       "      <th>center1label</th>\n",
       "      <th>center2distance</th>\n",
       "      <th>center2label</th>\n",
       "      <th>neighbourhood</th>\n",
       "      <th>price</th>\n",
       "      <th>price_night</th>\n",
       "      <th>...</th>\n",
       "      <th>offer_cat</th>\n",
       "      <th>year</th>\n",
       "      <th>month</th>\n",
       "      <th>weekend</th>\n",
       "      <th>holiday</th>\n",
       "      <th>nnights</th>\n",
       "      <th>acc_type</th>\n",
       "      <th>ratings</th>\n",
       "      <th>dist_to_center_1</th>\n",
       "      <th>dist_to_center_2</th>\n",
       "    </tr>\n",
       "  </thead>\n",
       "  <tbody>\n",
       "    <tr>\n",
       "      <th>144928</th>\n",
       "      <td>Austria</td>\n",
       "      <td>Vienna</td>\n",
       "      <td>77.0</td>\n",
       "      <td>1.0 mile</td>\n",
       "      <td>City centre</td>\n",
       "      <td>3.8 miles</td>\n",
       "      <td>Donauturm</td>\n",
       "      <td>Neubau</td>\n",
       "      <td>1012</td>\n",
       "      <td>price for 1 night</td>\n",
       "      <td>...</td>\n",
       "      <td>1-15% offer</td>\n",
       "      <td>2017</td>\n",
       "      <td>11</td>\n",
       "      <td>0</td>\n",
       "      <td>0</td>\n",
       "      <td>1</td>\n",
       "      <td>Hotel</td>\n",
       "      <td>4.3</td>\n",
       "      <td>1.0</td>\n",
       "      <td>3.8</td>\n",
       "    </tr>\n",
       "  </tbody>\n",
       "</table>\n",
       "<p>1 rows × 29 columns</p>\n",
       "</div>"
      ],
      "text/plain": [
       "        country city_actual  rating_reviewcount center1distance center1label  \\\n",
       "144928  Austria      Vienna                77.0        1.0 mile  City centre   \n",
       "\n",
       "       center2distance center2label neighbourhood  price        price_night  \\\n",
       "144928       3.8 miles    Donauturm        Neubau   1012  price for 1 night   \n",
       "\n",
       "        ...    offer_cat  year  month  weekend holiday nnights  acc_type  \\\n",
       "144928  ...  1-15% offer  2017     11        0       0       1     Hotel   \n",
       "\n",
       "        ratings  dist_to_center_1 dist_to_center_2  \n",
       "144928      4.3               1.0              3.8  \n",
       "\n",
       "[1 rows x 29 columns]"
      ]
     },
     "execution_count": 131,
     "metadata": {},
     "output_type": "execute_result"
    }
   ],
   "source": [
    "df_Vienna"
   ]
  },
  {
   "cell_type": "code",
   "execution_count": null,
   "id": "94897490",
   "metadata": {},
   "outputs": [],
   "source": []
  }
 ],
 "metadata": {
  "kernelspec": {
   "display_name": "Python 3 (ipykernel)",
   "language": "python",
   "name": "python3"
  },
  "language_info": {
   "codemirror_mode": {
    "name": "ipython",
    "version": 3
   },
   "file_extension": ".py",
   "mimetype": "text/x-python",
   "name": "python",
   "nbconvert_exporter": "python",
   "pygments_lexer": "ipython3",
   "version": "3.11.4"
  }
 },
 "nbformat": 4,
 "nbformat_minor": 5
}
