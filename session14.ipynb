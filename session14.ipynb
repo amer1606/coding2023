{
  "nbformat": 4,
  "nbformat_minor": 0,
  "metadata": {
    "colab": {
      "provenance": [],
      "authorship_tag": "ABX9TyOoCyZHMrHHeaP622kdTZyK",
      "include_colab_link": true
    },
    "kernelspec": {
      "name": "python3",
      "display_name": "Python 3"
    },
    "language_info": {
      "name": "python"
    }
  },
  "cells": [
    {
      "cell_type": "markdown",
      "metadata": {
        "id": "view-in-github",
        "colab_type": "text"
      },
      "source": [
        "<a href=\"https://colab.research.google.com/github/misrori/coding2023/blob/main/session14.ipynb\" target=\"_parent\"><img src=\"https://colab.research.google.com/assets/colab-badge.svg\" alt=\"Open In Colab\"/></a>"
      ]
    },
    {
      "cell_type": "code",
      "execution_count": null,
      "metadata": {
        "id": "mqZHM2uCJu3a"
      },
      "outputs": [],
      "source": [
        "import requests\n",
        "import re\n"
      ]
    },
    {
      "cell_type": "markdown",
      "source": [
        "# Day 1"
      ],
      "metadata": {
        "id": "Ggn9DKPM0URl"
      }
    },
    {
      "cell_type": "code",
      "source": [
        "data = requests.get(\"https://raw.githubusercontent.com/misrori/aoc/2022/day1.txt\").text.split('\\n\\n')\n",
        "data.pop()\n"
      ],
      "metadata": {
        "colab": {
          "base_uri": "https://localhost:8080/",
          "height": 36
        },
        "id": "X4k7nu960TVo",
        "outputId": "f666d214-85b2-4a10-ce60-d516384fdda9"
      },
      "execution_count": null,
      "outputs": [
        {
          "output_type": "execute_result",
          "data": {
            "text/plain": [
              "'2329\\n4814\\n4002\\n5247\\n4074\\n5463\\n5404\\n3785\\n1671\\n2970\\n3619\\n5702\\n4895\\n3947\\n1567\\n'"
            ],
            "application/vnd.google.colaboratory.intrinsic+json": {
              "type": "string"
            }
          },
          "metadata": {},
          "execution_count": 5
        }
      ]
    },
    {
      "cell_type": "code",
      "source": [
        "max([ sum([int(x) for x in  x.split('\\n')]) for x in data])"
      ],
      "metadata": {
        "colab": {
          "base_uri": "https://localhost:8080/"
        },
        "id": "SRRhIHVoKR5M",
        "outputId": "dd1f0c95-4fd9-4ed5-ed99-1f3bd26b62d2"
      },
      "execution_count": null,
      "outputs": [
        {
          "output_type": "execute_result",
          "data": {
            "text/plain": [
              "70116"
            ]
          },
          "metadata": {},
          "execution_count": 6
        }
      ]
    },
    {
      "cell_type": "code",
      "source": [
        "from numpy import sort\n",
        "sum(sort([sum([int(x) for x in  x.split('\\n')]) for x in data])[::-1][0:3])\n",
        "# sort(reverse=True)\n"
      ],
      "metadata": {
        "colab": {
          "base_uri": "https://localhost:8080/"
        },
        "id": "1rXZ-z0ZKZ-p",
        "outputId": "4f08044b-a148-4d84-df3a-d3c3740f0f95"
      },
      "execution_count": null,
      "outputs": [
        {
          "output_type": "execute_result",
          "data": {
            "text/plain": [
              "206582"
            ]
          },
          "metadata": {},
          "execution_count": 7
        }
      ]
    },
    {
      "cell_type": "markdown",
      "source": [
        "# Day2"
      ],
      "metadata": {
        "id": "XZOz0FcD0NMQ"
      }
    },
    {
      "cell_type": "code",
      "source": [
        "\n"
      ],
      "metadata": {
        "id": "dAuxcYe8MjhM",
        "colab": {
          "base_uri": "https://localhost:8080/",
          "height": 36
        },
        "outputId": "0753f1c4-2b99-44b1-a92c-a82301c85554"
      },
      "execution_count": null,
      "outputs": [
        {
          "output_type": "execute_result",
          "data": {
            "text/plain": [
              "''"
            ],
            "application/vnd.google.colaboratory.intrinsic+json": {
              "type": "string"
            }
          },
          "metadata": {},
          "execution_count": 20
        }
      ]
    },
    {
      "cell_type": "code",
      "source": [
        "data = requests.get(\"https://raw.githubusercontent.com/misrori/aoc/2022/day2.txt\").text.split('\\n')\n",
        "data.pop()\n",
        "\n",
        "game_mapping = {\n",
        "    'A': 'Rock',\n",
        "    'B': 'Paper',\n",
        "    'C': 'Scissors',\n",
        "    'X': 'Rock',\n",
        "    'Y': 'Paper',\n",
        "    'Z': 'Scissors'\n",
        "}\n",
        "\n",
        "base_points = {\n",
        "    'Rock': 1,\n",
        "    'Paper': 2,\n",
        "    'Scissors':3\n",
        "}\n",
        "\n",
        "# Function to apply the mapping\n",
        "def map_input(input_str):\n",
        "    p1, p2 = input_str.split()\n",
        "    return [game_mapping[p1], game_mapping[p2]]\n",
        "\n",
        "data = list(map(map_input, data))\n",
        "\n",
        "\n",
        "def play_rock_paper_scissors(player1_choice, player2_choice):\n",
        "    if player1_choice == player2_choice:\n",
        "        return base_points[player2_choice] + 3\n",
        "    elif (\n",
        "        (player1_choice == 'Rock' and player2_choice == 'Scissors') or\n",
        "        (player1_choice == 'Paper' and player2_choice == 'Rock') or\n",
        "        (player1_choice == 'Scissors' and player2_choice == 'Paper')\n",
        "    ):\n",
        "        return base_points[player2_choice]\n",
        "    else:\n",
        "        return base_points[player2_choice] +6\n",
        "\n",
        "sum([play_rock_paper_scissors(x[0], x[1]) for x in data])"
      ],
      "metadata": {
        "id": "M4yV1PGn0khv"
      },
      "execution_count": null,
      "outputs": []
    },
    {
      "cell_type": "code",
      "source": [],
      "metadata": {
        "colab": {
          "base_uri": "https://localhost:8080/"
        },
        "id": "bOh7WsK--dEy",
        "outputId": "09a24384-3054-4e0d-f70b-2faf8998534f"
      },
      "execution_count": null,
      "outputs": [
        {
          "output_type": "execute_result",
          "data": {
            "text/plain": [
              "13009"
            ]
          },
          "metadata": {},
          "execution_count": 27
        }
      ]
    },
    {
      "cell_type": "code",
      "source": [
        "def play_rock_paper_scissors(player1_choice, player2_choice):\n",
        "    game_mapping = {\n",
        "        'Rock': 'Scissors',\n",
        "        'Paper': 'Rock',\n",
        "        'Scissors': 'Paper'\n",
        "    }\n",
        "\n",
        "    if game_mapping[player1_choice] == player2_choice:\n",
        "        return 'Player 1 wins!'\n",
        "    elif game_mapping[player2_choice] == player1_choice:\n",
        "        return 'Player 2 wins!'\n",
        "    else:\n",
        "        return 'It\\'s a tie!'\n"
      ],
      "metadata": {
        "id": "6VKXhQ0x3J85"
      },
      "execution_count": null,
      "outputs": []
    },
    {
      "cell_type": "code",
      "source": [
        "data = requests.get(\"https://raw.githubusercontent.com/misrori/aoc/2022/day2.txt\").text.split('\\n')\n",
        "data.pop()\n",
        "print(data[0:5])\n",
        "\n",
        "game_mapping = {\n",
        "    'A': 'Rock',\n",
        "    'B': 'Paper',\n",
        "    'C': 'Scissors'\n",
        "}\n",
        "\n",
        "game_result = {\n",
        "    'X': 'lose',\n",
        "    'Y': 'draw',\n",
        "    'Z': 'win'\n",
        "}\n",
        "\n",
        "rules ={\n",
        "    'Rock':{'win':'Paper', 'lose': 'Scissors', 'draw': 'Rock'},\n",
        "    'Paper':{'win':'Scissors', 'lose': 'Rock', 'draw': 'Paper'},\n",
        "    'Scissors':{'win':'Rock', 'lose': 'Paper', 'draw': 'Scissors'}\n",
        "}\n",
        "\n",
        "\n",
        "def map_input(input_str):\n",
        "    p1, p2 = input_str.split()\n",
        "    player1 = game_mapping[p1]\n",
        "    player2 = rules[game_mapping[p1]][game_result[p2]]\n",
        "    return [player1, player2 ]\n",
        "\n",
        "data = list(map(map_input, data))\n",
        "\n",
        "\n",
        "\n",
        "def play_rock_paper_scissors(player1_choice, player2_choice):\n",
        "    if player1_choice == player2_choice:\n",
        "        return base_points[player2_choice] + 3\n",
        "    elif (\n",
        "        (player1_choice == 'Rock' and player2_choice == 'Scissors') or\n",
        "        (player1_choice == 'Paper' and player2_choice == 'Rock') or\n",
        "        (player1_choice == 'Scissors' and player2_choice == 'Paper')\n",
        "    ):\n",
        "        return base_points[player2_choice]\n",
        "    else:\n",
        "        return base_points[player2_choice] +6\n",
        "\n",
        "sum([play_rock_paper_scissors(x[0], x[1]) for x in data])"
      ],
      "metadata": {
        "colab": {
          "base_uri": "https://localhost:8080/"
        },
        "id": "emlWMsG2BZT5",
        "outputId": "dc802022-b8e4-45d4-91de-940149584f82"
      },
      "execution_count": null,
      "outputs": [
        {
          "output_type": "stream",
          "name": "stdout",
          "text": [
            "['A Y', 'B X', 'C X', 'A Z', 'B Y']\n"
          ]
        },
        {
          "output_type": "execute_result",
          "data": {
            "text/plain": [
              "10398"
            ]
          },
          "metadata": {},
          "execution_count": 35
        }
      ]
    }
  ]
}